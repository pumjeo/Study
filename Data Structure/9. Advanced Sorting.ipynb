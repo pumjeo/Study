{
 "cells": [
  {
   "cell_type": "markdown",
   "id": "7dc05647",
   "metadata": {},
   "source": [
    "### Shell Sort"
   ]
  },
  {
   "cell_type": "code",
   "execution_count": 1,
   "id": "423fb349",
   "metadata": {},
   "outputs": [
    {
     "name": "stdout",
     "output_type": "stream",
     "text": [
      "Original  : [5, 3, 8, 4, 9, 1, 6, 2, 7]\n",
      "     Gap= 5 [1, 3, 2, 4, 9, 5, 6, 8, 7]\n",
      "     Gap= 3 [1, 3, 2, 4, 8, 5, 6, 9, 7]\n",
      "     Gap= 1 [1, 2, 3, 4, 5, 6, 7, 8, 9]\n",
      "Shell     : [1, 2, 3, 4, 5, 6, 7, 8, 9]\n"
     ]
    }
   ],
   "source": [
    "def sortGapInsertion(A, first, last, gap) : # 셸 정렬에 사용되는 삽입정렬\n",
    "    for i in range(first+gap, last+1, gap) : # list의 요소를 gap만큼 건너뛰면서 삽입\n",
    "        key = A[i]\n",
    "        j = i - gap\n",
    "        while j >= first and key<A[j] : # 삽입 위치를 찾음\n",
    "            A[j + gap] = A[j] # 요소들을 이동할 때도 gap만큼 건너뛰면서 처리\n",
    "            j = j - gap \n",
    "        A[j + gap] = key # 최종 위치에 삽입\n",
    "\n",
    "\n",
    "def shell_sort(A) : # 셸 정렬 알고리즘\n",
    "    n = len(A)\n",
    "    gap = n//2 # 최초의 gap : 리스트 크기의 절반\n",
    "    while gap > 0 :\n",
    "        if (gap % 2) == 0 : gap += 1\t# gap이 짝수이면 1을 더함 \n",
    "        for i in range(gap) : # gap개의 부분 리스트를 각각 삽입정렬\n",
    "            sortGapInsertion(A, i, n - 1, gap);\n",
    "        print('     Gap=', gap, A) # 중간 결과 출력용\n",
    "        gap = gap//2 # gap을 반으로 줄임(정수 나눗셈)\n",
    "\n",
    "\n",
    "data = [ 5, 3, 8, 4, 9, 1, 6, 2, 7 ]\n",
    "print(\"Original  :\", data)\n",
    "shell_sort(data)\n",
    "print(\"Shell     :\", data)"
   ]
  },
  {
   "cell_type": "markdown",
   "id": "31a8948d",
   "metadata": {},
   "source": [
    "### Heap Sort"
   ]
  },
  {
   "cell_type": "code",
   "execution_count": 2,
   "id": "8ea52065",
   "metadata": {},
   "outputs": [],
   "source": [
    "# 코드 8.14: 최대힙의 삽입 알고리즘         참고 코드: ch08/MaxHeap.py\n",
    "def heappush(heap, n) :\n",
    "    heap.append(n)\t\t    # 맨 마지막 노드로 일단 삽입\n",
    "    i = len(heap)-1\t\t\t# 노드 n의 위치\n",
    "    while i != 1 :          # n이 루트가 아니면 up-heap 진행\n",
    "        pi = i//2           # 부모 노드의 위치\n",
    "        if n <= heap[pi]:   # 부모보다 작으면 up-heap 종료\n",
    "            break\n",
    "        heap[i] = heap[pi]\t# 부모를 끌어내림\n",
    "        i = pi\t\t\t    # i가 부모의 인덱스가 됨\n",
    "    heap[i] = n\t\t\t    # 마지막 위치에 n 삽입\n",
    "\n",
    "\n",
    "# 코드 8.15: 최대힙의 삭제 알고리즘         참고 코드: ch08/MaxHeap.py\n",
    "def heappop(heap) :\n",
    "    size = len(heap) - 1    # 노드의 개수\n",
    "    if size == 0 :          # 공백상태\n",
    "        return None\n",
    "\n",
    "    root = heap[1]\t\t    # 삭제할 루트 노드(사장)\n",
    "    last = heap[size]\t    # 마지막 노드(말단사원)\n",
    "    pi = 1                  # 부모 노드의 인덱스\n",
    "    i = 2                   # 자식 노드의 인덱스\n",
    "\n",
    "    while (i <= size):\t    # 마지막 노드 이전까지\n",
    "        if i<size and heap[i] < heap[i+1]:  # right가 더 크면 i를 1 증가 (기본은 왼쪽 노드)\n",
    "            i += 1          # 비교할 자식은 오른쪽 자식\n",
    "        if last >= heap[i]: # 자식이 더 작으면 down-heap 종료\n",
    "            break\n",
    "        heap[pi] = heap[i]  # 아니면 down-heap 계속\n",
    "        pi = i              \n",
    "        i *= 2\n",
    "\n",
    "    heap[pi] = last\t        # 맨 마지막 노드를 parent위치에 복사\n",
    "    heap.pop()\t\t        # 맨 마지막 노드 삭제\n",
    "    return root\t\t\t    # 저장해두었던 루트를 반환"
   ]
  },
  {
   "cell_type": "code",
   "execution_count": 4,
   "id": "22c52d3d",
   "metadata": {},
   "outputs": [],
   "source": [
    "def heapSort1(data): # 최대힙을 이용한 힙 정렬 알고리즘\n",
    "    heap = [0]\n",
    "    for e in data :  # 모든 데이터를 힙에 삽입\n",
    "        heappush(heap, e)\n",
    "    for i in range(1, len(data)+1) : # 모든 데이터를 힙에서 꺼내 역순으로 저장\n",
    "        data[-i] = heappop(heap) # 음수 인덱스 : -1, -2, ..., -n\n",
    "\n",
    "def heapify(arr, n, i): # 배열을 최대힙으로 바꾸는 heapify 함수\n",
    "    # arr : 입력 배열, n : 배열 arr의 크기, i : 현재 루트노드 인덱스\n",
    "    largest = i         # i번째가 가장 크다고 하자 \n",
    "    l = 2 * i + 1       # 왼쪽 자식 : left = 2*i + 1 \n",
    "    r = 2 * i + 2       # 오른쪽 자식 : right = 2*i + 2 \n",
    "  \n",
    "    if l < n and arr[i] < arr[l]: largest = l # 현재 루트(i)와 두 자식 중에 가장 큰 요소의 인덱스\n",
    "    if r < n and arr[largest] < arr[r]:  largest = r \n",
    "\n",
    "    if largest != i: # 교환이 필요하면 교환. 필요하지 않으면 다운힙 종료\n",
    "        arr[i],arr[largest] = arr[largest],arr[i]\n",
    "  \n",
    "        heapify(arr, n, largest) # 순환적으로 자식노드 처리\n",
    "    \n",
    "def heapSort(arr): # 제자리 정렬로 구현된 힙 정렬\n",
    "    n = len(arr) \n",
    "  \n",
    "    print(\"i=\", 0, arr) # 중간결과 출력용\n",
    "    for i in range(n//2, -1, -1): # 배열의 중앙 앞쪽 요소들을 순서적으로 최대힙화\n",
    "        heapify(arr, n, i) \n",
    "        print(\"i=\", i, arr) # 중간결과 출력용\n",
    "  \n",
    "    print() # 중간결과 출력용\n",
    "    # 최대 힙의 루트를 마지막 요소와 교체하고, 마지막 요소를 제외한 배열에서 루트(0번)부터 다운힙화\n",
    "    for i in range(n-1, 0, -1): \n",
    "        arr[i], arr[0] = arr[0], arr[i]\n",
    "        heapify(arr, i, 0) \n",
    "        print(\"i=\", i, arr) # 중간결과 출력용"
   ]
  },
  {
   "cell_type": "code",
   "execution_count": 5,
   "id": "3ea6d66d",
   "metadata": {},
   "outputs": [
    {
     "name": "stdout",
     "output_type": "stream",
     "text": [
      "최대힙 이용\n",
      "정렬전: [5, 3, 8, 4, 9, 1, 6, 2, 7]\n",
      "정렬후: [1, 2, 3, 4, 5, 6, 7, 8, 9]\n",
      "\n",
      "제자리 정렬\n",
      "정렬전: [5, 3, 8, 4, 9, 1, 6, 2, 7]\n",
      "i= 0 [5, 3, 8, 4, 9, 1, 6, 2, 7]\n",
      "i= 4 [5, 3, 8, 4, 9, 1, 6, 2, 7]\n",
      "i= 3 [5, 3, 8, 7, 9, 1, 6, 2, 4]\n",
      "i= 2 [5, 3, 8, 7, 9, 1, 6, 2, 4]\n",
      "i= 1 [5, 9, 8, 7, 3, 1, 6, 2, 4]\n",
      "i= 0 [9, 7, 8, 5, 3, 1, 6, 2, 4]\n",
      "\n",
      "i= 8 [8, 7, 6, 5, 3, 1, 4, 2, 9]\n",
      "i= 7 [7, 5, 6, 2, 3, 1, 4, 8, 9]\n",
      "i= 6 [6, 5, 4, 2, 3, 1, 7, 8, 9]\n",
      "i= 5 [5, 3, 4, 2, 1, 6, 7, 8, 9]\n",
      "i= 4 [4, 3, 1, 2, 5, 6, 7, 8, 9]\n",
      "i= 3 [3, 2, 1, 4, 5, 6, 7, 8, 9]\n",
      "i= 2 [2, 1, 3, 4, 5, 6, 7, 8, 9]\n",
      "i= 1 [1, 2, 3, 4, 5, 6, 7, 8, 9]\n",
      "정렬후: [1, 2, 3, 4, 5, 6, 7, 8, 9]\n"
     ]
    }
   ],
   "source": [
    "# 힙 테스트 프로그램\n",
    "data = [5, 3, 8, 4, 9, 1, 6, 2, 7]\t\t# 힙에 삽입할 데이터\n",
    "print(\"최대힙 이용\")\n",
    "print(\"정렬전:\", data)\n",
    "heapSort1(data)\n",
    "print(\"정렬후:\", data)\n",
    "\n",
    "data = [5, 3, 8, 4, 9, 1, 6, 2, 7]\t\t# 힙에 삽입할 데이터\n",
    "print(\"\\n제자리 정렬\")\n",
    "print(\"정렬전:\", data)\n",
    "heapSort(data)\n",
    "print(\"정렬후:\", data)"
   ]
  },
  {
   "cell_type": "markdown",
   "id": "bdce0130",
   "metadata": {},
   "source": [
    "### Merge Sort"
   ]
  },
  {
   "cell_type": "code",
   "execution_count": 6,
   "id": "8ca99a41",
   "metadata": {},
   "outputs": [],
   "source": [
    "sorted = [0]*100\n",
    "\n",
    "def merge_sort(A, left, right) : # 병합 정렬\n",
    "    if left<right : # 정렬할 요소가 두 개 이상인 경우만 처리. 하나이면 이미 정렬된 것\n",
    "        mid = (left + right) // 2 # 리스트를 반으로 균등 분할\n",
    "        merge_sort(A, left, mid)  # 왼쪽 부분 리스트 순환적으로 정렬\n",
    "        merge_sort(A, mid + 1, right) #  오른쪽부분 리스트 순환적으로 정렬\n",
    "        merge(A, left, mid, right)# 정렬된 두 리스트를 병합(실제 정렬이 이루어짐)\n",
    "\n",
    "def merge(A, left, mid, right) : # 병합 정렬을 위한 merge() 함수\n",
    "    global sorted # 병합을 위한 추가적인 배열\n",
    "    k = left # 배열 C(정렬될 리스트)의 인덱스\n",
    "    i = left # 배열 A의 인덱스\n",
    "    j = mid + 1 # 배열 B의 인덱스\n",
    "    while i<=mid and j<=right : # 어느 한쪽 부분이 모두 처리될 때까지 진행\n",
    "        if A[i] <= A[j] :\n",
    "            sorted[k] = A[i] # 더 작은 요소를 sorted에 복사\n",
    "            i, k = i+1, k+1 # 그 부분 배열의 인덱스를 증가\n",
    "        else:\n",
    "            sorted[k] = A[j]\n",
    "            j, k = j+1, k+1\n",
    "\n",
    "    if i > mid : # 남은 부분 배열의 모든 요소를 sorted로 복사. 슬라이싱 이용\n",
    "        sorted[k:k+right-j+1] = A[j:right+1]\n",
    "    else :\n",
    "        sorted[k:k+mid-i+1] = A[i:mid+1]\n",
    "\n",
    "    A[left:right+1] = sorted[left:right+1] # 임시 리스트의 결과를 원래 리스트 A에 복사"
   ]
  },
  {
   "cell_type": "code",
   "execution_count": 7,
   "id": "6e4e3d1d",
   "metadata": {},
   "outputs": [
    {
     "name": "stdout",
     "output_type": "stream",
     "text": [
      "Original  :  [5, 3, 8, 4, 9, 1, 6, 2, 7]\n",
      "Merge     :  [1, 2, 3, 4, 5, 6, 7, 8, 9]\n"
     ]
    }
   ],
   "source": [
    "# 테스트 프로그램\n",
    "data = [ 5, 3, 8, 4, 9, 1, 6, 2, 7 ]\n",
    "print(\"Original  : \", data)\n",
    "merge_sort(data, 0, len(data)-1)\n",
    "print(\"Merge     : \", data)"
   ]
  },
  {
   "cell_type": "markdown",
   "id": "a34959e4",
   "metadata": {},
   "source": [
    "### Quick Sort"
   ]
  },
  {
   "cell_type": "code",
   "execution_count": 8,
   "id": "475b975e",
   "metadata": {},
   "outputs": [
    {
     "name": "stdout",
     "output_type": "stream",
     "text": [
      "Original  : [5, 3, 8, 4, 9, 1, 6, 2, 7]\n",
      "Quick     : [1, 2, 3, 4, 5, 6, 7, 8, 9]\n"
     ]
    }
   ],
   "source": [
    "def quick_sort(A, left, right) : # 퀵 정렬(배열의 left~right 항목을 오름차순으로 정렬)\n",
    "    if left<right : # 정렬할 요소가 두 개 이상인 경우만 처리. 하나이면 이미 정렬된 것\n",
    "        q = partition(A, left, right) # 피벗을 중심으로 좌우로 분할 \n",
    "        quick_sort(A, left, q - 1)    # 왼쪽 부분리스트를 퀵 정렬\n",
    "        quick_sort(A, q + 1, right)   # 오른쪽 부분리스트를 퀵 정렬\n",
    "\n",
    "def partition(A, left, right) : # 퀵 정렬을 위한 partition() 함수\n",
    "    low = left + 1 # 왼쪽 부분 리스트의 인덱스 (증가 방향)\n",
    "    high = right # 오른쪽 부분 리스트의 인덱스 (감소 방향)\n",
    "    pivot = A[left]       # 피벗 설정 \n",
    "    while (low < high) : # low와 high가 역전되지 않는 한 반복\n",
    "        while low <= right and A[low] < pivot : low += 1\n",
    "        while high >= left and A[high]> pivot : high-= 1\n",
    "\n",
    "        if low < high : # 조건에 맞지 않는 요소를 찾아 두 요소를 교환 \n",
    "            A[low], A[high] = A[high], A[low]\n",
    "\n",
    "    A[left], A[high] = A[high], A[left] # 마지막으로 피벗과 high 교환\n",
    "    return high # 피벗의 위치를 반환\n",
    "\n",
    "# 테스트 프로그램\n",
    "data = [ 5, 3, 8, 4, 9, 1, 6, 2, 7 ]\n",
    "print(\"Original  :\", data)\n",
    "quick_sort(data, 0, len(data)-1)\n",
    "print(\"Quick     :\", data)"
   ]
  },
  {
   "cell_type": "markdown",
   "id": "85bd84d7",
   "metadata": {},
   "source": [
    "### Dual Pivot Quick Sort"
   ]
  },
  {
   "cell_type": "code",
   "execution_count": 13,
   "id": "763777e2",
   "metadata": {},
   "outputs": [],
   "source": [
    "def dp_quick_sort(A, low, high) : # 이중 피벗 퀵 정렬\n",
    "    if low < high :\n",
    "        lp, rp = partitionDP(A, low, high)  # 좌우 피벗의 인덱스를 반환받음\n",
    "        dp_quick_sort(A, low, lp-1)         # low ~ lp-1 정렬\n",
    "        dp_quick_sort(A, lp+1, rp-1)        # lp+1 ~ rp-1 정렬\n",
    "        dp_quick_sort(A, rp+1, high)        # rp+1 ~ high 정렬"
   ]
  },
  {
   "cell_type": "code",
   "execution_count": 14,
   "id": "71737c19",
   "metadata": {},
   "outputs": [],
   "source": [
    "def partitionDP(A, low, high) : # 이중피벗 퀵 정렬을 위한 분할 함수\n",
    "    if A[low] > A[high]:            # low와 high를 각각 좌우 피벗으로 사용\n",
    "        A[low], A[high] = A[high], A[low] # 오른쪽 피벗이 왼쪽 이상이게끔 필요하면 교환\n",
    "\n",
    "    j = low + 1                     # 왼쪽 피벗보다 작은 최대 인덱스\n",
    "    g = high - 1                    # 오른쪽 피벗보다 큰 최소 인덱스\n",
    "    k = low + 1                     # low+1부터 하나씩 증가\n",
    "    lpVal = A[low]                  # 왼쪽 피벗 값\n",
    "    rpVal = A[high]                 # 오른쪽 피벗 값\n",
    "    while (k <= g) :\n",
    "        if (A[k] < lpVal) :         # A[k]가 왼쪽 피벗보다 작으면\n",
    "            A[k], A[j] = A[j], A[k] # 교환\n",
    "            j += 1                  # j만 증가시킴\n",
    "\n",
    "        elif (A[k] >= rpVal) :      # A[k]가 오른쪽 피벗 이상이면\n",
    "            while (A[g] > rpVal  and  k < g) : # 조건에 맞지 않는 g의 위치를 찾은 후 \n",
    "                g -= 1\n",
    "            A[k], A[g] = A[g], A[k] # A[k]와 A[g]를 교환\n",
    "            g -= 1\n",
    "\n",
    "            if (A[k] < lpVal) :         # 변경된 A[k]가 왼쪽 피벗보다 작으면\n",
    "                A[k], A[j] = A[j], A[k] # 다시 교환\n",
    "                j += 1 \n",
    "        k += 1 \n",
    "\n",
    "    j -= 1 \n",
    "    g += 1 \n",
    "    A[low], A[j] = A[j], A[low]     # 피벗을 제 위치로: j:왼쪽피벗\n",
    "    A[high], A[g] = A[g], A[high]   # 피벗을 제 위치로: g:왼쪽피벗\n",
    "  \n",
    "    return j, g     # 왼쪽과 오른쪽 피벗의 인덱스를 반환"
   ]
  },
  {
   "cell_type": "code",
   "execution_count": 15,
   "id": "f5a3019e",
   "metadata": {},
   "outputs": [
    {
     "name": "stdout",
     "output_type": "stream",
     "text": [
      "Original  : [5, 3, 8, 4, 9, 1, 6, 2, 7]\n",
      "DPQuick   : [1, 2, 3, 4, 5, 6, 7, 8, 9]\n"
     ]
    }
   ],
   "source": [
    "# 테스트 프로그램\n",
    "data = [ 5, 3, 8, 4, 9, 1, 6, 2, 7 ]\n",
    "print(\"Original  :\", data)\n",
    "dp_quick_sort(data, 0, len(data)-1) \n",
    "print(\"DPQuick   :\", data)"
   ]
  },
  {
   "cell_type": "markdown",
   "id": "5346528b",
   "metadata": {},
   "source": [
    "### Radix Sort"
   ]
  },
  {
   "cell_type": "code",
   "execution_count": 17,
   "id": "0d21d57a",
   "metadata": {},
   "outputs": [],
   "source": [
    "from queue import Queue\n",
    "from collections import deque\n",
    "\n",
    "def radix_sort(A) : # 기수 정렬\n",
    "    queues = [] # 큐의 리스트\n",
    "    for i in range(BUCKETS) :\n",
    "        queues.append(Queue()) # BUCKETS개의 큐 사용\n",
    "\n",
    "    n = len(A)\n",
    "    factor = 1 # 1의 자리부터 시작\n",
    "    for d in range(DIGITS) : # 모든 자리에 대해\n",
    "        for i in range(n) : # 모든 요소를 순서대로 해당 버킷에 삽입\n",
    "            queues[(A[i]//factor) % BUCKETS].put(A[i])\n",
    "\n",
    "        i = 0\n",
    "        for b in range(BUCKETS) : # 첫 번째 버킷부터 순서대로 모든 버킷의 자료를 꺼내\n",
    "            while not queues[b].empty() :\n",
    "                A[i] = queues[b].get() # 순서대로 입력 배열에 저장\n",
    "                i += 1\n",
    "        factor *= 10 # 그 다음 자리수로 간다.\n",
    "        print(\"step\", d+1, A) # 중간 과정 출력용 문장"
   ]
  },
  {
   "cell_type": "code",
   "execution_count": 18,
   "id": "95fef839",
   "metadata": {},
   "outputs": [
    {
     "name": "stdout",
     "output_type": "stream",
     "text": [
      "step 1 [5580, 7970, 2751, 2212, 2793, 8304, 4384, 4176, 1357, 4827]\n",
      "step 2 [8304, 2212, 4827, 2751, 1357, 7970, 4176, 5580, 4384, 2793]\n",
      "step 3 [4176, 2212, 8304, 1357, 4384, 5580, 2751, 2793, 4827, 7970]\n",
      "step 4 [1357, 2212, 2751, 2793, 4176, 4384, 4827, 5580, 7970, 8304]\n",
      "Radix: [1357, 2212, 2751, 2793, 4176, 4384, 4827, 5580, 7970, 8304]\n"
     ]
    }
   ],
   "source": [
    "# 기수 정렬 테스트 프로그램  \n",
    "import random\n",
    "BUCKETS = 10\n",
    "DIGITS  = 4\n",
    "\n",
    "data = []\n",
    "for i in range(10) :\n",
    "    data.append(random.randint(1,9999))\n",
    "\n",
    "radix_sort(data)\n",
    "print(\"Radix: \" + str(data))"
   ]
  }
 ],
 "metadata": {
  "kernelspec": {
   "display_name": "Python 3 (ipykernel)",
   "language": "python",
   "name": "python3"
  },
  "language_info": {
   "codemirror_mode": {
    "name": "ipython",
    "version": 3
   },
   "file_extension": ".py",
   "mimetype": "text/x-python",
   "name": "python",
   "nbconvert_exporter": "python",
   "pygments_lexer": "ipython3",
   "version": "3.10.9"
  }
 },
 "nbformat": 4,
 "nbformat_minor": 5
}
