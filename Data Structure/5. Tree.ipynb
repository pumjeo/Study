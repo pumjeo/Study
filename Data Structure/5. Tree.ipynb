{
 "cells": [
  {
   "cell_type": "markdown",
   "id": "bb8a7a17",
   "metadata": {},
   "source": [
    "### 이진트리"
   ]
  },
  {
   "cell_type": "code",
   "execution_count": 1,
   "id": "06065cad",
   "metadata": {},
   "outputs": [],
   "source": [
    "class TNode: # 이진트리를 위한 노드 클래스\n",
    "    def __init__(self, data, left, right): # 생성자\n",
    "        self.data = data # 노드의 데이터\n",
    "        self.left = left # 왼쪽 자식을 위한 링크\n",
    "        self.right = right # 오른쪽 자식을 위한 링크"
   ]
  },
  {
   "cell_type": "code",
   "execution_count": 3,
   "id": "0d79f310",
   "metadata": {},
   "outputs": [],
   "source": [
    "def preorder(n) : # 전위순회 함수\n",
    "    if n is not None :\n",
    "        print(n.data, end=' ') # 먼저 루트노드 처리(출력)\n",
    "        preorder(n.left) # 왼쪽 서브트리 처리\n",
    "        preorder(n.right) # 오른쪽 서브트리 처리\n",
    "\n",
    "def inorder(n) : # 중위순회 함수\n",
    "    if n is not None :\n",
    "        inorder(n.left) # 왼쪽 서브트리 처리\n",
    "        print(n.data, end=' ') # 루트노드 처리(출력)\n",
    "        inorder(n.right) # 오른쪽 서브트리 처리\n",
    "\n",
    "def postorder(n) : # 후위순회 함수\n",
    "    if n is not None :\n",
    "        postorder(n.left)\n",
    "        postorder(n.right)\n",
    "        print(n.data, end=' ')\n",
    "\n",
    "from CircularQueue import CircularQueue\n",
    "\n",
    "def levelorder(root) : # 레벨 순회\n",
    "    queue = CircularQueue() # 큐 객체 초기화\n",
    "    queue.enqueue(root) # 최초에 큐에는 루트 노드만 있음\n",
    "    while not queue.isEmpty() : # 큐가 공백 상태가 아닌동안\n",
    "        n = queue.dequeue() # 큐에서 맨 앞의 노드 n을 꺼냄\n",
    "        if n is not None :\n",
    "            print(n.data, end=' ') # 먼저 노드의 정보를 출력\n",
    "            queue.enqueue(n.left) # n의 왼쪽 자식 노드를 큐에 삽입\n",
    "            queue.enqueue(n.right) # n의 오른쪽 자식 노드를 큐에 삽입"
   ]
  },
  {
   "cell_type": "code",
   "execution_count": 4,
   "id": "79eef09b",
   "metadata": {},
   "outputs": [],
   "source": [
    "def count_node(n) : # 순환을 이용해 이진트리의 노드 수 계산\n",
    "    if n is None : # n이 None이면 공백 트리 --> 0을 반환\n",
    "        return 0\n",
    "    else :  # 좌우 서브트리의 노드 수의 합 + 1을 반환(순환 이용)\n",
    "        return 1 + count_node(n.left) + count_node(n.right)\n",
    "     \n",
    "def count_leaf(n) : # 이진트리의 단말노드 수 계산 \n",
    "    if n is None : return 0 # 공백 트리 : 0을 반환\n",
    "    elif n.left is None and n.right is None : return 1 # 단말 노드 : 1을 반환\n",
    "    else : # 비단말 노드 : 좌우 서브트리의 결과 합을 반환 \n",
    "        return count_leaf(n.left) + count_leaf(n.right)\n",
    "\n",
    "def calc_height(n) : # 이진트리의 트리의 높이 계산\n",
    "    if n is None : return 0 # 공백 트리 : 0을 반환\n",
    "    hLeft = calc_height(n.left) # 왼쪽 트리의 높이\n",
    "    hRight = calc_height(n.right) # 오른쪽 트리의 높이\n",
    "    if (hLeft > hRight) : return hLeft + 1 # 더 높은 높이에 1을 더해 반환\n",
    "    else: return hRight + 1"
   ]
  },
  {
   "cell_type": "code",
   "execution_count": 5,
   "id": "b01f37ab",
   "metadata": {},
   "outputs": [
    {
     "name": "stdout",
     "output_type": "stream",
     "text": [
      "\n",
      "   In-Order : D B E A F C \n",
      "  Pre-Order : A B D E C F \n",
      " Post-Order : D E B F C A \n",
      "Level-Order : A B C D E F \n",
      " 노드의 개수 = 6개\n",
      " 단말의 개수 = 3개\n",
      " 트리의 높이 = 3\n"
     ]
    }
   ],
   "source": [
    "d = TNode('D', None, None)\n",
    "e = TNode('E', None, None)\n",
    "b = TNode('B', d, e)\n",
    "f = TNode('F', None, None)\n",
    "c = TNode('C', f, None)\n",
    "root = TNode('A', b, c)\n",
    "\n",
    "print('\\n   In-Order : ', end='')\n",
    "inorder(root)\n",
    "print('\\n  Pre-Order : ', end='')\n",
    "preorder(root)\n",
    "print('\\n Post-Order : ', end='')\n",
    "postorder(root)\n",
    "print('\\nLevel-Order : ', end='')\n",
    "levelorder(root)\n",
    "print()\n",
    "\n",
    "print(\" 노드의 개수 = %d개\" % count_node(root))\n",
    "print(\" 단말의 개수 = %d개\" % count_leaf(root))\n",
    "print(\" 트리의 높이 = %d\" % calc_height(root))"
   ]
  },
  {
   "cell_type": "code",
   "execution_count": 6,
   "id": "b0dae65d",
   "metadata": {},
   "outputs": [],
   "source": [
    "# 모스 코드 표\n",
    "table =[('A', '.-'),    ('B', '-...'),  ('C', '-.-.'),  ('D', '-..'),\n",
    "        ('E', '.'),     ('F', '..-.'),  ('G', '--.'),   ('H', '....'),\n",
    "        ('I', '..'),    ('J', '.---'),  ('K', '-.-'),   ('L', '.-..'),\n",
    "        ('M', '--'),    ('N', '-.'),    ('O', '---'),   ('P', '.--.'),\n",
    "        ('Q', '--.-'),  ('R', '.-.'),   ('S', '...'),   ('T', '-'),\n",
    "        ('U', '..-'),   ('V', '...-'),  ('W', '.--'),   ('X', '-..-'),\n",
    "        ('Y', '-.--'),  ('Z', '--..') ]\n",
    "\n",
    "def encode(ch): # 모스코드 인코딩\n",
    "    idx = ord(ch)-ord('A') # 리스트에서 해당 문자의 인덱스\n",
    "    return table[idx][1] # 해당 문자의 모스 부호 반환\n",
    "\n",
    "def decode_slow(code): # 모스코드 디코딩(순차탐색)\n",
    "    for e in table:\n",
    "        if code == e[1] :\n",
    "            return e[0]\n",
    "    return None"
   ]
  },
  {
   "cell_type": "code",
   "execution_count": 7,
   "id": "2df9546a",
   "metadata": {},
   "outputs": [],
   "source": [
    "def make_morse_tree(): # 모스 코드 결정 트리 만들기 \n",
    "    root = TNode( None, None, None )\n",
    "    for tp in table :\n",
    "        code = tp[1] # 모스 코드\n",
    "        node = root\n",
    "        for c in code : # 각 문자에 대해\n",
    "            if c == '.' : # 점이면 왼쪽 진행\n",
    "                if node.left == None : # 비었으면 빈 노드 만들기\n",
    "                    node.left = TNode (None, None, None)\n",
    "                node = node.left # 있으면 그쪽으로 이동\n",
    "            elif c == '-' : # 선이면 오른쪽 진행\n",
    "                if node.right == None : # 비었으면 빈 노드 만들기\n",
    "                    node.right = TNode (None, None, None)\n",
    "                node = node.right # 있으면 그쪽으로 이동\n",
    "\n",
    "        node.data = tp[0] # 코드의 알파벳\n",
    "    return root\n",
    "\n",
    "def decode(root, code): # 결정 트리를 이용한 디코딩 함수\n",
    "    node = root\n",
    "    for c in code : # 각 문자에 대해\n",
    "        if c == '.' : # 점 : 왼쪽으로 이동\n",
    "            node = node.left\n",
    "        elif c=='-' : # 선 : 오른쪽으로 이동\n",
    "           node = node.right\n",
    "    return node.data # 문자 반환"
   ]
  },
  {
   "cell_type": "code",
   "execution_count": 8,
   "id": "db2c9ede",
   "metadata": {},
   "outputs": [
    {
     "name": "stdout",
     "output_type": "stream",
     "text": [
      "입력 문장 : GAMEOVER\n",
      "Morse Code:  ['--.', '.-', '--', '.', '---', '...-', '.', '.-.']\n",
      "Decoding  : GAMEOVER\n",
      "GAMEOVER\n"
     ]
    }
   ],
   "source": [
    "# 모르스 코드 테스트 프로그램\n",
    "morseCodeTree = make_morse_tree()\n",
    "str = input(\"입력 문장 : \")\n",
    "mlist = []\n",
    "for ch in str:\n",
    "    code = encode(ch)\n",
    "    mlist.append(code)\n",
    "print(\"Morse Code: \", mlist)\n",
    "print(\"Decoding  : \", end='')\n",
    "for code in mlist:\n",
    "    ch = decode(morseCodeTree, code)\n",
    "    print(ch, end='')\n",
    "print()\n",
    "\n",
    "for code in mlist:\n",
    "    ch = decode_slow(code)\n",
    "    print(ch, end='')\n",
    "print()"
   ]
  },
  {
   "cell_type": "markdown",
   "id": "f70d8c29",
   "metadata": {},
   "source": [
    "### 힙 트리"
   ]
  },
  {
   "cell_type": "code",
   "execution_count": 9,
   "id": "a7fe84e9",
   "metadata": {},
   "outputs": [],
   "source": [
    "def heappush(heap, n) : # 최대힙의 삽입 알고리즘\n",
    "    heap.append(n) # 맨 마지막 노드로 일단 삽입\n",
    "    i = len(heap)-1 # 노드 n의 위치(자식 위치)\n",
    "    while i != 1 : # n이 루트가 아니면 up-heap 진행\n",
    "        pi = i//2 # 부모 노드의 위치\n",
    "        if n <= heap[pi]: # 부모보다 작으면 up-heap 종료\n",
    "            break\n",
    "        heap[i] = heap[pi] # 부모를 자식 위치로 끌어내림\n",
    "        i = pi # i가 부모의 위치로 올라감\n",
    "    heap[i] = n # 마지막 위치에 n 삽입\n",
    "\n",
    "def heappop(heap) : # 최대힙의 삭제 알고리즘\n",
    "    size = len(heap) - 1 # 노드의 개수(0번 인덱스 사용 X)\n",
    "    if size == 0 : # 공백 힙이면 None을 반환\n",
    "       return None\n",
    "\n",
    "    root = heap[1] # 삭제할 루트 노드(사장)\n",
    "    last = heap[size] # 마지막 노드(말단사원)\n",
    "    pi = 1 # 부모 노드의 인덱스\n",
    "    i = 2  # 자식 노드의 인덱스(일단 왼쪽 자식)\n",
    "\n",
    "    while (i <= size): # 더 내려갈 자식이 있을 때 까지 down-heap 진행\n",
    "        if i<size and heap[i] < heap[i+1]: # 오른쪽 자식이 더 크면\n",
    "            i += 1 # down-heap은 오른쪽 자식에 대해 처리\n",
    "        if last >= heap[i]: # 자식이 더 작으면 down-heap 종료\n",
    "            break\n",
    "        heap[pi] = heap[i]  # 더 큰 자식을 부모위치로 끌어올림\n",
    "        pi = i # 부모 위치가 자식 위치 i로 내려감\n",
    "        i *= 2 # 자식을 일단 부모의 왼쪽 자식\n",
    "\n",
    "    heap[pi] = last # 맨 마지막 노드를 parent 위치에 복사\n",
    "    heap.pop() # 맨 마지막 노드 삭제\n",
    "    return root # 저장해두었던 루트를 반환"
   ]
  },
  {
   "cell_type": "code",
   "execution_count": 10,
   "id": "d9536a0f",
   "metadata": {},
   "outputs": [
    {
     "name": "stdout",
     "output_type": "stream",
     "text": [
      "입력:  [2, 5, 4, 8, 9, 3, 7, 3]\n",
      "heap:  [2]\n",
      "heap:  [5, 2]\n",
      "heap:  [5, 2, 4]\n",
      "heap:  [8, 5, 4, 2]\n",
      "heap:  [9, 8, 4, 2, 5]\n",
      "heap:  [9, 8, 4, 2, 5, 3]\n",
      "heap:  [9, 8, 7, 2, 5, 3, 4]\n",
      "heap:  [9, 8, 7, 3, 5, 3, 4, 2]\n",
      "삭제:  9\n",
      "heap:  [8, 5, 7, 3, 2, 3, 4]\n",
      "삭제:  8\n",
      "heap:  [7, 5, 4, 3, 2, 3]\n"
     ]
    }
   ],
   "source": [
    "# 최대힙 테스트 프로그램\n",
    "if __name__ == \"__main__\":\n",
    "    data = [2, 5, 4, 8, 9, 3, 7, 3] # 힙에 삽입할 데이터\n",
    "    heap = [0]\n",
    "    print(\"입력: \", data)\n",
    "    for e in data : # 모든 데이터를 힙에 삽입\n",
    "        heappush(heap, e)\n",
    "        print(\"heap: \", heap[1:])\n",
    "\n",
    "    print(\"삭제: \", heappop(heap))\n",
    "    print(\"heap: \", heap[1:])\n",
    "    print(\"삭제: \", heappop(heap))\n",
    "    print(\"heap: \", heap[1:])"
   ]
  },
  {
   "cell_type": "code",
   "execution_count": 11,
   "id": "aad6ddd1",
   "metadata": {},
   "outputs": [
    {
     "name": "stdout",
     "output_type": "stream",
     "text": [
      " (15+12)\n",
      " (27+8)\n",
      " (35+6)\n",
      " (41+4)\n"
     ]
    }
   ],
   "source": [
    "def make_tree(freq):\n",
    "    heap = [0]\n",
    "    for n in freq :\n",
    "        heappush(heap,n) # 최소 힙을 만들고, 모든 노드를 삽입함\n",
    "        \n",
    "    for i in range(1,len(freq)):\n",
    "        e1 = heappop(heap) \n",
    "        e2 = heappop(heap) # 최소 힙에서 가장 작은 노드를 두 개 꺼냄\n",
    "        heappush(heap, e1+e2) # 이들의 빈도 수를 더해 최소힙에 다시 삽입\n",
    "        print(\" (%d+%d)\" % (e1, e2))\n",
    "        \n",
    "label = ['E', 'T', 'N', 'I', 'S']\n",
    "freq = [15, 12, 8, 6, 4]\n",
    "make_tree(freq)"
   ]
  },
  {
   "cell_type": "code",
   "execution_count": null,
   "id": "060a4178",
   "metadata": {},
   "outputs": [],
   "source": [
    "# 참고로 위 코드는 최대힙을 그대로 써서 결과가 잘못 나오긴 함"
   ]
  }
 ],
 "metadata": {
  "kernelspec": {
   "display_name": "Python 3 (ipykernel)",
   "language": "python",
   "name": "python3"
  },
  "language_info": {
   "codemirror_mode": {
    "name": "ipython",
    "version": 3
   },
   "file_extension": ".py",
   "mimetype": "text/x-python",
   "name": "python",
   "nbconvert_exporter": "python",
   "pygments_lexer": "ipython3",
   "version": "3.10.9"
  }
 },
 "nbformat": 4,
 "nbformat_minor": 5
}
