{
 "cells": [
  {
   "cell_type": "markdown",
   "id": "13279afb",
   "metadata": {},
   "source": [
    "### Weighted Graph"
   ]
  },
  {
   "cell_type": "code",
   "execution_count": 15,
   "id": "986f0b84",
   "metadata": {},
   "outputs": [
    {
     "name": "stdout",
     "output_type": "stream",
     "text": [
      "AM : weight sum =  174\n",
      "(A,B,29) (A,F,10) (B,C,16) (B,G,15) (C,D,12) (D,E,22) (D,G,18) (E,F,27) (E,G,25) \n"
     ]
    }
   ],
   "source": [
    "# 인접 행렬을 이용한 가중치 그래프 표현\n",
    "vertex =   ['A',    'B',    'C',    'D',    'E',    'F',    'G' ]\n",
    "weight = [ [None,\t29,\t\tNone,\tNone,\tNone,   10,\t\tNone],\n",
    "           [29,\tNone,\t16,\t\tNone,\tNone,\tNone,\t15  ],\n",
    "           [None,\t16,\t\tNone,\t12,\t\tNone,\tNone,\tNone],\n",
    "           [None,\tNone,   12,\t\tNone,\t22,\t\tNone,\t18  ],\n",
    "           [None,\tNone,\tNone,   22,\t\tNone,\t27,\t\t25  ],\n",
    "           [10,\tNone,\tNone,\tNone,   27,\t\tNone,\tNone],\n",
    "           [None,  15,\t\tNone,   18,\t\t25,\t\tNone,\tNone]]    \n",
    "\n",
    "\n",
    "# 가중치 그래프의 가중치 합(인접 행렬)\n",
    "def weightSum( vlist, W ): # 매개변수: 정점 리스트, 인접 행렬\n",
    "    sum = 0 # 가중치의 합\n",
    "    for i in range(len(vlist)) : # 모든 정점에 대해(i: 0, ... N-1)\n",
    "        for j in range(i+1, len(vlist)) : # 하나의 행에 대해 (삼각영역)\n",
    "            if W[i][j] != None : # 만약 간선이 있으면\n",
    "                sum += W[i][j] # sum에 추가\n",
    "    return sum # 전체 가중치 합을 반환\n",
    "\n",
    "\n",
    "# 가중치 그래프의 모든 간선 출력(인접 행렬)\n",
    "def printAllEdges(vlist, W ): # 매개변수: 정점 리스트, 인접 행렬\n",
    "    for i in range(len(vlist)) :\n",
    "        for j in range(i+1, len(W[i])) : # 모든 간선 W[i][j]에 대해\n",
    "            if W[i][j] != None and W[i][j] != 0 : # 간선이 있으면\n",
    "                print(\"(%s,%s,%d)\"%(vlist[i],vlist[j],W[i][j]), end=' ')\n",
    "    print()\n",
    "\n",
    "\n",
    "print('AM : weight sum = ', weightSum(vertex, weight))\n",
    "printAllEdges(vertex, weight)"
   ]
  },
  {
   "cell_type": "code",
   "execution_count": 16,
   "id": "0979bab2",
   "metadata": {},
   "outputs": [
    {
     "name": "stdout",
     "output_type": "stream",
     "text": [
      "AL : weight sum =  174\n",
      "(A,B,29) (A,F,10) (B,C,16) (B,G,15) (C,D,12) (D,E,22) (D,G,18) (E,G,25) (E,F,27) "
     ]
    }
   ],
   "source": [
    "# 딕셔너리와 집합을 이용한 가중치 그래프\n",
    "graphAL={'A': {('B',29),('F',10)          },\n",
    "        'B' : {('A',29),('C',16), ('G',15)},\n",
    "        'C' : {('B',16),('D',12)          },\n",
    "        'D' : {('C',12),('E',22), ('G',18)},\n",
    "        'E' : {('D',22),('F',27), ('G',25)},\n",
    "        'F' : {('A',10),('E',27)          },\n",
    "        'G' : {('B',15),('D',18), ('E',25)} }\n",
    "\n",
    "\n",
    "# 가중치 그래프의 가중치 합(인접 리스트)\n",
    "def weightSum(graph): # 가중치의 총 합을 구하는 함수\n",
    "    sum = 0\n",
    "    for v in graph:        # 그래프의 모든 정점 v에 대해: 'A', 'B', ...\n",
    "        for e in graph[v]: # v의 모든 간선 e에 대해: ('B', 29), ...\n",
    "            sum += e[1]    # sum에 추가\n",
    "    return sum//2         # 하나의 간선이 두 번 더해지므로 2로 나눔\n",
    "\n",
    "# 가중치 그래프의 모든 간선 출력(인접 리스트)\n",
    "def printAllEdges(graph):  # 모든 간선을 출력하는 함수\n",
    "    for v in graph:        # 그래프의 모든 정점 v에 대해: 'A', 'B', ...\n",
    "        for e in graph[v]: # v의 모든 간선 e에 대해: ('B', 29), ...\n",
    "            if v <= e[0] :\n",
    "                print(\"(%s,%s,%d)\"%(v,e[0],e[1]), end=' ')\n",
    "\n",
    "print('AL : weight sum = ', weightSum(graphAL))\n",
    "printAllEdges(graphAL)"
   ]
  },
  {
   "cell_type": "markdown",
   "id": "9384342c",
   "metadata": {},
   "source": [
    "### Minimum Spanning Tree"
   ]
  },
  {
   "cell_type": "code",
   "execution_count": 17,
   "id": "bf70f452",
   "metadata": {},
   "outputs": [],
   "source": [
    "parent = []     # 각 노드의 부모노드 인덱스\n",
    "set_size = 0    # 전체 집합의 개수\n",
    "\n",
    "def init_set(nSets) : # 집합의 초기화 함수\n",
    "    global set_size, parent # 전역변수 설정\n",
    "    set_size = nSets # 집합의 개수\n",
    "    for i in range(nSets): # 모든 집한에 대해\n",
    "        parent.append(-1) # 처음엔 각각 고유의 집합(부모가 -1)\n",
    "\n",
    "def find(id) : # 정점 id가 속한 집합의 대표번호 탐색\n",
    "    while (parent[id] >= 0) : # 부모가 있는 동안(-1이 아닌 동안)\n",
    "        id = parent[id] # id를 부모 id로 갱신 트리를 타고 올라감\n",
    "    return id # 최종 id 반환. 트리의 맨 위 노드의 id임\n",
    "\n",
    "def union(s1, s2) : # 두 집합을 병합(s1을 s2에 병합시킴)\n",
    "    global set_size # 전역변수 설정\n",
    "    parent[s1] = s2 # s1을 s2에 병합시킴 \n",
    "    set_size = set_size - 1; # 집합의 개수가 줄어듦"
   ]
  },
  {
   "cell_type": "code",
   "execution_count": 18,
   "id": "16ef49c8",
   "metadata": {},
   "outputs": [],
   "source": [
    "def MSTKruskal(vertex, adj): # Kruskal의 MST 알고리즘\n",
    "    vsize = len(vertex) # 정점의 개수\n",
    "    init_set(vsize)     # 정점 집합 초기화\n",
    "    eList = []          # 간선 리스트\n",
    "\n",
    "    for i in range(vsize-1) : # 모든 간선을 eList에 넣음\n",
    "        for j in range(i+1, vsize) :\n",
    "            if adj[i][j] != None :\n",
    "                eList.append((i,j,adj[i][j])) # 튜플로 저장\n",
    "\n",
    "    # 간선 리스트를 가중치의 내림차순으로 정렬 : 람다 함수 사용\n",
    "    eList.sort(key= lambda e : e[2], reverse=True)\n",
    "\n",
    "    edgeAccepted = 0\n",
    "    while (edgeAccepted < vsize - 1) :  # 정점 수 - 1개의 간선\n",
    "        e = eList.pop(-1)       # 가장 작은 가중치를 가진 간선\n",
    "        uset = find(e[0]);      # 두 정점이 속한 집합 번호\n",
    "        vset = find(e[1]);\n",
    "\n",
    "        if uset != vset :       # 두 정점이 다른 집합의 원소이면\n",
    "            print(\"간선 추가 : (%s, %s, %d)\" %\n",
    "                 (vertex[e[0]], vertex[e[1]], e[2]))\n",
    "            union(uset, vset)   # 두 집합을 병합\n",
    "            edgeAccepted += 1   # 간선이 하나 추가됨"
   ]
  },
  {
   "cell_type": "code",
   "execution_count": 19,
   "id": "ddbe66f0",
   "metadata": {},
   "outputs": [
    {
     "name": "stdout",
     "output_type": "stream",
     "text": [
      "MST By Kruskal's Algorithm\n",
      "간선 추가 : (A, F, 10)\n",
      "간선 추가 : (C, D, 12)\n",
      "간선 추가 : (B, G, 15)\n",
      "간선 추가 : (B, C, 16)\n",
      "간선 추가 : (D, E, 22)\n",
      "간선 추가 : (E, F, 27)\n"
     ]
    }
   ],
   "source": [
    "weight = [ [None,\t29,\t\tNone,\tNone,\tNone,   10,\t\tNone],\n",
    "           [29,\t\tNone,\t16,\t\tNone,\tNone,\tNone,\t15  ],\n",
    "           [None,\t16,\t\tNone,\t12,\t\tNone,\tNone,\tNone],\n",
    "           [None,\tNone,   12,\t\tNone,\t22,\t\tNone,\t18  ],\n",
    "           [None,\tNone,\tNone,   22,\t\tNone,\t27,\t\t25  ],\n",
    "           [10,\t\tNone,\tNone,\tNone,   27,\t\tNone,\tNone],\n",
    "           [None,   15,\t\tNone,   18,\t\t25,\t\tNone,\tNone]]    \n",
    "vertex =   ['A',    'B',    'C',    'D',    'E',    'F',    'G' ]\n",
    "\n",
    "print(\"MST By Kruskal's Algorithm\")\n",
    "MSTKruskal(vertex, weight)"
   ]
  },
  {
   "cell_type": "code",
   "execution_count": 23,
   "id": "54e7547d",
   "metadata": {},
   "outputs": [],
   "source": [
    "INF = 9999 # 가장 큰 가중치 (무한대)\n",
    "\n",
    "def getMinVertex(dist, selected) : # dist가 최소인 정점 탐색 함수 \n",
    "    minv = 0\n",
    "    mindist = INF\n",
    "    for v in range(len(dist)) : \n",
    "    # 정점 중에서 MST에 포함 안됐고 dist가 가장 작은 정점 탐색\n",
    "        if selected[v] ==False and dist[v]<mindist :\n",
    "            mindist = dist[v]\n",
    "            minv = v\n",
    "    return minv # 최소 정점 반환\n",
    "\n",
    "def MSTPrim(vertex, adj) : # Prim의 MST 알고리즘\n",
    "    vsize = len(vertex)\n",
    "    dist = [INF] * vsize\n",
    "    selected = [False] * vsize\n",
    "    dist[0] = 0 # dist : [0, INF, ... , INF]\n",
    "\n",
    "    for i in range(vsize) : # 정점의 수 만큼 반복\n",
    "        u = getMinVertex(dist, selected)\n",
    "        selected[u] = True # 최소 dist 정점 u를 찾아 MST에 포함\n",
    "        print(vertex[u], end=' ')\n",
    "\n",
    "        for v in range(vsize) :\n",
    "            if (adj[u][v] != None) : # 아직 선택되지 않은 인접 정점 v에 대해\n",
    "                if not selected[v] and adj[u][v]< dist[v] :\n",
    "                    dist[v] = adj[u][v] # (u,v)의 가중치가 dist[v]보다 작으면 갱신\n",
    "    print()"
   ]
  },
  {
   "cell_type": "code",
   "execution_count": 24,
   "id": "16867c88",
   "metadata": {},
   "outputs": [
    {
     "name": "stdout",
     "output_type": "stream",
     "text": [
      "MST By Prim's Algorithm\n",
      "A F E D C B G \n"
     ]
    }
   ],
   "source": [
    "weight = [ [0,\t    29,\t\tNone,\tNone,\tNone,   10,\t\tNone],\n",
    "           [29,\t\t0,\t    16,\t\tNone,\tNone,\tNone,\t15  ],\n",
    "           [None,\t16,\t\t0,\t    12,\t\tNone,\tNone,\tNone],\n",
    "           [None,\tNone,   12,\t\t0,      22,\t\tNone,\t18  ],\n",
    "           [None,\tNone,\tNone,   22,\t\t0,      27,\t\t25  ],\n",
    "           [10,\t\tNone,\tNone,\tNone,   27,\t\t0,\t    None],\n",
    "           [None,   15,\t\tNone,   18,\t\t25,\t\tNone,\t0   ]]    \n",
    "vertex =   ['A',    'B',    'C',    'D',    'E',    'F',    'G' ]\n",
    "\n",
    "print(\"MST By Prim's Algorithm\")\n",
    "MSTPrim(vertex, weight)"
   ]
  },
  {
   "cell_type": "markdown",
   "id": "eb289751",
   "metadata": {},
   "source": [
    "### Shortest Path"
   ]
  },
  {
   "cell_type": "code",
   "execution_count": 25,
   "id": "fb484a1c",
   "metadata": {},
   "outputs": [],
   "source": [
    "INF = 9999\n",
    "\n",
    "def choose_vertex(dist, found) : # 최단 정점 선택 함수\n",
    "    min = INF\n",
    "    minpos = -1\n",
    "\n",
    "    # 아직 최단 경로가 확정되지 않았고, dist가 최소인 정점 탐색\n",
    "    for i in range(len(dist)) :\n",
    "        if dist[i]< min and found[i]==False :\n",
    "            min = dist[i]\n",
    "            minpos = i\n",
    "    return minpos # 최소 dist 정점의 인덱스 반환\n",
    "\n",
    "def shortest_path_dijkstra(vertex, adj, start) : # Dijkstra 알고리즘\n",
    "    vsize = len(vertex) # 정점 수\n",
    "    dist = list(adj[start]) # dist 배열 생성 및 초기화\n",
    "    path = [start] * vsize # path 배열 생성 및 초기화\n",
    "    found= [False] * vsize # found 배열 생성 및 초기화\n",
    "\n",
    "    found[start] = True; # 시작정점 : 이미 찾아짐\n",
    "    dist[start] = 0; # 시작정점의 거리 0\n",
    "\n",
    "    for i in range(vsize) :\n",
    "        print(\"Step%2d: \"%(i+1), dist)  # 단계별 dist[] 출력용 \n",
    "        u = choose_vertex(dist, found) # dist가 최소인 정점 u의 거리 확정\n",
    "        found[u] = True\n",
    "\n",
    "        for w in range(vsize) : # 모든 정점에 대해\n",
    "            if not found[w] : # 최단 경로가 확정되지 않은 정점들 중에서\n",
    "                if (dist[u] + adj[u][w] < dist[w]) : # u를 거쳐 가는 경로의 거리가 더 짧으면\n",
    "                    dist[w] = dist[u] + adj[u][w] # dist 갱신\n",
    "                    path[w] = u # 이제 w 정점의 최단 경로상의 이전 정점은 u가 됨\n",
    "\n",
    "    return path"
   ]
  },
  {
   "cell_type": "code",
   "execution_count": 26,
   "id": "b46c6352",
   "metadata": {},
   "outputs": [
    {
     "name": "stdout",
     "output_type": "stream",
     "text": [
      "Shortest Path By Dijkstra Algorithm\n",
      "Step 1:  [0, 7, 9999, 9999, 3, 10, 9999]\n",
      "Step 2:  [0, 5, 9999, 14, 3, 10, 8]\n",
      "Step 3:  [0, 5, 9, 14, 3, 10, 8]\n",
      "Step 4:  [0, 5, 9, 12, 3, 10, 8]\n",
      "Step 5:  [0, 5, 9, 11, 3, 10, 8]\n",
      "Step 6:  [0, 5, 9, 11, 3, 10, 8]\n",
      "Step 7:  [0, 5, 9, 11, 3, 10, 8]\n",
      "[최단경로: A->B] B <- E <- A\n",
      "[최단경로: A->C] C <- B <- E <- A\n",
      "[최단경로: A->D] D <- C <- B <- E <- A\n",
      "[최단경로: A->E] E <- A\n",
      "[최단경로: A->F] F <- A\n",
      "[최단경로: A->G] G <- E <- A\n"
     ]
    }
   ],
   "source": [
    "# Dijkstra 알고리즘 테스트 프로그램         \n",
    "vertex =   ['A',    'B',    'C',    'D',    'E',    'F',    'G' ]\n",
    "weight = [ [0,\t    7,\t\tINF,\tINF,\t3,      10,\t\tINF],\n",
    "           [7,\t\t0,\t    4,\t\t10,\t    2,\t    6,\t    INF],\n",
    "           [INF,\t4,\t\t0,\t    2,\t\tINF,\tINF,\tINF],\n",
    "           [INF,\t10,     2,\t\t0,      11,\t\t9,\t    4   ],\n",
    "           [3,\t    2,\t    INF,   11,\t\t0,      13,\t\t5   ],\n",
    "           [10,\t\t6,\t    INF,\t9,      13,\t\t0,\t    INF],\n",
    "           [INF,    INF,\tINF,   4,\t\t5,\t\tINF,\t0   ]]    \n",
    "\n",
    "print(\"Shortest Path By Dijkstra Algorithm\")\n",
    "start = 0\n",
    "path = shortest_path_dijkstra(vertex, weight, start)\n",
    "\n",
    "for end in range(len(vertex)) :\n",
    "    if end != start :\n",
    "        print(\"[최단경로: %s->%s] %s\" %(vertex[start], vertex[end], vertex[end]), end='')\n",
    "        while (path[end] != start) :\n",
    "            print(\" <- %s\" % vertex[path[end]], end='')\n",
    "            end = path[end]\n",
    "        print(\" <- %s\" % vertex[path[end]])"
   ]
  },
  {
   "cell_type": "code",
   "execution_count": 27,
   "id": "188a60d0",
   "metadata": {},
   "outputs": [],
   "source": [
    "INF = 9999\n",
    "\n",
    "def printA(A): # 현재의 A 행렬을 화면에 출력하는 함수\n",
    "    vsize = len(A)\n",
    "    print(\"====================================\")\n",
    "    for i in range(vsize) :\n",
    "        for j in range(vsize) :\n",
    "            if (A[i][j] == INF) :\n",
    "                print(\" INF \", end='')\n",
    "            else :\n",
    "                print(\"%4d \"%A[i][j], end='')\n",
    "        print(\"\");\n",
    "\n",
    "def shortest_path_floyd(vertex, adj) : # Floyd 알고리즘\n",
    "    vsize = len(vertex) # 정점의 개수\n",
    "\n",
    "    A = list(adj)    # 2차원 배열(리스트의 리스트)의 복사\n",
    "    for i in range(vsize) :\n",
    "        A[i] = list(adj[i])\n",
    "\n",
    "    for k in range(vsize) : # 0번 정점부터 n-1까지 순서대로 적용\n",
    "        for i in range(vsize) :\n",
    "            for j in range(vsize) :\n",
    "                # A행렬의 모든 요소에 대해, k를 거치는 경로가 더 짧으면 A[i][j]를 갱신\n",
    "                if (A[i][k] + A[k][j] < A[i][j]) :\n",
    "                    A[i][j] = A[i][k] + A[k][j]\n",
    "        printA(A) # 현재 A 행렬 출력 "
   ]
  },
  {
   "cell_type": "code",
   "execution_count": 28,
   "id": "c90fa2d8",
   "metadata": {},
   "outputs": [
    {
     "name": "stdout",
     "output_type": "stream",
     "text": [
      "Shortest Path By Floyd's Algorithm\n",
      "====================================\n",
      "   0    7  INF  INF    3   10  INF \n",
      "   7    0    4   10    2    6  INF \n",
      " INF    4    0    2  INF  INF  INF \n",
      " INF   10    2    0   11    9    4 \n",
      "   3    2  INF   11    0   13    5 \n",
      "  10    6  INF    9   13    0  INF \n",
      " INF  INF  INF    4    5  INF    0 \n",
      "====================================\n",
      "   0    7   11   17    3   10  INF \n",
      "   7    0    4   10    2    6  INF \n",
      "  11    4    0    2    6   10  INF \n",
      "  17   10    2    0   11    9    4 \n",
      "   3    2    6   11    0    8    5 \n",
      "  10    6   10    9    8    0  INF \n",
      " INF  INF  INF    4    5  INF    0 \n",
      "====================================\n",
      "   0    7   11   13    3   10  INF \n",
      "   7    0    4    6    2    6  INF \n",
      "  11    4    0    2    6   10  INF \n",
      "  13    6    2    0    8    9    4 \n",
      "   3    2    6    8    0    8    5 \n",
      "  10    6   10    9    8    0  INF \n",
      " INF  INF  INF    4    5  INF    0 \n",
      "====================================\n",
      "   0    7   11   13    3   10   17 \n",
      "   7    0    4    6    2    6   10 \n",
      "  11    4    0    2    6   10    6 \n",
      "  13    6    2    0    8    9    4 \n",
      "   3    2    6    8    0    8    5 \n",
      "  10    6   10    9    8    0   13 \n",
      "  17   10    6    4    5   13    0 \n",
      "====================================\n",
      "   0    5    9   11    3   10    8 \n",
      "   5    0    4    6    2    6    7 \n",
      "   9    4    0    2    6   10    6 \n",
      "  11    6    2    0    8    9    4 \n",
      "   3    2    6    8    0    8    5 \n",
      "  10    6   10    9    8    0   13 \n",
      "   8    7    6    4    5   13    0 \n",
      "====================================\n",
      "   0    5    9   11    3   10    8 \n",
      "   5    0    4    6    2    6    7 \n",
      "   9    4    0    2    6   10    6 \n",
      "  11    6    2    0    8    9    4 \n",
      "   3    2    6    8    0    8    5 \n",
      "  10    6   10    9    8    0   13 \n",
      "   8    7    6    4    5   13    0 \n",
      "====================================\n",
      "   0    5    9   11    3   10    8 \n",
      "   5    0    4    6    2    6    7 \n",
      "   9    4    0    2    6   10    6 \n",
      "  11    6    2    0    8    9    4 \n",
      "   3    2    6    8    0    8    5 \n",
      "  10    6   10    9    8    0   13 \n",
      "   8    7    6    4    5   13    0 \n"
     ]
    }
   ],
   "source": [
    "# Floyd 알고리즘 테스트 프로그램\n",
    "vertex =   ['A',    'B',    'C',    'D',    'E',    'F',    'G' ]\n",
    "weight = [ [0,\t    7,\t\tINF,\tINF,\t3,      10,\t\tINF],\n",
    "           [7,\t\t0,\t    4,\t\t10,\t    2,\t    6,\t    INF],\n",
    "           [INF,\t4,\t\t0,\t    2,\t\tINF,\tINF,\tINF],\n",
    "           [INF,\t10,     2,\t\t0,      11,\t\t9,\t    4   ],\n",
    "           [3,\t    2,\t    INF,   11,\t\t0,      13,\t\t5   ],\n",
    "           [10,\t\t6,\t    INF,\t9,      13,\t\t0,\t    INF],\n",
    "           [INF,    INF,\tINF,   4,\t\t5,\t\tINF,\t0   ]]    \n",
    "\n",
    "print(\"Shortest Path By Floyd's Algorithm\")\n",
    "shortest_path_floyd(vertex, weight)"
   ]
  }
 ],
 "metadata": {
  "kernelspec": {
   "display_name": "Python 3 (ipykernel)",
   "language": "python",
   "name": "python3"
  },
  "language_info": {
   "codemirror_mode": {
    "name": "ipython",
    "version": 3
   },
   "file_extension": ".py",
   "mimetype": "text/x-python",
   "name": "python",
   "nbconvert_exporter": "python",
   "pygments_lexer": "ipython3",
   "version": "3.10.9"
  }
 },
 "nbformat": 4,
 "nbformat_minor": 5
}
