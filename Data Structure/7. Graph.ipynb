{
 "cells": [
  {
   "cell_type": "markdown",
   "id": "9633136b",
   "metadata": {},
   "source": [
    "### 깊이우선탐색"
   ]
  },
  {
   "cell_type": "code",
   "execution_count": 1,
   "id": "8c5611ed",
   "metadata": {},
   "outputs": [
    {
     "name": "stdout",
     "output_type": "stream",
     "text": [
      "DFS(출발:A) : A B D C E G H F \n"
     ]
    }
   ],
   "source": [
    "def DFS(vtx, adj, s, visited) : # 깊이 우선 탐색(인접행렬 방식)\n",
    "    print(vtx[s], end=' ')          # 현재 정점 s 출력\n",
    "    visited[s] = True               # 현재 정점 s를 visited에 추가\n",
    "    \n",
    "    for v in range(len(vtx)) :      # 그래프의 모든 정점에 대해\n",
    "        if adj[s][v] != 0 :         # 모든 간선 (s,v)에 대해\n",
    "            if visited[v]==False:   # v를 아직 방문하지 않았으면 \n",
    "                DFS(vtx, adj, v, visited) # 그 정점 기준으로 다시 DFS 호출\n",
    "\n",
    "\n",
    "# 깊이 우선 탐색 테스트 프로그램\n",
    "vtx =  ['A', 'B','C','D','E','F','G','H']\n",
    "edge = [ [  0,  1,  1,  0,  0,  0,  0,  0],\n",
    "         [  1,  0,  0,  1,  0,  0,  0,  0],\n",
    "         [  1,  0,  0,  1,  1,  0,  0,  0],\n",
    "         [  0,  1,  1,  0,  0,  1,  0,  0],\n",
    "         [  0,  0,  1,  0,  0,  0,  1,  1],\n",
    "         [  0,  0,  0,  1,  0,  0,  0,  0],\n",
    "         [  0,  0,  0,  0,  1,  0,  0,  1],\n",
    "         [  0,  0,  0,  0,  1,  0,  1,  0] ]\n",
    "\n",
    "print('DFS(출발:A) : ', end=\"\")\n",
    "DFS(vtx, edge, 0, [False]*len(vtx))\n",
    "print()"
   ]
  },
  {
   "cell_type": "code",
   "execution_count": 2,
   "id": "97b97381",
   "metadata": {},
   "outputs": [
    {
     "name": "stdout",
     "output_type": "stream",
     "text": [
      "DFS2(출발:A) : A C D F B E H G \n"
     ]
    }
   ],
   "source": [
    "def DFS2(graph, v, visited): # 딕셔너리와 집합으로 표현된 그래프의 깊이우선탐색\n",
    "    if v not in visited :           # v가 방문되지 않았으면\n",
    "        visited.add(v)              # v를 방문했다고 표시\n",
    "        print(v, end=' ')           # v를 출력\n",
    "        nbr = graph[v] - visited    # v의 인접 정점 리스트\n",
    "        for u in nbr:               # v의 모든 인접 정점에 대해 \n",
    "            DFS2(graph, u, visited)  # 순환 호출\n",
    "\n",
    "# DFS2 테스트 프로그램\n",
    "mygraph = { \"A\" : {\"B\",\"C\"},\n",
    "            \"B\" : {\"A\", \"D\"},\n",
    "            \"C\" : {\"A\", \"D\", \"E\"},\n",
    "            \"D\" : {\"B\", \"C\", \"F\"},\n",
    "            \"E\" : {\"C\", \"G\", \"H\"},\n",
    "            \"F\" : {\"D\"},\n",
    "            \"G\" : {\"E\", \"H\"},\n",
    "            \"H\" : {\"E\", \"G\"}\n",
    "          }\n",
    "\n",
    "print('DFS2(출발:A) : ', end=\"\")\n",
    "DFS2(mygraph, \"A\", set())\n",
    "print()"
   ]
  },
  {
   "cell_type": "markdown",
   "id": "5f3f80f1",
   "metadata": {},
   "source": [
    "### 너비우선탐색"
   ]
  },
  {
   "cell_type": "code",
   "execution_count": 3,
   "id": "f785c7c6",
   "metadata": {},
   "outputs": [
    {
     "name": "stdout",
     "output_type": "stream",
     "text": [
      "BFS_AL(출발:A): A B C D E F G H \n"
     ]
    }
   ],
   "source": [
    "from queue import Queue               \n",
    "def BFS_AL(vtx, aList, s): # 너비 우선 탐색(인접 리스트 방식)\n",
    "    n = len(vtx)           # 그래프의 정점 수\n",
    "    visited = [False]*n    # 방문 확인을 위한 리스트\n",
    "    Q = Queue()            # 공백상태의 큐 생성\n",
    "    Q.put(s)               # 맨 처음에는 시작 정점만 있음\n",
    "    visited[s] = True      # s는 \"방문\"했다고 표시\n",
    "    while not Q.empty() :\n",
    "        s = Q.get()         # 큐에서 정점을 꺼냄\n",
    "        print(vtx[s], end=' ') # 정점을 출력(처리)함\n",
    "        for v in aList[s] :    # s의 모든 이웃 v에 대해\n",
    "            if visited[v]==False : # 방문하지 않은 이웃 정점이면\n",
    "                Q.put(v)            # 큐에 삽입\n",
    "                visited[v] = True   # \"방문\"했다고 표시\n",
    "\n",
    "# 너비 우선 탐색 테스트 프로그램\n",
    "vtx = [ 'A','B','C','D','E','F','G','H']\n",
    "aList = [[ 1, 2 ],      # 'A'의 인접정점 인덱스\n",
    "         [ 0, 3 ],      # 'B'의 인접정점 인덱스\n",
    "         [ 0, 3, 4 ],   # 'C'\n",
    "         [ 1, 2, 5 ],   # 'D'\n",
    "         [ 2, 6, 7 ],   # 'E'\n",
    "         [ 3 ],         # 'F'\n",
    "         [ 4, 7 ],      # 'G'\n",
    "         [ 4, 6 ] ]     # 'H'\n",
    "\n",
    "print('BFS_AL(출발:A): ', end=\"\")\n",
    "BFS_AL(vtx, aList, 0)\n",
    "print()"
   ]
  },
  {
   "cell_type": "markdown",
   "id": "7f84bc4f",
   "metadata": {},
   "source": [
    "### 연결 성분 검사"
   ]
  },
  {
   "cell_type": "code",
   "execution_count": 5,
   "id": "fa3fd11a",
   "metadata": {},
   "outputs": [],
   "source": [
    "def find_connected_component(vtx, adj) : # 연결성분검사 주 함수\n",
    "    n = len(vtx)\n",
    "    visited = [False]*n\n",
    "    groups = [] # 연결 성분 리스트\n",
    "\n",
    "    for v in range(n) :\n",
    "        if visited[v] == False : # 방문하지 않은 정점이 있으면\n",
    "            color = bfs_cc(vtx, adj, v, visited) # 새로 연결성분을 구함\n",
    "            groups.append( color ) # 새로운 성분을 groups에 추가\n",
    "\n",
    "    return groups\n",
    "\n",
    "\n",
    "from queue import Queue\n",
    "def bfs_cc(vtx, adj, s, visited): # 너비우선탐색을 이용한 연결성분 검사\n",
    "    group = [s]    # 새로운 연결된 그룹 생성(맨 처음은 시작 정점만)\n",
    "    Q = Queue()\n",
    "    Q.put(s)\n",
    "    visited[s] = True\n",
    "    while not Q.empty() :\n",
    "        s = Q.get()\n",
    "        for v in range(len(vtx)) :\n",
    "            if visited[v]==False and adj[s][v] != 0 :\n",
    "                Q.put(v)\n",
    "                visited[v] = True\n",
    "                group.append(v) # 새로운 연결 그룹에 추가\n",
    "    return group"
   ]
  },
  {
   "cell_type": "code",
   "execution_count": 6,
   "id": "3f49685b",
   "metadata": {},
   "outputs": [
    {
     "name": "stdout",
     "output_type": "stream",
     "text": [
      "연결성분 개수 = 2 \n",
      "[[0, 1, 2], [3, 4]]\n"
     ]
    }
   ],
   "source": [
    "# 연결성분검사 테스트 프로그램\n",
    "vertex =    ['A', 'B','C','D','E']\n",
    "adjMat =  [ [  0,  1,  1,  0,  0 ],\n",
    "            [  1,  0,  0,  0,  0 ],\n",
    "            [  1,  0,  0,  0,  0 ],\n",
    "            [  0,  0,  0,  0,  1 ],\n",
    "            [  0,  0,  0,  1,  0 ] ]\n",
    "\n",
    "colorGroup = find_connected_component(vertex, adjMat)\n",
    "print(\"연결성분 개수 = %d \" % len(colorGroup))\n",
    "print(colorGroup) # 정점 리스트들을 출력"
   ]
  },
  {
   "cell_type": "markdown",
   "id": "3b27b916",
   "metadata": {},
   "source": [
    "### 신장 트리"
   ]
  },
  {
   "cell_type": "code",
   "execution_count": 7,
   "id": "794e2fb3",
   "metadata": {},
   "outputs": [
    {
     "name": "stdout",
     "output_type": "stream",
     "text": [
      "신장트리(DFS): ( A B ) ( B D ) ( D C ) ( C E ) ( E G ) ( G H ) ( D F ) \n"
     ]
    }
   ],
   "source": [
    "\n",
    "def ST_DFS(vtx, adj, s, visited) : # 깊이우선탐색을 이용한 신장트리\n",
    "    visited[s] = True               # 시작 정점 s를 visited에 추가함\n",
    "    for v in range(len(vtx)) :      # 인접행렬\n",
    "        if adj[s][v] != 0 :         # 모든 간선 (s,v)에 대해\n",
    "            if visited[v]==False:   # v를 아직 방문하지 않았으면 \n",
    "                print(\"(\", vtx[s], vtx[v], \")\", end=' ')  # 간선 출력\n",
    "                ST_DFS(vtx, adj, v, visited)\n",
    "\n",
    "\n",
    "# 테스트 프로그램\n",
    "vtx =  ['A', 'B','C','D','E','F','G','H']\n",
    "edge = [ [  0,  1,  1,  0,  0,  0,  0,  0],\n",
    "         [  1,  0,  0,  1,  0,  0,  0,  0],\n",
    "         [  1,  0,  0,  1,  1,  0,  0,  0],\n",
    "         [  0,  1,  1,  0,  0,  1,  0,  0],\n",
    "         [  0,  0,  1,  0,  0,  0,  1,  1],\n",
    "         [  0,  0,  0,  1,  0,  0,  0,  0],\n",
    "         [  0,  0,  0,  0,  1,  0,  0,  1],\n",
    "         [  0,  0,  0,  0,  1,  0,  1,  0] ]\n",
    "\n",
    "print('신장트리(DFS): ', end=\"\")\n",
    "ST_DFS(vtx, edge, 0, [False]*len(vtx))\n",
    "print()"
   ]
  },
  {
   "cell_type": "markdown",
   "id": "f4fffa36",
   "metadata": {},
   "source": [
    "### 위상 정렬"
   ]
  },
  {
   "cell_type": "code",
   "execution_count": 8,
   "id": "173a6f89",
   "metadata": {},
   "outputs": [],
   "source": [
    "def topological_sort_AM(vertex, edge) : # 위상정렬\n",
    "    n = len(vertex)             # 정점의 개수\n",
    "    inDeg = [0] * n             # inDeg: 진입차수 저장 리스트\n",
    "    for i in range(n) :\n",
    "        for j in range(n) :\n",
    "            if edge[i][j]>0 :  # 모든 간선 <i,j>에 대해\n",
    "                inDeg[j] += 1   # j의 진입차수를 1 증가\n",
    "\n",
    "    vlist = [] # 진입차수가 0인 정점 리스트 생성 및 초기화           \n",
    "    for i in range(n) :\n",
    "        if inDeg[i]==0 : \n",
    "            vlist.append(i)\n",
    "\n",
    "    while len(vlist) > 0 : # 진입차수가 0인 정점이 더 이상 없을 때 까지 위상 정렬\n",
    "        v = vlist.pop()                 # 진입차수가 0인 정점을 꺼냄\n",
    "        print(vertex[v], end=' ')       # 화면 출력(방문)\n",
    "\n",
    "        for u in range(n) :\n",
    "            if v!=u and edge[v][u]>0:  # 간선 <v,u>가 있으면\n",
    "                inDeg[u] -= 1           # u의 진입차수 감소\n",
    "                if inDeg[u] == 0 :      # u의 진입차수가 0이면\n",
    "                    vlist.append(u)     # u를 vlist에 추가"
   ]
  },
  {
   "cell_type": "code",
   "execution_count": 9,
   "id": "5791db9e",
   "metadata": {},
   "outputs": [
    {
     "name": "stdout",
     "output_type": "stream",
     "text": [
      "topological_sort: \n",
      "B E A C D F \n"
     ]
    }
   ],
   "source": [
    "vertex = ['A', 'B', 'C', 'D', 'E', 'F' ]\n",
    "adj =  [ [ 0,   0,   1,   1,   0,   0 ],\n",
    "         [ 0,   0,   0,   1,   1,   0 ],\n",
    "         [ 0,   0,   0,   1,   0,   1 ],\n",
    "         [ 0,   0,   0,   0,   0,   1 ],\n",
    "         [ 0,   0,   0,   0,   0,   1 ],\n",
    "         [ 0,   0,   0,   0,   0,   0 ] ]\n",
    "print('topological_sort: ')\n",
    "topological_sort_AM(vertex, adj)\n",
    "print()"
   ]
  }
 ],
 "metadata": {
  "kernelspec": {
   "display_name": "Python 3 (ipykernel)",
   "language": "python",
   "name": "python3"
  },
  "language_info": {
   "codemirror_mode": {
    "name": "ipython",
    "version": 3
   },
   "file_extension": ".py",
   "mimetype": "text/x-python",
   "name": "python",
   "nbconvert_exporter": "python",
   "pygments_lexer": "ipython3",
   "version": "3.10.9"
  }
 },
 "nbformat": 4,
 "nbformat_minor": 5
}
