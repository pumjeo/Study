{
 "cells": [
  {
   "cell_type": "markdown",
   "id": "fa2b6458",
   "metadata": {},
   "source": [
    "## Queue"
   ]
  },
  {
   "cell_type": "code",
   "execution_count": 31,
   "id": "47e378a3",
   "metadata": {},
   "outputs": [],
   "source": [
    "MAX_QSIZE = 10\n",
    "class CircularQueue :\n",
    "    def __init__(self): # CircularQueue 생성자\n",
    "        self.front = 0 # 큐의 전단 위치\n",
    "        self.rear = 0 # 큐의 후단 위치\n",
    "        self.items = [None] * MAX_QSIZE # 항목 저장용 리스트\n",
    "        \n",
    "    def isEmpty(self) : return self.front == self.rear # 공백상태 검사\n",
    "    def isFull(self) : return self.front == (self.rear+1)%MAX_QSIZE # 포화상태 검사\n",
    "    def clear(self) : self.front = self.rear # 초기화\n",
    "    \n",
    "    def enqueue(self, item): # 삽입 연산\n",
    "        if not self.isFull(): # 포화상태가 아니면\n",
    "            self.rear = (self.rear+1)%MAX_QSIZE # rear 회전\n",
    "            self.items[self.rear] = item # rear 위치에 삽입\n",
    "    \n",
    "    def dequeue(self): # 삭제 연산\n",
    "        if not self.isEmpty(): # 공백사애가 아니면\n",
    "            self.front = (self.front+1)%MAX_QSIZE # front 회전\n",
    "            return self.items[self.front] # front 위치의 항목 반환\n",
    "        \n",
    "    def peek(self): # peek 연산\n",
    "        if not self.isEmpty():\n",
    "            return self.items[(self.front+1)%MAX_QSIZE]\n",
    "    \n",
    "    def size(self): # 항목의 개수\n",
    "        return (self.rear - self.front + MAX_QSIZE) % MAX_QSIZE\n",
    "    \n",
    "    def display(self): # 큐의 내용 모두 출력하기\n",
    "        out = []\n",
    "        if self.front < self.rear :\n",
    "            out = self.items[self.front+1:self.rear+1]\n",
    "        else:\n",
    "            out = self.items[self.front+1:MAX_QSIZE] + self.items[0:self.rear+1]\n",
    "        print(\"[f=%s,r=%d] ==> \"%(self.front, self.rear), out)"
   ]
  },
  {
   "cell_type": "code",
   "execution_count": 32,
   "id": "d6e9680d",
   "metadata": {},
   "outputs": [
    {
     "name": "stdout",
     "output_type": "stream",
     "text": [
      "[f=0,r=8] ==>  [0, 1, 2, 3, 4, 5, 6, 7]\n",
      "[f=5,r=8] ==>  [5, 6, 7]\n",
      "[f=5,r=4] ==>  [5, 6, 7, 8, 9, 10, 11, 12, 13]\n"
     ]
    }
   ],
   "source": [
    "q = CircularQueue()\n",
    "for i in range(8): q.enqueue(i)\n",
    "q.display()\n",
    "for i in range(5) : q.dequeue()\n",
    "q.display()\n",
    "for i in range(8,14) : q.enqueue(i)\n",
    "q.display()"
   ]
  },
  {
   "cell_type": "code",
   "execution_count": 33,
   "id": "2959683c",
   "metadata": {},
   "outputs": [],
   "source": [
    "def isValidPos(x,y): # (x,y)가 갈 수 있는 방인지 검사하는 함수\n",
    "    if x<0 or y<0 or x>=MAZE_SIZE or y >= MAZE_SIZE :\n",
    "        return False # (x,y)가 미로 밖이면 -> 갈 수 없음\n",
    "    else:\n",
    "        return map[y][x] == '0' or map[y][x] == 'x' # 출구('x')이거나 방('0')이면 갈 수 있음\n",
    "    \n",
    "def BFS(): # 너비우선탐색 함수\n",
    "    que = CircularQueue()\n",
    "    que.enqueue((0,1))\n",
    "    print('BFS: ')\n",
    "    \n",
    "    while not que.isEmpty(): # 공백이 아닐 동안\n",
    "        here = que.dequeue() # 항목을 꺼냄\n",
    "        print(here, end='->')\n",
    "        (x,y) = here # 스택에 저장된 튜플은 (x,y)순서임\n",
    "        if (map[y][x] == 'x'): # 출구이면 탐색 성공. True 반환\n",
    "            return True\n",
    "        else :\n",
    "            map[y][x] = '.' # 현재위치를 지나왔다고 '.' 표시\n",
    "            # 4방향의 이웃을 검사해 갈 수 있으면 스택에 모두 삽입\n",
    "            if isValidPos(x,y-1): que.enqueue( (x,y-1) ) # 상\n",
    "            if isValidPos(x,y+1): que.enqueue( (x,y+1) ) # 하\n",
    "            if isValidPos(x-1,y): que.enqueue( (x-1,y) ) # 좌\n",
    "            if isValidPos(x+1,y): que.enqueue( (x+1,y) ) # 우\n",
    "    return False # 탐색 실패. False 반환"
   ]
  },
  {
   "cell_type": "code",
   "execution_count": 34,
   "id": "483d99bb",
   "metadata": {},
   "outputs": [
    {
     "name": "stdout",
     "output_type": "stream",
     "text": [
      "BFS: \n",
      "(0, 1)->(1, 1)->(1, 2)->(1, 3)->(2, 2)->(1, 4)->(3, 2)->(3, 1)->(3, 3)->(4, 1)->(3, 4)->(4, 4)->(5, 4)-> 미로탐색 성공\n"
     ]
    }
   ],
   "source": [
    "map = [['1','1','1','1','1','1'],\n",
    "       ['e','0','1','0','0','1'],\n",
    "       ['1','0','0','0','1','1'],    \n",
    "       ['1','0','1','0','1','1'],\n",
    "       ['1','0','1','0','0','x'],\n",
    "       ['1','1','1','1','1','1']]\n",
    "MAZE_SIZE = 6\n",
    "result = BFS()\n",
    "if result : print(' 미로탐색 성공')\n",
    "else : print('미로탐색 실패')"
   ]
  },
  {
   "cell_type": "markdown",
   "id": "121503d5",
   "metadata": {},
   "source": [
    "## Deque"
   ]
  },
  {
   "cell_type": "code",
   "execution_count": 13,
   "id": "e6d1b785",
   "metadata": {},
   "outputs": [],
   "source": [
    "class CircularDeque(CircularQueue) : # Circular Queue에서 상속\n",
    "    def __init__(self): # CircularDequeue의 생성자\n",
    "        super().__init__() # 부모 클래스의 생성자를 호출함\n",
    "        \n",
    "    def addRear(self, item) : self.enqueue(item) # enqueue 호출\n",
    "    def deleteFront(self): return self.dequeue() # 반환에 주의\n",
    "    def getFront(self): return self.peek() # 반환에 주의\n",
    "    \n",
    "    def addFront(self, item) : # 새로운 기능 : 전단 삽입\n",
    "        if not self.isFull():\n",
    "            self.items[self.front] = item # 항목 저장\n",
    "            self.front = self.front-1 # 반시계 방향으로 회전\n",
    "            if self.front < 0 : self.front = MAX_QSIZE-1\n",
    "    \n",
    "    def deleteRear(self): # 새로운 기능 : 후단 삭제\n",
    "        if not self.isEmpty():\n",
    "            item = self.items[self.rear] # 항목 복사\n",
    "            self.rear = self.rear-1 # 반시계 방향으로 회전\n",
    "            if self.rear<0 : self.rear = MAX_QSIZE-1\n",
    "            return item # 항목 반환\n",
    "    \n",
    "    def getRear(self): # 새로운 기능 : 후단 peek\n",
    "        return self.items[self.rear]"
   ]
  },
  {
   "cell_type": "code",
   "execution_count": 14,
   "id": "88ee712a",
   "metadata": {},
   "outputs": [
    {
     "name": "stdout",
     "output_type": "stream",
     "text": [
      "[f=6,r=5] ==>  [7, 5, 3, 1, 0, 2, 4, 6, 8]\n",
      "[f=8,r=2] ==>  [3, 1, 0, 2]\n",
      "[f=3,r=2] ==>  [13, 12, 11, 10, 9, 3, 1, 0, 2]\n"
     ]
    }
   ],
   "source": [
    "dq = CircularDeque() # 덱 객체 생성, f=r=0\n",
    "for i in range(9): \n",
    "    if i%2==0 : dq.addRear(i) # 짝수는 후단에 삽입 \n",
    "    else : dq.addFront(i) # 홀수는 전단에 삽입\n",
    "dq.display()\n",
    "for i in range(2) : dq.deleteFront() # 전단에서 두 번의 삭제\n",
    "for i in range(3) : dq.deleteRear() # 후단에서 세 번의 삭제\n",
    "dq.display()\n",
    "for i in range(9,14) : dq.addFront(i)\n",
    "dq.display()"
   ]
  },
  {
   "cell_type": "markdown",
   "id": "03febf35",
   "metadata": {},
   "source": [
    "## Priority Queue"
   ]
  },
  {
   "cell_type": "code",
   "execution_count": 24,
   "id": "df35e021",
   "metadata": {},
   "outputs": [],
   "source": [
    "class PriorityQueue:\n",
    "    def __init__(self): # 생성자\n",
    "        self.items=[] # 항목 저장을 위한 리스트\n",
    "    \n",
    "    def isEmpty(self): # 공백상태 검사\n",
    "        return len(self.items)==0\n",
    "    def size(self) : return len(self.items) # 전체 항목의 개수\n",
    "    def clear(self) : self.items = [] # 초기화\n",
    "\n",
    "    def enqueue(self, item): # 삽입 연산\n",
    "        self.items.append(item) # 리스트의 맨 뒤에 삽입\n",
    "    \n",
    "    def findMaxIndex(self): # 최고 우선순위 항목의 인덱스 반환\n",
    "        if self.isEmpty(): return None\n",
    "        else:\n",
    "            highest = 0 # 0번을 최대라고 하고\n",
    "            for i in range(1,self.size()): # 모든 항목에 대해\n",
    "                if self.items[i][2] > self.items[highest][2]:\n",
    "                    highest = i # 최고 우선순위 인덱스 갱신\n",
    "            return highest # 최고 우선순위 인덱스 반환\n",
    "        \n",
    "    def dequeue(self): # 삭제 연산\n",
    "        highest = self.findMaxIndex() # 우선순위가 가장 높은 항목\n",
    "        if highest is not None:\n",
    "            return self.items.pop(highest) # 리스트에서 꺼내서 반환\n",
    "        \n",
    "    def peek(self): # peek 연산\n",
    "        highest = findMaxIndex() # 우선순위가 가장 높은 항목\n",
    "        if highest is not None:\n",
    "            return self.items[highest] # 꺼내지 않고 반환"
   ]
  },
  {
   "cell_type": "code",
   "execution_count": 21,
   "id": "37bb8b26",
   "metadata": {},
   "outputs": [
    {
     "name": "stdout",
     "output_type": "stream",
     "text": [
      "PQueue: [34, 18, 27, 45, 15]\n"
     ]
    },
    {
     "ename": "TypeError",
     "evalue": "'int' object is not subscriptable",
     "output_type": "error",
     "traceback": [
      "\u001b[1;31m---------------------------------------------------------------------------\u001b[0m",
      "\u001b[1;31mTypeError\u001b[0m                                 Traceback (most recent call last)",
      "Cell \u001b[1;32mIn[21], line 10\u001b[0m\n\u001b[0;32m      8\u001b[0m \u001b[38;5;28mprint\u001b[39m(\u001b[38;5;124m\"\u001b[39m\u001b[38;5;124mPQueue:\u001b[39m\u001b[38;5;124m\"\u001b[39m, q\u001b[38;5;241m.\u001b[39mitems)\n\u001b[0;32m      9\u001b[0m \u001b[38;5;28;01mwhile\u001b[39;00m \u001b[38;5;129;01mnot\u001b[39;00m q\u001b[38;5;241m.\u001b[39misEmpty() :\n\u001b[1;32m---> 10\u001b[0m     \u001b[38;5;28mprint\u001b[39m(\u001b[38;5;124m\"\u001b[39m\u001b[38;5;124mMax Priority = \u001b[39m\u001b[38;5;124m\"\u001b[39m, \u001b[43mq\u001b[49m\u001b[38;5;241;43m.\u001b[39;49m\u001b[43mdequeue\u001b[49m\u001b[43m(\u001b[49m\u001b[43m)\u001b[49m)\n",
      "Cell \u001b[1;32mIn[20], line 23\u001b[0m, in \u001b[0;36mPriorityQueue.dequeue\u001b[1;34m(self)\u001b[0m\n\u001b[0;32m     22\u001b[0m \u001b[38;5;28;01mdef\u001b[39;00m \u001b[38;5;21mdequeue\u001b[39m(\u001b[38;5;28mself\u001b[39m): \u001b[38;5;66;03m# 삭제 연산\u001b[39;00m\n\u001b[1;32m---> 23\u001b[0m     highest \u001b[38;5;241m=\u001b[39m \u001b[38;5;28;43mself\u001b[39;49m\u001b[38;5;241;43m.\u001b[39;49m\u001b[43mfindMaxIndex\u001b[49m\u001b[43m(\u001b[49m\u001b[43m)\u001b[49m \u001b[38;5;66;03m# 우선순위가 가장 높은 항목\u001b[39;00m\n\u001b[0;32m     24\u001b[0m     \u001b[38;5;28;01mif\u001b[39;00m highest \u001b[38;5;129;01mis\u001b[39;00m \u001b[38;5;129;01mnot\u001b[39;00m \u001b[38;5;28;01mNone\u001b[39;00m:\n\u001b[0;32m     25\u001b[0m         \u001b[38;5;28;01mreturn\u001b[39;00m \u001b[38;5;28mself\u001b[39m\u001b[38;5;241m.\u001b[39mitems\u001b[38;5;241m.\u001b[39mpop(highest)\n",
      "Cell \u001b[1;32mIn[20], line 18\u001b[0m, in \u001b[0;36mPriorityQueue.findMaxIndex\u001b[1;34m(self)\u001b[0m\n\u001b[0;32m     16\u001b[0m highest \u001b[38;5;241m=\u001b[39m \u001b[38;5;241m0\u001b[39m \u001b[38;5;66;03m# 0번을 최대라고 하고\u001b[39;00m\n\u001b[0;32m     17\u001b[0m \u001b[38;5;28;01mfor\u001b[39;00m i \u001b[38;5;129;01min\u001b[39;00m \u001b[38;5;28mrange\u001b[39m(\u001b[38;5;241m1\u001b[39m,\u001b[38;5;28mself\u001b[39m\u001b[38;5;241m.\u001b[39msize()): \u001b[38;5;66;03m# 모든 항목에 대해\u001b[39;00m\n\u001b[1;32m---> 18\u001b[0m     \u001b[38;5;28;01mif\u001b[39;00m \u001b[38;5;28;43mself\u001b[39;49m\u001b[38;5;241;43m.\u001b[39;49m\u001b[43mitems\u001b[49m\u001b[43m[\u001b[49m\u001b[43mi\u001b[49m\u001b[43m]\u001b[49m\u001b[43m[\u001b[49m\u001b[38;5;241;43m2\u001b[39;49m\u001b[43m]\u001b[49m \u001b[38;5;241m>\u001b[39m \u001b[38;5;28mself\u001b[39m\u001b[38;5;241m.\u001b[39mitems[highest][\u001b[38;5;241m2\u001b[39m]:\n\u001b[0;32m     19\u001b[0m         highest \u001b[38;5;241m=\u001b[39m i \u001b[38;5;66;03m# 최고 우선순위 인덱스 갱신\u001b[39;00m\n\u001b[0;32m     20\u001b[0m \u001b[38;5;28;01mreturn\u001b[39;00m highest\n",
      "\u001b[1;31mTypeError\u001b[0m: 'int' object is not subscriptable"
     ]
    }
   ],
   "source": [
    "q = PriorityQueue()\n",
    "q.enqueue(34)\n",
    "q.enqueue(18)\n",
    "q.enqueue(27)\n",
    "q.enqueue(45)\n",
    "q.enqueue(15)\n",
    "\n",
    "print(\"PQueue:\", q.items)\n",
    "while not q.isEmpty() :\n",
    "    print(\"Max Priority = \", q.dequeue())"
   ]
  },
  {
   "cell_type": "code",
   "execution_count": 36,
   "id": "8ee3870a",
   "metadata": {},
   "outputs": [],
   "source": [
    "import math\n",
    "\n",
    "(ox, oy) = (5,4)\n",
    "def dist(x,y):\n",
    "    (dx, dy) = (ox-x, oy-y)\n",
    "    return math.sqrt(dx*dx + dy*dy)\n",
    "\n",
    "def MySmartSearch(): # 최소거리 전략의 미로 탐색\n",
    "    q = PriorityQueue()\n",
    "    q.enqueue((0,1,-dist(0,1))) # 튜플에 거리정보 추가\n",
    "    print('PQueue: ')\n",
    "    \n",
    "    while not q.isEmpty(): # 공백이 아닐 동안\n",
    "        here = q.dequeue() # 항목을 꺼냄\n",
    "        print(here[0:2], end='->') # (x,y,-d)에서 (x,y)만 출력\n",
    "        x,y,_ = here # 앞에 x,y만 필요\n",
    "        if (map[y][x] == 'x'): # 출구이면 탐색 성공. True 반환\n",
    "            return True\n",
    "        else :\n",
    "            map[y][x] = '.' # 현재위치를 지나왔다고 '.' 표시\n",
    "            # 4방향의 이웃을 검사해 갈 수 있으면 스택에 모두 삽입\n",
    "            if isValidPos(x,y-1): q.enqueue( (x,y-1,-dist(x,y-1)) ) # 상\n",
    "            if isValidPos(x,y+1): q.enqueue( (x,y+1,-dist(x,y+1)) ) # 하\n",
    "            if isValidPos(x-1,y): q.enqueue( (x-1,y,-dist(x-1,y)) ) # 좌\n",
    "            if isValidPos(x+1,y): q.enqueue( (x+1,y,-dist(x+1,y)) ) # 우\n",
    "        print(' 우선순위큐: ', q.items)\n",
    "    return False # 탐색 실패. False 반환"
   ]
  },
  {
   "cell_type": "code",
   "execution_count": 37,
   "id": "322f86e5",
   "metadata": {},
   "outputs": [
    {
     "name": "stdout",
     "output_type": "stream",
     "text": [
      "PQueue: \n",
      "(0, 1)-> 우선순위큐:  [(1, 1, -5.0)]\n",
      "(1, 1)-> 우선순위큐:  [(1, 2, -4.47213595499958)]\n",
      "(1, 2)-> 우선순위큐:  [(1, 3, -4.123105625617661), (2, 2, -3.605551275463989)]\n",
      "(2, 2)-> 우선순위큐:  [(1, 3, -4.123105625617661), (3, 2, -2.8284271247461903)]\n",
      "(3, 2)-> 우선순위큐:  [(1, 3, -4.123105625617661), (3, 1, -3.605551275463989), (3, 3, -2.23606797749979)]\n",
      "(3, 3)-> 우선순위큐:  [(1, 3, -4.123105625617661), (3, 1, -3.605551275463989), (3, 4, -2.0)]\n",
      "(3, 4)-> 우선순위큐:  [(1, 3, -4.123105625617661), (3, 1, -3.605551275463989), (4, 4, -1.0)]\n",
      "(4, 4)-> 우선순위큐:  [(1, 3, -4.123105625617661), (3, 1, -3.605551275463989), (5, 4, -0.0)]\n",
      "(5, 4)-> 미로탐색 성공\n"
     ]
    }
   ],
   "source": [
    "map = [['1','1','1','1','1','1'],\n",
    "       ['e','0','1','0','0','1'],\n",
    "       ['1','0','0','0','1','1'],    \n",
    "       ['1','0','1','0','1','1'],\n",
    "       ['1','0','1','0','0','x'],\n",
    "       ['1','1','1','1','1','1']]\n",
    "MAZE_SIZE = 6\n",
    "result = MySmartSearch()\n",
    "if result : print(' 미로탐색 성공')\n",
    "else : print('미로탐색 실패')"
   ]
  }
 ],
 "metadata": {
  "kernelspec": {
   "display_name": "Python 3 (ipykernel)",
   "language": "python",
   "name": "python3"
  },
  "language_info": {
   "codemirror_mode": {
    "name": "ipython",
    "version": 3
   },
   "file_extension": ".py",
   "mimetype": "text/x-python",
   "name": "python",
   "nbconvert_exporter": "python",
   "pygments_lexer": "ipython3",
   "version": "3.10.9"
  }
 },
 "nbformat": 4,
 "nbformat_minor": 5
}
