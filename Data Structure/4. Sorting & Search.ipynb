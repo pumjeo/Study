{
 "cells": [
  {
   "cell_type": "code",
   "execution_count": 4,
   "id": "78299930",
   "metadata": {},
   "outputs": [],
   "source": [
    "def printStep(arr, val):\n",
    "    print(\"Step%2d = \" %val, end='')\n",
    "    print(arr)"
   ]
  },
  {
   "cell_type": "markdown",
   "id": "f262c765",
   "metadata": {},
   "source": [
    "### 선택 정렬"
   ]
  },
  {
   "cell_type": "code",
   "execution_count": 10,
   "id": "f6fb98de",
   "metadata": {},
   "outputs": [],
   "source": [
    "def selection_sort(A):\n",
    "    n = len(A)\n",
    "    for i in range(n-1):\n",
    "        least = i\n",
    "        for j in range(i+1,n):\n",
    "            if (A[j]<A[least]): # 비교 연산\n",
    "                least = j # 최소항목 갱신\n",
    "        A[i], A[least] = A[least], A[i] # 배열항목 교환\n",
    "        printStep(A, i+1)"
   ]
  },
  {
   "cell_type": "code",
   "execution_count": 11,
   "id": "5ff87fe6",
   "metadata": {},
   "outputs": [
    {
     "name": "stdout",
     "output_type": "stream",
     "text": [
      "Step 1 = [1, 3, 8, 4, 9, 5, 6, 2, 7]\n",
      "Step 2 = [1, 2, 8, 4, 9, 5, 6, 3, 7]\n",
      "Step 3 = [1, 2, 3, 4, 9, 5, 6, 8, 7]\n",
      "Step 4 = [1, 2, 3, 4, 9, 5, 6, 8, 7]\n",
      "Step 5 = [1, 2, 3, 4, 5, 9, 6, 8, 7]\n",
      "Step 6 = [1, 2, 3, 4, 5, 6, 9, 8, 7]\n",
      "Step 7 = [1, 2, 3, 4, 5, 6, 7, 8, 9]\n",
      "Step 8 = [1, 2, 3, 4, 5, 6, 7, 8, 9]\n",
      "Result : [1, 2, 3, 4, 5, 6, 7, 8, 9]\n"
     ]
    }
   ],
   "source": [
    "data = [5,3,8,4,9,1,6,2,7]\n",
    "selection_sort(data)\n",
    "print(\"Result :\", data)"
   ]
  },
  {
   "cell_type": "markdown",
   "id": "e64eec77",
   "metadata": {},
   "source": [
    "### 삽입 정렬"
   ]
  },
  {
   "cell_type": "code",
   "execution_count": 13,
   "id": "d8d52013",
   "metadata": {},
   "outputs": [],
   "source": [
    "def insertion_sort(A):\n",
    "    n = len(A)\n",
    "    for i in range(1,n):\n",
    "        key = A[i]\n",
    "        j = i-1\n",
    "        while j>=0 and A[j] > key :\n",
    "            A[j+1]=A[j]\n",
    "            j -= 1\n",
    "        A[j+1] = key\n",
    "        printStep(A,i+1)"
   ]
  },
  {
   "cell_type": "code",
   "execution_count": 14,
   "id": "411b4e7b",
   "metadata": {},
   "outputs": [
    {
     "name": "stdout",
     "output_type": "stream",
     "text": [
      "Step 2 = [3, 5, 8, 4, 9, 1, 6, 2, 7]\n",
      "Step 3 = [3, 5, 8, 4, 9, 1, 6, 2, 7]\n",
      "Step 4 = [3, 4, 5, 8, 9, 1, 6, 2, 7]\n",
      "Step 5 = [3, 4, 5, 8, 9, 1, 6, 2, 7]\n",
      "Step 6 = [1, 3, 4, 5, 8, 9, 6, 2, 7]\n",
      "Step 7 = [1, 3, 4, 5, 6, 8, 9, 2, 7]\n",
      "Step 8 = [1, 2, 3, 4, 5, 6, 8, 9, 7]\n",
      "Step 9 = [1, 2, 3, 4, 5, 6, 7, 8, 9]\n",
      "Result : [1, 2, 3, 4, 5, 6, 7, 8, 9]\n"
     ]
    }
   ],
   "source": [
    "data = [5,3,8,4,9,1,6,2,7]\n",
    "insertion_sort(data)\n",
    "print(\"Result :\", data)"
   ]
  },
  {
   "cell_type": "markdown",
   "id": "1ff0e267",
   "metadata": {},
   "source": [
    "### 버블 정렬"
   ]
  },
  {
   "cell_type": "code",
   "execution_count": 16,
   "id": "e9befb3d",
   "metadata": {},
   "outputs": [],
   "source": [
    "def bubble_sort(A):\n",
    "    n = len(A)\n",
    "    for i in range(n-1, 0, -1):\n",
    "        bChanged = False\n",
    "        for j in range(i):\n",
    "            if (A[j]>A[j+1]): # 순서가 맞지 않으면\n",
    "                A[j], A[j+1] = A[j+1], A[j] # 교환\n",
    "                bChanged = True # 교환이 발생했음\n",
    "                \n",
    "        if not bChanged : break # 교환이 없으면 종료\n",
    "        printStep(A, n-i)"
   ]
  },
  {
   "cell_type": "code",
   "execution_count": 17,
   "id": "b4ef75f6",
   "metadata": {},
   "outputs": [
    {
     "name": "stdout",
     "output_type": "stream",
     "text": [
      "Step 1 = [3, 5, 4, 8, 1, 6, 2, 7, 9]\n",
      "Step 2 = [3, 4, 5, 1, 6, 2, 7, 8, 9]\n",
      "Step 3 = [3, 4, 1, 5, 2, 6, 7, 8, 9]\n",
      "Step 4 = [3, 1, 4, 2, 5, 6, 7, 8, 9]\n",
      "Step 5 = [1, 3, 2, 4, 5, 6, 7, 8, 9]\n",
      "Step 6 = [1, 2, 3, 4, 5, 6, 7, 8, 9]\n",
      "Result : [1, 2, 3, 4, 5, 6, 7, 8, 9]\n"
     ]
    }
   ],
   "source": [
    "data = [5,3,8,4,9,1,6,2,7]\n",
    "bubble_sort(data)\n",
    "print(\"Result :\", data)"
   ]
  },
  {
   "cell_type": "markdown",
   "id": "b01bd1a6",
   "metadata": {},
   "source": [
    "### 순차 탐색"
   ]
  },
  {
   "cell_type": "code",
   "execution_count": 18,
   "id": "74a1179c",
   "metadata": {},
   "outputs": [],
   "source": [
    "def sequential_search(A, key, low, high):\n",
    "    for i in range(low, high+1):\n",
    "        if A[i]==key:\n",
    "            return i\n",
    "    return -1"
   ]
  },
  {
   "cell_type": "markdown",
   "id": "93bef2cc",
   "metadata": {},
   "source": [
    "### 이진 탐색"
   ]
  },
  {
   "cell_type": "code",
   "execution_count": 19,
   "id": "4fb8f374",
   "metadata": {},
   "outputs": [],
   "source": [
    "def binary_seqrch(A, key, low, high):\n",
    "    if (low > high):\n",
    "        return -1\n",
    "    \n",
    "    middle = (low+high) // 2\n",
    "    \n",
    "    if (key == A[middle]):\n",
    "        return middle\n",
    "    elif (key < A[middle]):\n",
    "        return binary_search(A, key, low, middle-1)\n",
    "    else:\n",
    "        return binary_search(A, key, middle+1, high)"
   ]
  },
  {
   "cell_type": "markdown",
   "id": "ba03bbaf",
   "metadata": {},
   "source": [
    "### 해싱"
   ]
  },
  {
   "cell_type": "code",
   "execution_count": 20,
   "id": "3eb736a5",
   "metadata": {},
   "outputs": [],
   "source": [
    "M = 13 # 해시 테이블의 크기\n",
    "table = [None]*M # 해시 테이블. 모든 항목은 None으로 초기화\n",
    "def hashFn(key): # 해시 함수로는 제산 함수 사용\n",
    "    return key%M"
   ]
  },
  {
   "cell_type": "markdown",
   "id": "3f12273c",
   "metadata": {},
   "source": [
    "### 선형 조사법"
   ]
  },
  {
   "cell_type": "code",
   "execution_count": 24,
   "id": "d9630d09",
   "metadata": {},
   "outputs": [],
   "source": [
    "def insert(key) : # 선형 조사법의 삽입 연산\n",
    "    i = hashFn(key)\n",
    "    count = M\n",
    "    while count>0:\n",
    "        if (table[i]==None or table[i] == -1) :\n",
    "            break # 삽입 위치 발견\n",
    "        i = (i+1) % M # 다음 조사 위치\n",
    "        count -= 1\n",
    "        \n",
    "    if count>0 : # 삽입할 곳이 있으면 삽입\n",
    "        table[i] = key"
   ]
  },
  {
   "cell_type": "code",
   "execution_count": 25,
   "id": "367f295f",
   "metadata": {},
   "outputs": [],
   "source": [
    "def search(key) : # 선형 조사법의 탐색 연산\n",
    "    i = hashFn(key)\n",
    "    count = M\n",
    "    while count>0:\n",
    "        if table[i]==None : # 탐색 실패. None 반환\n",
    "            return None\n",
    "        if table[i]==key:\n",
    "            return table[i] # 탐색 성공, 레코드 반환\n",
    "        i = (i+1) % M # 다음 조사 위치\n",
    "        count -= 1\n",
    "    \n",
    "    return None # 탐색 실패, None 반환"
   ]
  },
  {
   "cell_type": "code",
   "execution_count": 26,
   "id": "906f9da7",
   "metadata": {},
   "outputs": [],
   "source": [
    "def delete(key) : # 선형 조사법의 삭제 연산\n",
    "    i = hashFn(key)\n",
    "    count = M\n",
    "    while count>0:\n",
    "        if table[i] == key: # 삭제할 위치 발견\n",
    "            table[i] = -1 # -1을 저장. 사용되었다가 삭제된 경우를 뜻함\n",
    "            return\n",
    "        if table[i] == None: # None은 테이블에 삭제할 레코드 없다는 것을 의미\n",
    "            return\n",
    "        i = (i+1) % M # 다음 조사 위치\n",
    "        count -= 1"
   ]
  },
  {
   "cell_type": "code",
   "execution_count": 27,
   "id": "9cb05e7b",
   "metadata": {},
   "outputs": [
    {
     "name": "stdout",
     "output_type": "stream",
     "text": [
      "h(45)= 6[None, None, None, None, None, None, 45, None, None, None, None, None, None]\n",
      "h(27)= 1[None, 27, None, None, None, None, 45, None, None, None, None, None, None]\n",
      "h(88)=10[None, 27, None, None, None, None, 45, None, None, None, 88, None, None]\n",
      "h( 9)= 9[None, 27, None, None, None, None, 45, None, None, 9, 88, None, None]\n",
      "h(71)= 6[None, 27, None, None, None, None, 45, 71, None, 9, 88, None, None]\n",
      "h(60)= 8[None, 27, None, None, None, None, 45, 71, 60, 9, 88, None, None]\n",
      "h(46)= 7[None, 27, None, None, None, None, 45, 71, 60, 9, 88, 46, None]\n",
      "h(38)=12[None, 27, None, None, None, None, 45, 71, 60, 9, 88, 46, 38]\n",
      "h(26)= 0[26, 27, None, None, None, None, 45, 71, 60, 9, 88, 46, 38]\n",
      "46 탐색 :  46\n",
      "39 탐색 :  None\n",
      "60 삭제 :[26, 27, None, None, None, None, 45, 71, -1, 9, 88, 46, 38]\n"
     ]
    }
   ],
   "source": [
    "data = [45,27,88,9,71,60,46,38,26]\n",
    "for d in data:\n",
    "    print(\"h(%2d)=%2d\"%(d, hashFn(d)), end='')\n",
    "    insert(d)\n",
    "    print(table)\n",
    "\n",
    "print(\"46 탐색 : \", search(46))\n",
    "print(\"39 탐색 : \", search(39))\n",
    "\n",
    "print(\"60 삭제 :\" , end='')\n",
    "delete(60)\n",
    "print(table)"
   ]
  },
  {
   "cell_type": "markdown",
   "id": "2b71f591",
   "metadata": {},
   "source": [
    "### 체이닝"
   ]
  },
  {
   "cell_type": "code",
   "execution_count": 28,
   "id": "cc5c296a",
   "metadata": {},
   "outputs": [],
   "source": [
    "def insert(key):\n",
    "    k = hashFn(key) # 해시 주소 계산\n",
    "    n = Node(key) # 새로운 노드 생성\n",
    "    n.link = table[k] # 새로운 노드의 다음 노드로 시작노드 연결\n",
    "    table[k] = n # 이제 새로운 노드가 그 버킷의 시작노드가 됨\n",
    "\n",
    "def search(key):\n",
    "    k = hashFn(key)\n",
    "    n = table[k] # 시작 노드\n",
    "    while n is not None:\n",
    "        if n.data == key: # 탐색 성공\n",
    "            return n.data\n",
    "        n = n.link # 다음 노드로 진행\n",
    "    return None # 탐색 실패, None 반환\n",
    "\n",
    "def delete(key):\n",
    "    k = hashFn(key)\n",
    "    n = table[k] # 시작 노드\n",
    "    before = None # 이전 노드\n",
    "    while n is not None:\n",
    "        if n.data == key: # 삭제할 레코드 찾음\n",
    "            if before == None: # 시작 노드 삭제\n",
    "                table[k] = n.link\n",
    "            else : # 이후 노드 삭제\n",
    "                before.link = n.link\n",
    "        before = n\n",
    "        n = n.link"
   ]
  },
  {
   "cell_type": "markdown",
   "id": "d3003474",
   "metadata": {},
   "source": [
    "### 정렬 응용 : 집합 다시보기"
   ]
  },
  {
   "cell_type": "code",
   "execution_count": 33,
   "id": "f8f4fa36",
   "metadata": {},
   "outputs": [],
   "source": [
    "def insert(self, e) :   \n",
    "    if self.contains(e) or self.isFull() :\n",
    "        return\n",
    "\n",
    "    self.array[self.size] = e\n",
    "    self.size += 1\n",
    "\n",
    "    for i in range(self.size-1, 0, -1) :\n",
    "        if self.array[i-1] <= self.array[i] : break\n",
    "        self.array[i-1], self.array[i] = self.array[i], self.array[i-1]\n",
    "\n",
    "        \n",
    "def delete(self, e) :\n",
    "    if not self.contains(e) :\n",
    "       return\n",
    "\n",
    "    i = 0\n",
    "    while self.array[i] < e : i += 1\n",
    "\n",
    "    self.size -= 1\n",
    "    while i < self.size :\n",
    "        self.array[i] = self.array[i+1]\n",
    "        i += 1"
   ]
  },
  {
   "cell_type": "code",
   "execution_count": 31,
   "id": "68c0dc44",
   "metadata": {},
   "outputs": [],
   "source": [
    "def __eq__( self, setB ):\n",
    "    if self.size != setB.size :\n",
    "        return False\n",
    "\n",
    "    for i in range(self.size) :\n",
    "        if self.array[i] != setB.array[i] :\n",
    "            return False\n",
    "    return True"
   ]
  },
  {
   "cell_type": "code",
   "execution_count": 32,
   "id": "18117036",
   "metadata": {},
   "outputs": [],
   "source": [
    "def union( self, setB ):  \n",
    "    setC = SortedArraySet() # 합집합을 저장할 공백 집합\n",
    "    i = 0 # 집합 self의 원소의 인덱스. 0부터 시작\n",
    "    j = 0 # 집합 SetB의 원소의 인덱스. 0부터 시작\n",
    "    while i < self.size and j < setB.size :\n",
    "        a = self.array[i]\n",
    "        b = setB.array[j]\n",
    "        if a == b:\n",
    "            setC.append(a)\n",
    "            i += 1\n",
    "            j += 1\n",
    "        elif a < b: \n",
    "            setC.append(a)\n",
    "            i += 1\n",
    "        else :\n",
    "            setC.append(b)\n",
    "            j += 1\n",
    "\n",
    "    while i < self.size :\n",
    "        setC.append(self.array[i])\n",
    "        i += 1\n",
    "    while j < setB.size :\n",
    "        setC.append(setB.array[j])\n",
    "        j += 1\n",
    "\n",
    "    return setC # 최종 합집합을 반환"
   ]
  }
 ],
 "metadata": {
  "kernelspec": {
   "display_name": "Python 3 (ipykernel)",
   "language": "python",
   "name": "python3"
  },
  "language_info": {
   "codemirror_mode": {
    "name": "ipython",
    "version": 3
   },
   "file_extension": ".py",
   "mimetype": "text/x-python",
   "name": "python",
   "nbconvert_exporter": "python",
   "pygments_lexer": "ipython3",
   "version": "3.10.9"
  }
 },
 "nbformat": 4,
 "nbformat_minor": 5
}
