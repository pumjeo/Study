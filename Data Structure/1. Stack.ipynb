{
 "cells": [
  {
   "cell_type": "markdown",
   "id": "d51bfcaa",
   "metadata": {},
   "source": [
    "### Stack Class 구현"
   ]
  },
  {
   "cell_type": "code",
   "execution_count": 44,
   "id": "2091b16a",
   "metadata": {},
   "outputs": [],
   "source": [
    "class Stack:\n",
    "    def __init__(self):\n",
    "        self.top = []\n",
    "        \n",
    "    def __str__(self):\n",
    "        return str(self.top) # 역순으로 출력하고자 하면 return str(self.top[::-1])\n",
    "        \n",
    "    def isEmpty(self) : return len(self.top) == 0\n",
    "    def size(self) : return len(self.top)\n",
    "    def clear(self) : self.top = []\n",
    "        \n",
    "    def push(self, item):\n",
    "        self.top.append(item)\n",
    "        \n",
    "    def pop(self):\n",
    "        if not self.isEmpty():\n",
    "            return self.top.pop(-1)\n",
    "    \n",
    "    def peek(self):\n",
    "        if not self.isEmpty():\n",
    "            return self.top[-1]"
   ]
  },
  {
   "cell_type": "code",
   "execution_count": 12,
   "id": "41c24413",
   "metadata": {},
   "outputs": [
    {
     "name": "stdout",
     "output_type": "stream",
     "text": [
      "[0, 2, 4, 6, 8]\n",
      "[1, 3, 5, 7, 9]\n",
      "8\n",
      "9\n",
      "[0, 2, 4]\n"
     ]
    }
   ],
   "source": [
    "odd = Stack()\n",
    "even = Stack()\n",
    "\n",
    "for i in range(10):\n",
    "    if i%2 == 0 : even.push(i)\n",
    "    else : odd.push(i)\n",
    "\n",
    "print(even)\n",
    "print(odd)\n",
    "print(even.peek())\n",
    "print(odd.peek())\n",
    "for _ in range(2) : even.pop()\n",
    "print(even)"
   ]
  },
  {
   "cell_type": "markdown",
   "id": "ccf6873f",
   "metadata": {},
   "source": [
    "### #1 괄호 검사"
   ]
  },
  {
   "cell_type": "code",
   "execution_count": 38,
   "id": "c6dbc48d",
   "metadata": {},
   "outputs": [],
   "source": [
    "def checkBrackets(statement):\n",
    "    stack = Stack()\n",
    "    for ch in statement:\n",
    "        if ch in ('{', '[', '('): # ('{[(') 이라고 해도 됨\n",
    "            stack.push(ch)\n",
    "        elif ch in ('}',']',')'):\n",
    "            if stack.isEmpty():\n",
    "                return False # 조건 2 위반\n",
    "            else:\n",
    "                left = stack.pop()\n",
    "                if (ch==\"}\" and left != \"{\") or \\  # 백슬래시(\\) 문자로 줄바꿀 수 있다!\n",
    "                (ch==\"]\" and left != \"[\") or \\\n",
    "                (ch==\")\" and left != \"(\") :\n",
    "                    return False # 조건 3 위반\n",
    "            \n",
    "    return stack.isEmpty() # False이면 조건 1 위반"
   ]
  },
  {
   "cell_type": "code",
   "execution_count": 39,
   "id": "11ada13c",
   "metadata": {},
   "outputs": [
    {
     "name": "stdout",
     "output_type": "stream",
     "text": [
      "{A[(i+1)]=0;} ---> True\n",
      "A[(i+1])-0; ---> False\n"
     ]
    }
   ],
   "source": [
    "str = (\"{A[(i+1)]=0;}\", \"A[(i+1])-0;\")\n",
    "for s in str:\n",
    "    m = checkBrackets(s)\n",
    "    print(s, \"--->\", m)"
   ]
  },
  {
   "cell_type": "markdown",
   "id": "ec22af57",
   "metadata": {},
   "source": [
    "### #2 수식의 계산(중위표기 및 후위표기 변환)"
   ]
  },
  {
   "cell_type": "code",
   "execution_count": 20,
   "id": "e98b7d0e",
   "metadata": {},
   "outputs": [],
   "source": [
    "# 후위표기식의 결과 계산하기\n",
    "\n",
    "def evalPostfix(expr):\n",
    "    s = Stack()\n",
    "    for token in expr :\n",
    "        if token in \"+-*/\":\n",
    "            val2 = s.pop()\n",
    "            val1 = s.pop()\n",
    "            if (token == '+'): s.push(val1+val2)\n",
    "            elif (token == '-'): s.push(val1-val2)\n",
    "            elif (token == '*'): s.push(val1*val2)\n",
    "            elif (token == '/'): s.push(val1/val2)\n",
    "        else:\n",
    "            s.push(float(token))\n",
    "    return s.pop()"
   ]
  },
  {
   "cell_type": "code",
   "execution_count": 21,
   "id": "be585254",
   "metadata": {},
   "outputs": [
    {
     "name": "stdout",
     "output_type": "stream",
     "text": [
      "['8', '2', '/', '3', '-', '3', '2', '*', '+']  --->  7.0\n"
     ]
    }
   ],
   "source": [
    "expr1 = ['8','2','/','3','-','3','2','*','+']\n",
    "print(expr1, ' ---> ', evalPostfix(expr1))"
   ]
  },
  {
   "cell_type": "code",
   "execution_count": 29,
   "id": "f5e32625",
   "metadata": {},
   "outputs": [],
   "source": [
    "# 중위표기식의 후위 변환 구현\n",
    "\n",
    "def precedence(op): # 연산자의 우선순의 반환\n",
    "    if op=='(' or op==')' : return 0\n",
    "    elif op=='+' or op=='-' : return 1\n",
    "    elif op=='*' or op=='/' : return 2 # 곱하기 나누기가 가장 높음\n",
    "    else : return -1\n",
    "    \n",
    "def Infix2Postfix(expr): # 중위표기식 input\n",
    "    s = Stack()\n",
    "    output = [] # 후위표기식 출력 리스트\n",
    "    \n",
    "    for term in expr:\n",
    "        if term in '(': # 왼쪽 괄호이면\n",
    "            s.push('(') # 스택에 삽입\n",
    "        elif term in ')': # 오른쪽 괄호이면\n",
    "            while not s.isEmpty(): \n",
    "                op = s.pop()\n",
    "                if op=='(' : break; # 왼쪽 괄호가 나올 때까지\n",
    "                else : # 스택에서 연산자를 꺼내 출력\n",
    "                    output.append(op)\n",
    "        elif term in \"+-*/\": # 연산자이면\n",
    "            while not s.isEmpty():\n",
    "                op = s.peek()\n",
    "                if (precedence(term) <= precedence(op)): # 우선순위가 높거나 같은 연산자를\n",
    "                    output.append(op) # 스택에서 모두 꺼내 출력\n",
    "                    s.pop()\n",
    "                else:break\n",
    "            s.push(term) # 마지막으로 현재 연산자 삽입\n",
    "        else : # 피연산자이면\n",
    "            output.append(term) # 바로 출력\n",
    "    \n",
    "    while not s.isEmpty(): # 처리가 끝났으면 스택에 남은 항목을\n",
    "        output.append(s.pop()) # 모두 출력\n",
    "    \n",
    "    return output # 결과 반환"
   ]
  },
  {
   "cell_type": "code",
   "execution_count": 31,
   "id": "4d4bd41a",
   "metadata": {},
   "outputs": [
    {
     "name": "stdout",
     "output_type": "stream",
     "text": [
      "['8', '2', '/', '3', '-', '3', '2', '*', '+']\n",
      "7.0\n",
      "['1', '2', '/', '4', '*', '1', '4', '/', '*']\n",
      "0.5\n"
     ]
    }
   ],
   "source": [
    "infix1 = ['8','/','2','-','3','+','(','3','*','2',')']\n",
    "infix2 = ['1','/','2','*','4','*','(','1','/','4',')']\n",
    "postfix1 = Infix2Postfix(infix1)\n",
    "postfix2 = Infix2Postfix(infix2)\n",
    "result1 = evalPostfix(postfix1)\n",
    "result2 = evalPostfix(postfix2)\n",
    "\n",
    "print(postfix1)\n",
    "print(result1)\n",
    "print(postfix2)\n",
    "print(result2)"
   ]
  },
  {
   "cell_type": "markdown",
   "id": "da8bdc7b",
   "metadata": {},
   "source": [
    "### #3 미로 탐색"
   ]
  },
  {
   "cell_type": "code",
   "execution_count": 50,
   "id": "dc51e911",
   "metadata": {},
   "outputs": [],
   "source": [
    "map = [['1','1','1','1','1','1'],\n",
    "       ['e','0','0','0','0','1'],\n",
    "       ['1','0','1','0','1','1'],    \n",
    "       ['1','1','1','0','0','x'],\n",
    "       ['1','1','1','0','1','1'],\n",
    "       ['1','1','1','1','1','1']]\n",
    "MAZE_SIZE = 6"
   ]
  },
  {
   "cell_type": "code",
   "execution_count": 51,
   "id": "9058ce4d",
   "metadata": {},
   "outputs": [
    {
     "name": "stdout",
     "output_type": "stream",
     "text": [
      "DFS: \n",
      "(0, 1)->현재 스택:  [(1, 1)]\n",
      "(1, 1)->현재 스택:  [(1, 2), (2, 1)]\n",
      "(2, 1)->현재 스택:  [(1, 2), (3, 1)]\n",
      "(3, 1)->현재 스택:  [(1, 2), (3, 2), (4, 1)]\n",
      "(4, 1)->현재 스택:  [(1, 2), (3, 2)]\n",
      "(3, 2)->현재 스택:  [(1, 2), (3, 3)]\n",
      "(3, 3)->현재 스택:  [(1, 2), (3, 4), (4, 3)]\n",
      "(4, 3)->현재 스택:  [(1, 2), (3, 4), (5, 3)]\n",
      "(5, 3)->미로탐색 성공\n"
     ]
    }
   ],
   "source": [
    "def isValidPos(x,y): # (x,y)가 갈 수 있는 방인지 검사하는 함수\n",
    "    if x<0 or y<0 or x>=MAZE_SIZE or y >= MAZE_SIZE :\n",
    "        return False # (x,y)가 미로 밖이면 -> 갈 수 없음\n",
    "    else:\n",
    "        return map[y][x] == '0' or map[y][x] == 'x' # 출구('x')이거나 방('0')이면 갈 수 있음\n",
    "    \n",
    "def DFS():\n",
    "    stack = Stack()\n",
    "    stack.push( (0,1) )\n",
    "    print('DFS: ')\n",
    "    \n",
    "    while not stack.isEmpty(): # 공백이 아닐 동안\n",
    "        here = stack.pop() # 항목을 꺼냄\n",
    "        print(here, end='->')\n",
    "        (x,y) = here # 스택에 저장된 튜플은 (x,y)순서임\n",
    "        if (map[y][x] == 'x'): # 출구이면 탐색 성공. True 반환\n",
    "            return True\n",
    "        else :\n",
    "            map[y][x] = '.' # 현재위치를 지나왔다고 '.' 표시\n",
    "            # 4방향의 이웃을 검사해 갈 수 있으면 스택에 모두 삽입\n",
    "            if isValidPos(x,y-1): stack.push( (x,y-1) ) # 상\n",
    "            if isValidPos(x,y+1): stack.push( (x,y+1) ) # 하\n",
    "            if isValidPos(x-1,y): stack.push( (x-1,y) ) # 좌\n",
    "            if isValidPos(x+1,y): stack.push( (x+1,y) ) # 우\n",
    "        print('현재 스택: ', stack.top) # 현재 스택 내용 출력\n",
    "    return False # 탐색 실패. False 반환\n",
    "\n",
    "result = DFS()\n",
    "if result : print('미로탐색 성공')\n",
    "else : print('미로탐색 실패')"
   ]
  }
 ],
 "metadata": {
  "kernelspec": {
   "display_name": "Python 3 (ipykernel)",
   "language": "python",
   "name": "python3"
  },
  "language_info": {
   "codemirror_mode": {
    "name": "ipython",
    "version": 3
   },
   "file_extension": ".py",
   "mimetype": "text/x-python",
   "name": "python",
   "nbconvert_exporter": "python",
   "pygments_lexer": "ipython3",
   "version": "3.10.9"
  }
 },
 "nbformat": 4,
 "nbformat_minor": 5
}
