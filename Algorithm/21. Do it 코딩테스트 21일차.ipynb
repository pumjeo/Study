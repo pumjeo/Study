{
 "cells": [
  {
   "cell_type": "markdown",
   "id": "adac2d88",
   "metadata": {},
   "source": [
    "## Q76"
   ]
  },
  {
   "cell_type": "code",
   "execution_count": null,
   "id": "33baa5b2",
   "metadata": {},
   "outputs": [],
   "source": [
    "import sys\n",
    "input = sys.stdin.readline\n",
    "del input\n",
    "\n",
    "N, K = map(int, input().split())\n",
    "\n",
    "D = [[0 for _ in range(N+1)] for _ in range(N+1)]\n",
    "\n",
    "for i in range(0, N+1):\n",
    "    D[i][0] = 1\n",
    "    D[i][1] = i\n",
    "    D[i][i] = 1\n",
    "\n",
    "for i in range(1, N+1):\n",
    "    for j in range(1, N+1):\n",
    "        D[i][j] = D[i-1][j] + D[i-1][j-1]\n",
    "        \n",
    "print(D[N][K])"
   ]
  },
  {
   "cell_type": "markdown",
   "id": "8a6e8eed",
   "metadata": {},
   "source": [
    "## Q77"
   ]
  },
  {
   "cell_type": "code",
   "execution_count": null,
   "id": "23a785e9",
   "metadata": {
    "scrolled": true
   },
   "outputs": [],
   "source": [
    "import sys\n",
    "input = sys.stdin.readline\n",
    "del input\n",
    "MOD = 10007\n",
    "\n",
    "N, K = map(int, input().split())\n",
    "\n",
    "D = [[0 for _ in range(N+1)] for _ in range(N+1)]\n",
    "\n",
    "for i in range(0, N+1):\n",
    "    D[i][0] = 1\n",
    "    D[i][1] = i\n",
    "    D[i][i] = 1\n",
    "\n",
    "for i in range(2, N+1):\n",
    "    for j in range(1, i):\n",
    "        D[i][j] = (D[i-1][j]%MOD + D[i-1][j-1]%MOD)%MOD\n",
    "        \n",
    "print(D[N][K])"
   ]
  },
  {
   "cell_type": "markdown",
   "id": "838622f1",
   "metadata": {},
   "source": [
    "## Q78"
   ]
  },
  {
   "cell_type": "code",
   "execution_count": null,
   "id": "d35e3394",
   "metadata": {},
   "outputs": [],
   "source": [
    "import sys\n",
    "input = sys.stdin.readline\n",
    "del input\n",
    "\n",
    "M = int(input())\n",
    "\n",
    "D = [[0 for _ in range(16)] for _ in range(16)]\n",
    "\n",
    "for i in range(0, 16):\n",
    "    D[0][i] = i\n",
    "    D[i][1] = 1\n",
    "\n",
    "for i in range(1, 15):\n",
    "    for j in range(1, 15):\n",
    "        D[i][j] = sum(D[i-1][:j+1])\n",
    "    \n",
    "for _ in range(M):\n",
    "    flr = int(input())\n",
    "    num = int(input())\n",
    "    print(D[flr][num])"
   ]
  },
  {
   "cell_type": "markdown",
   "id": "c0d11764",
   "metadata": {},
   "source": [
    "## Q79"
   ]
  },
  {
   "cell_type": "code",
   "execution_count": null,
   "id": "d4b80b26",
   "metadata": {},
   "outputs": [],
   "source": [
    "import sys\n",
    "input = sys.stdin.readline\n",
    "del input\n",
    "\n",
    "M = int(input())\n",
    "D = [[0 for _ in range(32)] for _ in range(32)]\n",
    "\n",
    "for i in range(0, 32):\n",
    "    D[i][0] = 1\n",
    "    D[i][1] = i\n",
    "    D[i][i] = 1\n",
    "\n",
    "for i in range(0, 32):\n",
    "    for j in range(1, i):\n",
    "        D[i][j] = D[i-1][j] + D[i-1][j-1]\n",
    "  \n",
    "for _ in range(M):\n",
    "    N, K = map(int, input().split())\n",
    "    print(D[K][N])"
   ]
  },
  {
   "cell_type": "markdown",
   "id": "7181388b",
   "metadata": {},
   "source": [
    "## Q80"
   ]
  },
  {
   "cell_type": "code",
   "execution_count": null,
   "id": "b59a66b3",
   "metadata": {
    "scrolled": true
   },
   "outputs": [],
   "source": [
    "import sys\n",
    "input = sys.stdin.readline\n",
    "del input\n",
    "\n",
    "color = int(input())\n",
    "cand = list(map(int, input().split()))\n",
    "total = sum(cand)\n",
    "\n",
    "K = int(input())\n",
    "\n",
    "D = [[0 for _ in range(2501)] for _ in range(2501)]\n",
    "\n",
    "for i in range(0, 2501):\n",
    "    D[i][0] = 1\n",
    "    D[i][1] = i\n",
    "    D[i][i] = 1\n",
    "\n",
    "for i in range(0, 2501):\n",
    "    for j in range(1, i+1):\n",
    "        D[i][j] = D[i-1][j] + D[i-1][j-1]\n",
    "\n",
    "numer = 0\n",
    "for i in cand:\n",
    "    numer += D[i][K]\n",
    "denom = D[total][K]\n",
    "\n",
    "print(numer/denom)"
   ]
  }
 ],
 "metadata": {
  "kernelspec": {
   "display_name": "Python 3 (ipykernel)",
   "language": "python",
   "name": "python3"
  },
  "language_info": {
   "codemirror_mode": {
    "name": "ipython",
    "version": 3
   },
   "file_extension": ".py",
   "mimetype": "text/x-python",
   "name": "python",
   "nbconvert_exporter": "python",
   "pygments_lexer": "ipython3",
   "version": "3.10.9"
  }
 },
 "nbformat": 4,
 "nbformat_minor": 5
}
