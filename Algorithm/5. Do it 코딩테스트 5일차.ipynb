{
 "cells": [
  {
   "cell_type": "markdown",
   "id": "458cf41f",
   "metadata": {},
   "source": [
    "### Q18"
   ]
  },
  {
   "cell_type": "code",
   "execution_count": 18,
   "id": "ac19804f",
   "metadata": {},
   "outputs": [
    {
     "name": "stdout",
     "output_type": "stream",
     "text": [
      "5\n",
      "3 1 4 3 2\n",
      "32\n"
     ]
    }
   ],
   "source": [
    "import sys\n",
    "input = sys.stdin.readline\n",
    "print = sys.stdout.write\n",
    "\n",
    "del input\n",
    "del print\n",
    "\n",
    "N = int(input())\n",
    "A = list(map(int, input().split()))\n",
    "\n",
    "for i in range(1, N):\n",
    "    \n",
    "    idx = i\n",
    "    value = A[i]\n",
    "    \n",
    "    for j in range(i-1, -1, -1):\n",
    "        if A[j] < A[i]:\n",
    "            idx = j+1\n",
    "            break\n",
    "        if j == 0:\n",
    "            idx = 0\n",
    "    \n",
    "    for j in range(i, idx, -1):\n",
    "        A[j] = A[j-1]\n",
    "        \n",
    "    A[idx] = value\n",
    "        \n",
    "S = []\n",
    "for i in range(N):\n",
    "    S.append(sum(A[:i+1]))\n",
    "    \n",
    "print(sum(S))"
   ]
  },
  {
   "cell_type": "markdown",
   "id": "5d8a71fa",
   "metadata": {},
   "source": [
    "### Q19"
   ]
  },
  {
   "cell_type": "code",
   "execution_count": null,
   "id": "27c1b29a",
   "metadata": {},
   "outputs": [],
   "source": [
    "import sys\n",
    "input = sys.stdin.readline\n",
    "print = sys.stdout.write\n",
    "\n",
    "del input\n",
    "\n",
    "N, K = map(int, input().split())\n",
    "A = list(map(int, input().split()))\n",
    "\n",
    "def quick_sort(start, end, K):\n",
    "    global A\n",
    "    \n",
    "    if start < end : ### \n",
    "        pivot = quick_pivot(start, end)\n",
    "        if pivot == K :\n",
    "            return\n",
    "        elif K < pivot:\n",
    "            quick_sort(start, pivot-1, K)\n",
    "        else:\n",
    "            quick_sort(pivot+1, end, K)\n",
    "        \n",
    "def swap(i, j):\n",
    "    global A\n",
    "    temp = A[i]\n",
    "    A[i] = A[j]\n",
    "    A[j] = temp\n",
    "    \n",
    "def quick_pivot(start, end):\n",
    "    global A\n",
    "    \n",
    "    if start+1 == end:\n",
    "        if A[start] > A[end]:\n",
    "            swap(start, end)\n",
    "        return end\n",
    "    \n",
    "    M = (start+end)//2\n",
    "    swap(start, M)\n",
    "    pivot = A[start]\n",
    "    i = start+1\n",
    "    j = end\n",
    "    \n",
    "    while i <= j:\n",
    "        while pivot < A[j] and j>0:\n",
    "            j -= 1\n",
    "        while pivot > A[i] and i < len(A)-1:\n",
    "            i += 1\n",
    "        if i <= j :\n",
    "            swap(i,j)\n",
    "            i += 1\n",
    "            j -= 1\n",
    "\n",
    "    A[start] = A[j]\n",
    "    A[j] = pivot\n",
    "    return j\n",
    "\n",
    "quick_sort(0, N-1, K-1)\n",
    "print(A[K-1])"
   ]
  }
 ],
 "metadata": {
  "kernelspec": {
   "display_name": "Python 3 (ipykernel)",
   "language": "python",
   "name": "python3"
  },
  "language_info": {
   "codemirror_mode": {
    "name": "ipython",
    "version": 3
   },
   "file_extension": ".py",
   "mimetype": "text/x-python",
   "name": "python",
   "nbconvert_exporter": "python",
   "pygments_lexer": "ipython3",
   "version": "3.10.9"
  }
 },
 "nbformat": 4,
 "nbformat_minor": 5
}
