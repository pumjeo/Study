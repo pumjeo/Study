{
 "cells": [
  {
   "cell_type": "markdown",
   "id": "adac2d88",
   "metadata": {},
   "source": [
    "## Q56"
   ]
  },
  {
   "cell_type": "code",
   "execution_count": 24,
   "id": "33baa5b2",
   "metadata": {},
   "outputs": [
    {
     "name": "stdout",
     "output_type": "stream",
     "text": [
      "5 6\n",
      "1\n",
      "5 1 1\n",
      "1 2 2\n",
      "1 3 3\n",
      "2 3 4\n",
      "2 4 5\n",
      "3 4 6\n",
      "0\n",
      "2\n",
      "3\n",
      "7\n",
      "INF\n"
     ]
    }
   ],
   "source": [
    "import heapq as hq\n",
    "import sys\n",
    "input = sys.stdin.readline\n",
    "del input\n",
    "\n",
    "N, M = map(int, input().split())\n",
    "K = int(input())\n",
    "A = [[] for _ in range(N+1)]\n",
    "Answer = [sys.maxsize] * (N+1)\n",
    "Answer[K] = 0\n",
    "Visited = [0] * (N+1)\n",
    "q = []\n",
    "\n",
    "for _ in range(M):\n",
    "    s,e,w = map(int, input().split())\n",
    "    A[s].append((e,w))\n",
    "\n",
    "hq.heappush(q, (0,K))\n",
    "\n",
    "while q:\n",
    "    now_dist, now_vertex = hq.heappop(q)\n",
    "    if not Visited[now_vertex]: \n",
    "        Visited[now_vertex] = True\n",
    "        for next_vertex, next_dist in A[now_vertex]:\n",
    "            if not Visited[next_vertex] and Answer[next_vertex] > Answer[now_vertex] + next_dist:\n",
    "                Answer[next_vertex] = Answer[now_vertex] + next_dist\n",
    "                hq.heappush(q, (Answer[next_vertex], next_vertex))\n",
    "    \n",
    "for i in range(1, N+1):\n",
    "    if Visited[i] : print(Answer[i])\n",
    "    else : print(\"INF\")"
   ]
  },
  {
   "cell_type": "markdown",
   "id": "8fe43302",
   "metadata": {},
   "source": [
    "## Q57"
   ]
  },
  {
   "cell_type": "code",
   "execution_count": 23,
   "id": "88405108",
   "metadata": {},
   "outputs": [
    {
     "name": "stdout",
     "output_type": "stream",
     "text": [
      "5\n",
      "8\n",
      "1 2 2\n",
      "1 3 3\n",
      "1 4 1\n",
      "1 5 10\n",
      "2 4 2\n",
      "3 4 1\n",
      "3 5 1\n",
      "4 5 3\n",
      "1 5\n",
      "4\n"
     ]
    }
   ],
   "source": [
    "import heapq as hq\n",
    "import sys\n",
    "input = sys.stdin.readline\n",
    "del input\n",
    "\n",
    "N = int(input())\n",
    "M = int(input())\n",
    "A = [[] for _ in range(N+1)]\n",
    "Answer = [sys.maxsize] * (N+1)\n",
    "Visited = [0] * (N+1)\n",
    "q = []\n",
    "\n",
    "for _ in range(M):\n",
    "    s,e,w = map(int, input().split())\n",
    "    A[s].append((e,w))\n",
    "\n",
    "S, E = map(int, input().split())\n",
    "Answer[S] = 0\n",
    "hq.heappush(q, (0,S))\n",
    "\n",
    "while q:\n",
    "    now_dist, now_vertex = hq.heappop(q)\n",
    "    if not Visited[now_vertex]: \n",
    "        Visited[now_vertex] = True\n",
    "        for next_vertex, next_dist in A[now_vertex]:\n",
    "            if Answer[next_vertex] > Answer[now_vertex] + next_dist:\n",
    "                Answer[next_vertex] = Answer[now_vertex] + next_dist\n",
    "                hq.heappush(q, (Answer[next_vertex], next_vertex))  \n",
    "    \n",
    "print(Answer[E])"
   ]
  },
  {
   "cell_type": "markdown",
   "id": "d1acf060",
   "metadata": {},
   "source": [
    "## Q58"
   ]
  },
  {
   "cell_type": "code",
   "execution_count": 35,
   "id": "077df504",
   "metadata": {},
   "outputs": [
    {
     "name": "stdout",
     "output_type": "stream",
     "text": [
      "5 10 2\n",
      "1 2 2\n",
      "1 3 7\n",
      "1 4 5\n",
      "1 5 6\n",
      "2 4 2\n",
      "2 3 4\n",
      "3 4 6\n",
      "3 5 8\n",
      "5 2 4\n",
      "5 4 1\n",
      "-1\n",
      "10\n",
      "7\n",
      "5\n",
      "14\n"
     ]
    }
   ],
   "source": [
    "import heapq as hq\n",
    "import sys\n",
    "input = sys.stdin.readline\n",
    "del input\n",
    "\n",
    "N, M, K = map(int, input().split())\n",
    "W = [[] for _ in range(N+1)]\n",
    "Distance = [[sys.maxsize] * K for _ in range(N+1)]\n",
    "Distance[1][0] = 0\n",
    "\n",
    "for _ in range(M):\n",
    "    s,e,w = map(int, input().split())\n",
    "    W[s].append((e,w))\n",
    "\n",
    "q = []    \n",
    "hq.heappush(q, (0,1))\n",
    "\n",
    "while q:\n",
    "    now_dist, now_node = hq.heappop(q) \n",
    "    for next_node, next_dist in W[now_node]:\n",
    "        tmp = now_dist + next_dist\n",
    "        if Distance[next_node][K-1] > tmp:\n",
    "            Distance[next_node][K-1] = tmp\n",
    "            Distance[next_node].sort()\n",
    "            hq.heappush(q, (tmp, next_node))  \n",
    "    \n",
    "for i in range(1, N+1):\n",
    "    if Distance[i][K-1] == sys.maxsize:\n",
    "        print(-1)\n",
    "    else:\n",
    "        print(Distance[i][K-1])"
   ]
  }
 ],
 "metadata": {
  "kernelspec": {
   "display_name": "Python 3 (ipykernel)",
   "language": "python",
   "name": "python3"
  },
  "language_info": {
   "codemirror_mode": {
    "name": "ipython",
    "version": 3
   },
   "file_extension": ".py",
   "mimetype": "text/x-python",
   "name": "python",
   "nbconvert_exporter": "python",
   "pygments_lexer": "ipython3",
   "version": "3.10.9"
  }
 },
 "nbformat": 4,
 "nbformat_minor": 5
}
