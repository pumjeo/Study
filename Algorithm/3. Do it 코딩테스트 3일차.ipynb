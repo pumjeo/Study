{
 "cells": [
  {
   "cell_type": "markdown",
   "id": "458cf41f",
   "metadata": {},
   "source": [
    "### Q11"
   ]
  },
  {
   "cell_type": "code",
   "execution_count": 6,
   "id": "ac19804f",
   "metadata": {},
   "outputs": [
    {
     "name": "stdout",
     "output_type": "stream",
     "text": [
      "5\n",
      "1\n",
      "2\n",
      "5\n",
      "3\n",
      "4\n",
      "NO\n"
     ]
    }
   ],
   "source": [
    "# 계속 시간초과가 뜸. \"\\n\" 때문이었다.\n",
    "\n",
    "import sys\n",
    "\n",
    "input = sys.stdin.readline\n",
    "del input\n",
    "N = int(input())\n",
    "A = [0]*N\n",
    "\n",
    "for i in range(N):\n",
    "    A[i] = int(input())\n",
    "\n",
    "stack = []\n",
    "num = 1\n",
    "result = True\n",
    "answer = \"\"\n",
    "\n",
    "for i in range(N):\n",
    "    if A[i] >= num:\n",
    "        while A[i] >= num:\n",
    "            stack.append(num)\n",
    "            num += 1\n",
    "            answer += \"+\\n\"\n",
    "        stack.pop()\n",
    "        answer += \"-\\n\"\n",
    "    else:\n",
    "        pop = stack.pop()\n",
    "        if pop > A[i]:\n",
    "            result = False\n",
    "            print(\"NO\")\n",
    "            break\n",
    "        else:\n",
    "            answer += \"-\\n\"\n",
    "            \n",
    "if result:\n",
    "    print(answer)"
   ]
  },
  {
   "cell_type": "code",
   "execution_count": null,
   "id": "45923130",
   "metadata": {},
   "outputs": [],
   "source": [
    "# 정답\n",
    "\n",
    "import sys\n",
    "\n",
    "input = sys.stdin.readline\n",
    "del input\n",
    "N = int(input())\n",
    "A = [0]*N\n",
    "\n",
    "for i in range(N):\n",
    "    A[i] = int(input())\n",
    "\n",
    "stack = []\n",
    "num = 1\n",
    "result = True\n",
    "answer = \"\"\n",
    "\n",
    "for i in range(N):\n",
    "    if A[i] >= num:\n",
    "        while A[i] >= num:\n",
    "            stack.append(num)\n",
    "            num += 1\n",
    "            answer += \"+\"\n",
    "        stack.pop()\n",
    "        answer += \"-\"\n",
    "    else:\n",
    "        pop = stack.pop()\n",
    "        if pop > A[i] :\n",
    "            result = False\n",
    "            print(\"NO\")\n",
    "            break\n",
    "        else:\n",
    "            answer += \"-\"\n",
    "            \n",
    "if result:\n",
    "    for i in answer:\n",
    "        print(i)"
   ]
  },
  {
   "cell_type": "markdown",
   "id": "5d8a71fa",
   "metadata": {},
   "source": [
    "### Q12"
   ]
  },
  {
   "cell_type": "code",
   "execution_count": 21,
   "id": "27c1b29a",
   "metadata": {},
   "outputs": [
    {
     "name": "stdout",
     "output_type": "stream",
     "text": [
      "4\n",
      "9 5 4 8\n",
      "-1 8 8 -1 "
     ]
    }
   ],
   "source": [
    "# 시간 초과\n",
    "\n",
    "import sys\n",
    "\n",
    "input = sys.stdin.readline\n",
    "\n",
    "#del input\n",
    "N = int(input())\n",
    "A = list(map(int, input().split()))\n",
    "ans = [0]*N\n",
    "stack = []\n",
    "\n",
    "for i in range(N):\n",
    "    while stack and A[stack[-1]] < A[i]:\n",
    "        ans[stack.pop()] = A[i]\n",
    "    stack.append(i)\n",
    "    \n",
    "while stack:\n",
    "    ans[stack.pop()] = -1\n",
    "\n",
    "result = \"\"\n",
    "    \n",
    "for i in range(N):\n",
    "    result += str(ans[i])+\" \"\n",
    "\n",
    "print(result)"
   ]
  },
  {
   "cell_type": "code",
   "execution_count": 11,
   "id": "6d5f4502",
   "metadata": {},
   "outputs": [
    {
     "name": "stdout",
     "output_type": "stream",
     "text": [
      "4\n",
      "3 5 2 7\n",
      "5 7 7 -1 "
     ]
    }
   ],
   "source": [
    "# 정답\n",
    "\n",
    "import sys\n",
    "n = int(input())\n",
    "ans = [0] * n\n",
    "A = list(map(int, input().split()))\n",
    "myStack = []\n",
    "for i in range(n):\n",
    "    # 스택이 비어 있지 않고 현재 수열이 스택 top 인덱스가 가리키는 수열보다 클 경우\n",
    "    while myStack and A[myStack[-1]] < A[i]:\n",
    "        ans[myStack.pop()] = A[i]   # 정답 배열에 오큰수를 현재 수열로 저장하기\n",
    "    myStack.append(i)\n",
    "while myStack:  # 반복문을 다 돌고 나왔는데 스택이 비어 있지 않다면 빌 때까지\n",
    "    ans[myStack.pop()] = -1 #스택에 쌓인 index에 -1을 넣기\n",
    "for i in range(n):\n",
    "    sys.stdout.write(str(ans[i]) + \" \")"
   ]
  },
  {
   "cell_type": "markdown",
   "id": "eb712e38",
   "metadata": {},
   "source": [
    "### Q13"
   ]
  },
  {
   "cell_type": "code",
   "execution_count": 35,
   "id": "46591a87",
   "metadata": {},
   "outputs": [
    {
     "name": "stdout",
     "output_type": "stream",
     "text": [
      "6\n",
      "4\n"
     ]
    }
   ],
   "source": [
    "import sys\n",
    "from collections import deque\n",
    "\n",
    "input = sys.stdin.readline\n",
    "print = sys.stdout.write\n",
    "del input\n",
    "del print\n",
    "\n",
    "mydeque = deque()\n",
    "N = int(input())\n",
    "\n",
    "for i in range(1, N+1):\n",
    "    mydeque.append(i)\n",
    "    \n",
    "while len(mydeque) > 1:\n",
    "    mydeque.popleft()\n",
    "    mydeque.append(mydeque.popleft())\n",
    "\n",
    "print(mydeque[0])"
   ]
  },
  {
   "cell_type": "markdown",
   "id": "149d5f60",
   "metadata": {},
   "source": [
    "### Q14"
   ]
  },
  {
   "cell_type": "code",
   "execution_count": 40,
   "id": "4a9adb14",
   "metadata": {},
   "outputs": [
    {
     "name": "stdout",
     "output_type": "stream",
     "text": [
      "18\n",
      "1\n",
      "-1\n",
      "0\n",
      "-1\n",
      "\n",
      "0\n",
      "1\n",
      "\n",
      "0\n",
      "0\n",
      "\n",
      "1\n",
      "1\n",
      "-1\n",
      "-1\n",
      "2\n",
      "-2\n",
      "0\n",
      "-1\n",
      "\n",
      "0\n",
      "-1\n",
      "\n",
      "0\n",
      "1\n",
      "\n",
      "0\n",
      "1\n",
      "\n",
      "0\n",
      "-2\n",
      "\n",
      "0\n",
      "2\n",
      "\n",
      "0\n",
      "0\n",
      "\n"
     ]
    }
   ],
   "source": [
    "from queue import PriorityQueue\n",
    "import sys\n",
    "print = sys.stdout.write\n",
    "input = sys.stdin.readline\n",
    "\n",
    "del print\n",
    "del input\n",
    "\n",
    "myqueue = PriorityQueue()\n",
    "N = int(input())\n",
    "\n",
    "for i in range(N):\n",
    "    request = int(input())\n",
    "    if request==0 :\n",
    "        if myqueue.empty():\n",
    "            print('0\\n')\n",
    "        else:\n",
    "            temp = myqueue.get()\n",
    "            print(str((temp[1]))+'\\n')\n",
    "    else:\n",
    "        myqueue.put((abs(request), request))"
   ]
  }
 ],
 "metadata": {
  "kernelspec": {
   "display_name": "Python 3 (ipykernel)",
   "language": "python",
   "name": "python3"
  },
  "language_info": {
   "codemirror_mode": {
    "name": "ipython",
    "version": 3
   },
   "file_extension": ".py",
   "mimetype": "text/x-python",
   "name": "python",
   "nbconvert_exporter": "python",
   "pygments_lexer": "ipython3",
   "version": "3.10.9"
  }
 },
 "nbformat": 4,
 "nbformat_minor": 5
}
