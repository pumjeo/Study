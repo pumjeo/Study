{
 "cells": [
  {
   "cell_type": "markdown",
   "id": "adac2d88",
   "metadata": {},
   "source": [
    "## Q94"
   ]
  },
  {
   "cell_type": "code",
   "execution_count": 3,
   "id": "33baa5b2",
   "metadata": {},
   "outputs": [
    {
     "name": "stdout",
     "output_type": "stream",
     "text": [
      "3\n",
      "5 3\n",
      "3 2\n",
      "2 6\n",
      "90\n"
     ]
    }
   ],
   "source": [
    "import sys\n",
    "input = sys.stdin.readline\n",
    "del input\n",
    "\n",
    "N = int(input())\n",
    "M = []\n",
    "D = [[-1 for _ in range(N+1)] for _ in range(N+1)]\n",
    "\n",
    "M.append((0,0))\n",
    "\n",
    "for i in range(N):\n",
    "    x,y = map(int, input().split())\n",
    "    M.append((x,y))\n",
    "\n",
    "def execute(s,e):\n",
    "    result = sys.maxsize\n",
    "    if D[s][e] != -1: return D[s][e]\n",
    "    if s==e : return 0\n",
    "    if s+1==e : return M[s][0] * M[s][1] * M[e][1]\n",
    "    \n",
    "    for i in range(s, e):\n",
    "        result = min(result, M[s][0]*M[i][1]*M[e][1] + execute(s, i) + execute(i+1, e))\n",
    "        \n",
    "    D[s][e] = result\n",
    "    return D[s][e]\n",
    "\n",
    "print(execute(1,N))"
   ]
  },
  {
   "cell_type": "markdown",
   "id": "8a6e8eed",
   "metadata": {},
   "source": [
    "## Q95"
   ]
  },
  {
   "cell_type": "code",
   "execution_count": 5,
   "id": "23a785e9",
   "metadata": {
    "scrolled": true
   },
   "outputs": [
    {
     "name": "stdout",
     "output_type": "stream",
     "text": [
      "4\n",
      "0 10 15 20\n",
      "5 0 9 10\n",
      "6 13 0 12\n",
      "8 8 9 0\n",
      "35\n"
     ]
    }
   ],
   "source": [
    "import sys\n",
    "input = sys.stdin.readline\n",
    "del input\n",
    "\n",
    "N = int(input())\n",
    "W = []\n",
    "\n",
    "for i in range(N):\n",
    "    W.append([])\n",
    "    W[i] = list(map(int, input().split()))\n",
    "    \n",
    "D = [[0 for _ in range(1 << 16)] for _ in range(16)]\n",
    "\n",
    "def tsp(c,v): # 완전 탐색의 형태로 수행\n",
    "    if v == (1<<N) - 1: # 모든 노드를 방문한 경우\n",
    "        if W[c][0] == 0:\n",
    "            return float('inf')\n",
    "        else : \n",
    "            return W[c][0]\n",
    "    if D[c][v] != 0 :\n",
    "        return D[c][v]\n",
    "    min_val = float('inf')\n",
    "    for i in range(0, N):\n",
    "        if (v & (1<<i))==0 and W[c][i] != 0: # 방문한 적이 없고, 갈 수 있는 도시인 경우\n",
    "            min_val = min(min_val, tsp(i, (v|(1<<i))) + W[c][i])\n",
    "    D[c][v] = min_val\n",
    "    return D[c][v]\n",
    "\n",
    "print(tsp(0,1))    "
   ]
  },
  {
   "cell_type": "markdown",
   "id": "838622f1",
   "metadata": {},
   "source": [
    "## Q96"
   ]
  },
  {
   "cell_type": "code",
   "execution_count": 6,
   "id": "d35e3394",
   "metadata": {},
   "outputs": [
    {
     "name": "stdout",
     "output_type": "stream",
     "text": [
      "10\n",
      "11 5 10 12 7 14 3 8 24 2\n",
      "5\n",
      "5 10 12 14 24 "
     ]
    }
   ],
   "source": [
    "import sys\n",
    "input = sys.stdin.readline\n",
    "del input\n",
    "\n",
    "N = int(input())\n",
    "A = list(map(int, input().split()))\n",
    "A.insert(0,0)\n",
    "\n",
    "index = 0\n",
    "maxLength = 1\n",
    "B = [0] * 1000001\n",
    "D = [0] * 1000001\n",
    "ans = [0] * 1000001\n",
    "B[maxLength] = A[1]\n",
    "D[1] = 1\n",
    "\n",
    "def binarysearch(l, r, now): # 바이너리 서치 구현\n",
    "    while l<r:\n",
    "        mid = (l+r) // 2\n",
    "        if B[mid] < now: l = mid+1\n",
    "        else : r = mid\n",
    "    return l\n",
    "\n",
    "for i in range(2, N+1):\n",
    "    if B[maxLength] < A[i]:\n",
    "        maxLength += 1\n",
    "        B[maxLength] = A[i]\n",
    "        D[i] = maxLength\n",
    "    else:\n",
    "        index = binarysearch(1, maxLength, A[i])\n",
    "        B[index] = A[i]\n",
    "        D[i] = index\n",
    "        \n",
    "print(maxLength)\n",
    "index = maxLength\n",
    "x = B[maxLength] + 1\n",
    "\n",
    "for i in range(N, 0, -1):\n",
    "    if D[i] == index:\n",
    "        ans[index] = A[i]\n",
    "        index -= 1\n",
    "        \n",
    "for i in range(1, maxLength+1):\n",
    "    print(ans[i], end=' ')"
   ]
  }
 ],
 "metadata": {
  "kernelspec": {
   "display_name": "Python 3 (ipykernel)",
   "language": "python",
   "name": "python3"
  },
  "language_info": {
   "codemirror_mode": {
    "name": "ipython",
    "version": 3
   },
   "file_extension": ".py",
   "mimetype": "text/x-python",
   "name": "python",
   "nbconvert_exporter": "python",
   "pygments_lexer": "ipython3",
   "version": "3.10.9"
  }
 },
 "nbformat": 4,
 "nbformat_minor": 5
}
