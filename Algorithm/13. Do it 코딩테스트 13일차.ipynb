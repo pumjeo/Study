{
 "cells": [
  {
   "cell_type": "markdown",
   "id": "adac2d88",
   "metadata": {},
   "source": [
    "## Q42"
   ]
  },
  {
   "cell_type": "code",
   "execution_count": 7,
   "id": "75253a25",
   "metadata": {},
   "outputs": [
    {
     "name": "stdout",
     "output_type": "stream",
     "text": [
      "1\n",
      "2 92\n",
      "92\n"
     ]
    }
   ],
   "source": [
    "def gcd(a,b):\n",
    "    if b==0:\n",
    "        return a\n",
    "    else:\n",
    "        return gcd(b, a%b)\n",
    "    \n",
    "t = int(input())\n",
    "\n",
    "for i in range(t):\n",
    "    a, b = map(int, input().split())\n",
    "    result = a*b/gcd(a,b)\n",
    "    print(int(result))"
   ]
  },
  {
   "cell_type": "markdown",
   "id": "8fe43302",
   "metadata": {},
   "source": [
    "## Q43"
   ]
  },
  {
   "cell_type": "code",
   "execution_count": 11,
   "id": "88405108",
   "metadata": {},
   "outputs": [
    {
     "name": "stdout",
     "output_type": "stream",
     "text": [
      "3 6\n",
      "111"
     ]
    }
   ],
   "source": [
    "def gcd(a,b):\n",
    "    if b==0:\n",
    "        return a\n",
    "    else:\n",
    "        return gcd(b, a%b)\n",
    "\n",
    "a, b = map(int, input().split())\n",
    "result = gcd(a,b)\n",
    "\n",
    "while result > 0:\n",
    "    print(1, end='')\n",
    "    result -= 1"
   ]
  },
  {
   "cell_type": "markdown",
   "id": "d1acf060",
   "metadata": {},
   "source": [
    "## Q44"
   ]
  },
  {
   "cell_type": "code",
   "execution_count": 8,
   "id": "aff12a4f",
   "metadata": {},
   "outputs": [
    {
     "name": "stdout",
     "output_type": "stream",
     "text": [
      "4\n",
      "2 3 6 8\n",
      "0 1 9 3\n",
      "3 0 7 5\n",
      "60 20 63 84 "
     ]
    }
   ],
   "source": [
    "import sys\n",
    "input = sys.stdin.readline\n",
    "del input\n",
    "\n",
    "N = int(input())\n",
    "A = [[] for _ in range(N)]\n",
    "visited = [False] * N\n",
    "D = [0] * N\n",
    "lcm = 1\n",
    "\n",
    "def gcd(a,b):\n",
    "    if b==0 : return a\n",
    "    else : return gcd(b, a%b)\n",
    "    \n",
    "def DFS(v):\n",
    "    visited[v] = True\n",
    "    for i in A[v]:\n",
    "        next = i[0]\n",
    "        if not visited[next]:\n",
    "            D[next] = int(D[v]* i[2] / i[1])\n",
    "            DFS(next)\n",
    "\n",
    "for _ in range(N-1):\n",
    "    a, b, p, q = map(int, input().split())\n",
    "    A[a].append((b, p, q))\n",
    "    A[b].append((a, q, p))\n",
    "    lcm *= int(p*q / gcd(p,q))\n",
    "    \n",
    "D[0] = lcm\n",
    "DFS(0)\n",
    "mgcd = D[0]\n",
    "\n",
    "for i in range(1,N):\n",
    "    mgcd = gcd(mgcd, D[i])\n",
    "    \n",
    "for i in range(N):\n",
    "    print(int(D[i]/mgcd), end=' ')"
   ]
  }
 ],
 "metadata": {
  "kernelspec": {
   "display_name": "Python 3 (ipykernel)",
   "language": "python",
   "name": "python3"
  },
  "language_info": {
   "codemirror_mode": {
    "name": "ipython",
    "version": 3
   },
   "file_extension": ".py",
   "mimetype": "text/x-python",
   "name": "python",
   "nbconvert_exporter": "python",
   "pygments_lexer": "ipython3",
   "version": "3.10.9"
  }
 },
 "nbformat": 4,
 "nbformat_minor": 5
}
