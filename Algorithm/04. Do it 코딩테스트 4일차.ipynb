{
 "cells": [
  {
   "cell_type": "markdown",
   "id": "458cf41f",
   "metadata": {},
   "source": [
    "### Q15"
   ]
  },
  {
   "cell_type": "code",
   "execution_count": 5,
   "id": "ac19804f",
   "metadata": {},
   "outputs": [
    {
     "name": "stdout",
     "output_type": "stream",
     "text": [
      "5\n",
      "1\n",
      "5\n",
      "3\n",
      "4\n",
      "2\n",
      "1\n",
      "2\n",
      "3\n",
      "4\n",
      "5\n"
     ]
    }
   ],
   "source": [
    "import sys\n",
    "input = sys.stdin.readline\n",
    "print = sys.stdout.write\n",
    "\n",
    "del input\n",
    "del print\n",
    "\n",
    "N = int(input())\n",
    "A = [0]*N\n",
    "\n",
    "for i in range(N):\n",
    "    A[i] = int(input())\n",
    "\n",
    "for i in range(N-1):\n",
    "    for j in range(N-1-i):\n",
    "        if A[j] > A[j+1]:\n",
    "            temp = A[j+1]\n",
    "            A[j+1] = A[j]\n",
    "            A[j] = temp\n",
    "        \n",
    "for i in range(N):\n",
    "    print(A[i]) # 백준에 제출할 때는 str(A[i])+'\\n'을 print 안에 넣는다."
   ]
  },
  {
   "cell_type": "markdown",
   "id": "5d8a71fa",
   "metadata": {},
   "source": [
    "### Q16"
   ]
  },
  {
   "cell_type": "code",
   "execution_count": 13,
   "id": "27c1b29a",
   "metadata": {},
   "outputs": [
    {
     "name": "stdout",
     "output_type": "stream",
     "text": [
      "5\n",
      "10\n",
      "1\n",
      "2\n",
      "5\n",
      "3\n",
      "3\n"
     ]
    }
   ],
   "source": [
    "# 시간초과로 실패\n",
    "\n",
    "import sys\n",
    "input = sys.stdin.readline\n",
    "print = sys.stdout.write\n",
    "\n",
    "del input\n",
    "del print\n",
    "\n",
    "N = int(input())\n",
    "A = [int(input()) for i in range(N)] \n",
    "    \n",
    "after = A[:]\n",
    "after.sort()\n",
    "max_num = 0\n",
    "\n",
    "for i in range(N):\n",
    "    if max_num < A.index(after[i])-i:\n",
    "        max_num = A.index(after[i])-i\n",
    "    \n",
    "print(max_num+1)"
   ]
  },
  {
   "cell_type": "code",
   "execution_count": 15,
   "id": "ab9359da",
   "metadata": {},
   "outputs": [
    {
     "name": "stdout",
     "output_type": "stream",
     "text": [
      "5\n",
      "10\n",
      "2\n",
      "1\n",
      "3\n",
      "5\n",
      "3\n"
     ]
    }
   ],
   "source": [
    "# 정답\n",
    "\n",
    "import sys\n",
    "input = sys.stdin.readline\n",
    "del input\n",
    "\n",
    "N = int(input())\n",
    "A = []\n",
    "for i in range(N):\n",
    "    A.append((int(input()), i))\n",
    "Max = 0\n",
    "sorted_A = sorted(A)\n",
    "for i in range(N):\n",
    "    if Max < sorted_A[i][1] - i:    # 정렬 전 index - 정렬 후 index 계산의 최댓값 저장하기\n",
    "        Max = sorted_A[i][1] - i\n",
    "print(Max + 1)"
   ]
  },
  {
   "cell_type": "markdown",
   "id": "eb712e38",
   "metadata": {},
   "source": [
    "### Q17"
   ]
  },
  {
   "cell_type": "code",
   "execution_count": 48,
   "id": "46591a87",
   "metadata": {},
   "outputs": [
    {
     "name": "stdout",
     "output_type": "stream",
     "text": [
      "43592217\n",
      "9\n",
      "7\n",
      "5\n",
      "4\n",
      "3\n",
      "2\n",
      "2\n",
      "1\n"
     ]
    }
   ],
   "source": [
    "# 맞추긴 했는데 코드가 좀 뵈기 싫음\n",
    "\n",
    "import sys\n",
    "\n",
    "input = sys.stdin.readline\n",
    "print = sys.stdout.write\n",
    "\n",
    "del input\n",
    "del print\n",
    "\n",
    "A = list(input())\n",
    "\n",
    "for i in range(len(A)-1):\n",
    "    max_idx = A[i+1:].index(max(A[i+1:])) + (i+1)\n",
    "    if A[i] < A[max_idx]:\n",
    "        temp = A[i]\n",
    "        A[i] = A[max_idx]\n",
    "        A[max_idx] = temp\n",
    "\n",
    "         \n",
    "for i in range(len(A)):\n",
    "    print(A[i])"
   ]
  },
  {
   "cell_type": "code",
   "execution_count": 8,
   "id": "92495b2f",
   "metadata": {},
   "outputs": [
    {
     "name": "stdout",
     "output_type": "stream",
     "text": [
      "130591369585623\n",
      "998665553332110"
     ]
    }
   ],
   "source": [
    "# 정답\n",
    "\n",
    "import sys\n",
    "print = sys.stdout.write\n",
    "A = list(input())\n",
    "for i in range(len(A)):\n",
    "    Max = i\n",
    "    for j in range(i+1, len(A)):\n",
    "        if A[j] > A[Max]:   # 내림차순이므로 최댓값을 찾음\n",
    "            Max = j\n",
    "    if A[i] < A[Max]:\n",
    "        temp = A[i]\n",
    "        A[i] = A[Max]\n",
    "        A[Max] = temp\n",
    "for i in range(len(A)):\n",
    "    print(A[i])"
   ]
  }
 ],
 "metadata": {
  "kernelspec": {
   "display_name": "Python 3 (ipykernel)",
   "language": "python",
   "name": "python3"
  },
  "language_info": {
   "codemirror_mode": {
    "name": "ipython",
    "version": 3
   },
   "file_extension": ".py",
   "mimetype": "text/x-python",
   "name": "python",
   "nbconvert_exporter": "python",
   "pygments_lexer": "ipython3",
   "version": "3.10.9"
  }
 },
 "nbformat": 4,
 "nbformat_minor": 5
}
