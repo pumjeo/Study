{
 "cells": [
  {
   "cell_type": "markdown",
   "id": "adac2d88",
   "metadata": {},
   "source": [
    "## Q50"
   ]
  },
  {
   "cell_type": "code",
   "execution_count": 1,
   "id": "75253a25",
   "metadata": {},
   "outputs": [
    {
     "name": "stdout",
     "output_type": "stream",
     "text": [
      "7 8\n",
      "0 1 3\n",
      "1 1 7\n",
      "NO\n",
      "0 7 6\n",
      "1 7 1\n",
      "NO\n",
      "0 3 7\n",
      "0 4 2\n",
      "0 1 1\n",
      "1 1 1\n",
      "YES\n"
     ]
    }
   ],
   "source": [
    "import sys\n",
    "input = sys.stdin.readline\n",
    "del input\n",
    "sys.setrecursionlimit(100000)\n",
    "N, M = map(int, input().split())\n",
    "parent = [0] * (N+1)\n",
    "\n",
    "def find(a):\n",
    "    if a == parent[a]: return a\n",
    "    else:\n",
    "        parent[a] = find(parent[a])\n",
    "        return parent[a]\n",
    "    \n",
    "def union(a, b):\n",
    "    a = find(a)\n",
    "    b = find(b)\n",
    "    if a!=b: parent[b] = a\n",
    "        \n",
    "def checkSame(a,b):\n",
    "    a = find(a)\n",
    "    b = find(b)\n",
    "    if a==b: return True\n",
    "    return False\n",
    "\n",
    "for i in range(0, N+1):\n",
    "    parent[i] = i\n",
    "    \n",
    "for i in range(M):\n",
    "    command, a, b = map(int, input().split())\n",
    "    if command == 0 : union(a,b)\n",
    "    else :\n",
    "        if checkSame(a, b) : print(\"YES\")\n",
    "        else : print(\"NO\")"
   ]
  },
  {
   "cell_type": "markdown",
   "id": "8fe43302",
   "metadata": {},
   "source": [
    "## Q51"
   ]
  },
  {
   "cell_type": "code",
   "execution_count": 16,
   "id": "88405108",
   "metadata": {},
   "outputs": [
    {
     "name": "stdout",
     "output_type": "stream",
     "text": [
      "3\n",
      "3\n",
      "0 1 0\n",
      "1 0 1\n",
      "0 1 0\n",
      "1 2 3\n",
      "[[], [0, 0, 1, 0], [0, 1, 0, 1], [0, 0, 1, 0]]\n",
      "[0, 3, 3, 3]\n",
      "True\n"
     ]
    }
   ],
   "source": [
    "import sys\n",
    "input = sys.stdin.readline\n",
    "del input\n",
    "sys.setrecursionlimit(100000)\n",
    "N = int(input())\n",
    "M = int(input())\n",
    "A = [[] for _ in range(N+1)]\n",
    "\n",
    "for i in range(1, N+1):\n",
    "    A[i] = [0] + list(map(int, input().split()))\n",
    "    \n",
    "path = list(map(int, input().split()))\n",
    "\n",
    "parent = [0] * (N+1)\n",
    "for i in range(1, N+1):\n",
    "    parent[i] = i\n",
    "\n",
    "def find(a):\n",
    "    if a == parent[a]: return a\n",
    "    else:\n",
    "        parent[a] = find(parent[a])\n",
    "        return parent[a]\n",
    "    \n",
    "def union(a, b):\n",
    "    a = find(a)\n",
    "    b = find(b)\n",
    "    if a!=b: parent[b] = a\n",
    "        \n",
    "for i in range(1, N+1):\n",
    "    for j in range(1, N+1):\n",
    "        if A[i][j]==1 : union(i,j)\n",
    "\n",
    "for i in range(M):\n",
    "    find(path[i])\n",
    "\n",
    "Answer = True\n",
    "boss = parent[path[0]]\n",
    "\n",
    "for i in path[1:]:\n",
    "    if boss != parent[i] : \n",
    "        Answer = False\n",
    "        break\n",
    "    boss = parent[i]\n",
    "    \n",
    "if Answer : print(\"YES\")\n",
    "else : print(\"NO\")"
   ]
  },
  {
   "cell_type": "markdown",
   "id": "d1acf060",
   "metadata": {},
   "source": [
    "## Q52"
   ]
  },
  {
   "cell_type": "code",
   "execution_count": 22,
   "id": "077df504",
   "metadata": {},
   "outputs": [
    {
     "name": "stdout",
     "output_type": "stream",
     "text": [
      "8 5\n",
      "3 1 2 7\n",
      "2 3 4\n",
      "1 5\n",
      "2 5 6\n",
      "2 6 8\n",
      "1 8\n",
      "3\n",
      "[1, 2, 7]\n",
      "[[], [3, 4], [5], [5, 6], [6, 8], [8]]\n",
      "[0, 1, 2, 3, 4, 5, 6, 7, 8]\n"
     ]
    }
   ],
   "source": [
    "import sys\n",
    "input = sys.stdin.readline\n",
    "del input\n",
    "sys.setrecursionlimit(100000)\n",
    "N, M = map(int, input().split())\n",
    "truth = list(map(int, input().split()))\n",
    "\n",
    "truth_num = truth[0]\n",
    "truth_member = truth[1:]\n",
    "\n",
    "party = [[] for _ in range(M+1)]\n",
    "\n",
    "for i in range(1,M+1):\n",
    "    temp = list(map(int, input().split()))\n",
    "    party[i] = temp[1:]\n",
    "\n",
    "parent = [0] * (N+1)\n",
    "for i in range(1, N+1):\n",
    "    parent[i] = i\n",
    "    \n",
    "print(truth_num)\n",
    "print(truth_member)\n",
    "print(party)\n",
    "print(parent)"
   ]
  },
  {
   "cell_type": "code",
   "execution_count": 28,
   "id": "aff12a4f",
   "metadata": {},
   "outputs": [
    {
     "name": "stdout",
     "output_type": "stream",
     "text": [
      "10 9\n",
      "4 1 2 3 4\n",
      "2 1 5\n",
      "2 2 6\n",
      "1 7\n",
      "1 8\n",
      "2 7 8\n",
      "1 9\n",
      "1 10\n",
      "2 3 10\n",
      "1 4\n",
      "4\n"
     ]
    }
   ],
   "source": [
    "import sys\n",
    "input = sys.stdin.readline\n",
    "del input\n",
    "sys.setrecursionlimit(100000)\n",
    "N, M = map(int, input().split())\n",
    "truth = list(map(int, input().split()))\n",
    "\n",
    "truth_num = truth[0]\n",
    "truth_member = truth[1:]\n",
    "\n",
    "party = [[] for _ in range(M+1)]\n",
    "\n",
    "for i in range(1,M+1):\n",
    "    temp = list(map(int, input().split()))\n",
    "    party[i] = temp[1:]\n",
    "\n",
    "parent = [0] * (N+1)\n",
    "for i in range(1, N+1):\n",
    "    parent[i] = i\n",
    "    \n",
    "def find(a):\n",
    "    if a == parent[a]: return a\n",
    "    else:\n",
    "        parent[a] = find(parent[a])\n",
    "        return parent[a]\n",
    "    \n",
    "def union(a, b):\n",
    "    a = find(a)\n",
    "    b = find(b)\n",
    "    if a!=b: parent[b] = a\n",
    "\n",
    "for i in range(1, M+1):\n",
    "    member_list = party[i]\n",
    "    firstperson = party[i][0]\n",
    "    for j in range(1, len(member_list)):\n",
    "        union(firstperson, member_list[j])\n",
    "   \n",
    "result = 0\n",
    "\n",
    "for i in range(1, M+1):\n",
    "    isPossible = True\n",
    "    firstperson = party[i][0]\n",
    "    for j in range(truth_num):\n",
    "        if find(firstperson) == find(truth_member[j]):\n",
    "            isPossible = False\n",
    "            break\n",
    "    if isPossible:\n",
    "        result += 1\n",
    "\n",
    "print(result)"
   ]
  },
  {
   "cell_type": "code",
   "execution_count": null,
   "id": "537f256e",
   "metadata": {},
   "outputs": [],
   "source": []
  }
 ],
 "metadata": {
  "kernelspec": {
   "display_name": "Python 3 (ipykernel)",
   "language": "python",
   "name": "python3"
  },
  "language_info": {
   "codemirror_mode": {
    "name": "ipython",
    "version": 3
   },
   "file_extension": ".py",
   "mimetype": "text/x-python",
   "name": "python",
   "nbconvert_exporter": "python",
   "pygments_lexer": "ipython3",
   "version": "3.10.9"
  }
 },
 "nbformat": 4,
 "nbformat_minor": 5
}
