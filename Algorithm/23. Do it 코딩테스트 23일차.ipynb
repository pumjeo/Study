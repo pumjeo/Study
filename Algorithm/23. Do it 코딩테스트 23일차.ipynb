{
 "cells": [
  {
   "cell_type": "markdown",
   "id": "adac2d88",
   "metadata": {},
   "source": [
    "## Q84"
   ]
  },
  {
   "cell_type": "code",
   "execution_count": 22,
   "id": "33baa5b2",
   "metadata": {},
   "outputs": [
    {
     "name": "stdout",
     "output_type": "stream",
     "text": [
      "10\n",
      "3\n"
     ]
    }
   ],
   "source": [
    "N = int(input())\n",
    "\n",
    "DP = [0] * (N+1)\n",
    "\n",
    "DP[1] = 0\n",
    "\n",
    "for i in range(2, N+1):\n",
    "    DP[i] = DP[i-1] + 1\n",
    "    if i%2==0 : DP[i] = min(DP[i], DP[i//2]+1)\n",
    "    if i%3==0 : DP[i] = min(DP[i], DP[i//3]+1)\n",
    "    \n",
    "print(DP[N])"
   ]
  },
  {
   "cell_type": "markdown",
   "id": "8a6e8eed",
   "metadata": {},
   "source": [
    "## Q85"
   ]
  },
  {
   "cell_type": "code",
   "execution_count": 37,
   "id": "23a785e9",
   "metadata": {
    "scrolled": true
   },
   "outputs": [
    {
     "name": "stdout",
     "output_type": "stream",
     "text": [
      "10\n",
      "5 10\n",
      "5 9\n",
      "5 8\n",
      "5 7\n",
      "5 6\n",
      "5 10\n",
      "5 9\n",
      "5 8\n",
      "5 7\n",
      "5 6\n"
     ]
    },
    {
     "data": {
      "text/plain": [
       "[0, 20, 10, 10, 10, 10, 10, 0, 0, 0, 0, 0]"
      ]
     },
     "execution_count": 37,
     "metadata": {},
     "output_type": "execute_result"
    }
   ],
   "source": [
    "import sys\n",
    "input = sys.stdin.readline\n",
    "del input\n",
    "\n",
    "N = int(input())\n",
    "day = [0] * (N+1)\n",
    "price = [0] * (N+1)\n",
    "DP = [0] * (N+2)\n",
    "\n",
    "for i in range(1, N+1):\n",
    "    d, p = map(int, input().split())\n",
    "    day[i] = d\n",
    "    price[i] = p\n",
    "\n",
    "if day[N] == 1: DP[N] = price[N]\n",
    "\n",
    "for i in range(N-1, 0, -1):\n",
    "    if i+day[i] > N+1: DP[i] = DP[i+1]\n",
    "    else : DP[i] = max(DP[i+1], price[i]+DP[i+day[i]])\n",
    "    \n",
    "print(DP[1])"
   ]
  },
  {
   "cell_type": "markdown",
   "id": "838622f1",
   "metadata": {},
   "source": [
    "## Q86"
   ]
  },
  {
   "cell_type": "code",
   "execution_count": 41,
   "id": "d35e3394",
   "metadata": {},
   "outputs": [
    {
     "name": "stdout",
     "output_type": "stream",
     "text": [
      "5\n",
      "[[0, 0], [0, 0], [0, 0], [0, 0], [0, 0], [0, 0]]\n"
     ]
    },
    {
     "data": {
      "text/plain": [
       "5"
      ]
     },
     "execution_count": 41,
     "metadata": {},
     "output_type": "execute_result"
    }
   ],
   "source": [
    "N = int(input())\n",
    "\n",
    "DP = [[0]*2 for _ in range(N+1)]\n",
    "\n",
    "print(DP)\n",
    "\n",
    "DP[1][0] = 0\n",
    "DP[1][1] = 1\n",
    "\n",
    "for i in range(2, N+1):\n",
    "    DP[i][0] = DP[i-1][0] + DP[i-1][1]\n",
    "    DP[i][1] = DP[i-1][0]\n",
    "    \n",
    "print(DP[N][0]+DP[N][1])"
   ]
  },
  {
   "cell_type": "markdown",
   "id": "48912ac2",
   "metadata": {},
   "source": [
    "## Q87"
   ]
  },
  {
   "cell_type": "code",
   "execution_count": 2,
   "id": "f980d010",
   "metadata": {},
   "outputs": [
    {
     "name": "stdout",
     "output_type": "stream",
     "text": [
      "2\n",
      "2\n"
     ]
    }
   ],
   "source": [
    "N = int(input())\n",
    "MOD = 10007\n",
    "\n",
    "DP = [0] * 1001\n",
    "DP[1] = 1\n",
    "DP[2] = 2\n",
    "\n",
    "for i in range(3, N+1):\n",
    "    DP[i] = DP[i-2] + DP[i-1]\n",
    "    \n",
    "print(DP[N]%MOD)"
   ]
  }
 ],
 "metadata": {
  "kernelspec": {
   "display_name": "Python 3 (ipykernel)",
   "language": "python",
   "name": "python3"
  },
  "language_info": {
   "codemirror_mode": {
    "name": "ipython",
    "version": 3
   },
   "file_extension": ".py",
   "mimetype": "text/x-python",
   "name": "python",
   "nbconvert_exporter": "python",
   "pygments_lexer": "ipython3",
   "version": "3.10.9"
  }
 },
 "nbformat": 4,
 "nbformat_minor": 5
}
