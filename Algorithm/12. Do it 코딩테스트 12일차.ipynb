{
 "cells": [
  {
   "cell_type": "markdown",
   "id": "adac2d88",
   "metadata": {},
   "source": [
    "## Q37"
   ]
  },
  {
   "cell_type": "code",
   "execution_count": 9,
   "id": "75253a25",
   "metadata": {},
   "outputs": [
    {
     "name": "stdout",
     "output_type": "stream",
     "text": [
      "3 9\n",
      "3\n",
      "5\n",
      "7\n"
     ]
    }
   ],
   "source": [
    "import sys\n",
    "input = sys.stdin.readline\n",
    "del input\n",
    "\n",
    "M, N = map(int, input().split())\n",
    "A = [0]*(N+1)\n",
    "\n",
    "for i in range(2, N+1):\n",
    "    A[i] = i\n",
    "\n",
    "for i in range(2, int(N**(1/2))+1):\n",
    "    if A[i] == 0 :\n",
    "        continue\n",
    "    for j in range(i+i, N+1, i):\n",
    "        A[j] = 0\n",
    "        \n",
    "for i in range(M, N+1):\n",
    "    if A[i]!=0 : print(A[i])"
   ]
  },
  {
   "cell_type": "markdown",
   "id": "8fe43302",
   "metadata": {},
   "source": [
    "## Q38"
   ]
  },
  {
   "cell_type": "code",
   "execution_count": 40,
   "id": "88405108",
   "metadata": {},
   "outputs": [
    {
     "name": "stdout",
     "output_type": "stream",
     "text": [
      "1 1000\n",
      "25\n"
     ]
    }
   ],
   "source": [
    "import sys\n",
    "input = sys.stdin.readline\n",
    "del input\n",
    "\n",
    "M, N = map(int, input().split())\n",
    "max_num = int(N**(1/2))+1\n",
    "A = [0]*(max_num+1)\n",
    "\n",
    "for i in range(2, max_num+1):\n",
    "    A[i] = i\n",
    "\n",
    "for i in range(2, int(max_num**(1/2))+1):\n",
    "    if A[i] == 0 :\n",
    "        continue\n",
    "    for j in range(i+i, max_num+1, i):\n",
    "        A[j] = 0\n",
    "\n",
    "count = 0\n",
    "\n",
    "for i in range(2, max_num+1):\n",
    "    if A[i] != 0 :\n",
    "        temp = A[i]\n",
    "        while A[i] <= N/temp:\n",
    "            if A[i] >= M/temp:\n",
    "                count += 1\n",
    "            temp *= A[i]\n",
    "            \n",
    "print(count)"
   ]
  },
  {
   "cell_type": "markdown",
   "id": "d1acf060",
   "metadata": {},
   "source": [
    "## Q39"
   ]
  },
  {
   "cell_type": "code",
   "execution_count": 16,
   "id": "aff12a4f",
   "metadata": {},
   "outputs": [
    {
     "name": "stdout",
     "output_type": "stream",
     "text": [
      "100\n",
      "101\n"
     ]
    }
   ],
   "source": [
    "import sys\n",
    "input = sys.stdin.readline\n",
    "del input\n",
    "\n",
    "M = int(input())\n",
    "N = 10000000\n",
    "A = [0]*(N+1)\n",
    "\n",
    "for i in range(2, N+1):\n",
    "    A[i] = i\n",
    "\n",
    "for i in range(2, int(N**(1/2))+1):\n",
    "    if A[i] == 0 :\n",
    "        continue\n",
    "    for j in range(i+i, N+1, i):\n",
    "        A[j] = 0\n",
    "        \n",
    "for i in range(M, N+1):\n",
    "    if (A[i]!=0) and (A[i] == int(''.join(list(str(A[i]))[::-1]))): break\n",
    "        \n",
    "print(A[i])"
   ]
  },
  {
   "cell_type": "markdown",
   "id": "f91c6903",
   "metadata": {},
   "source": [
    "## Q40"
   ]
  },
  {
   "cell_type": "code",
   "execution_count": 28,
   "id": "0abe7e5d",
   "metadata": {},
   "outputs": [
    {
     "name": "stdout",
     "output_type": "stream",
     "text": [
      "1 1000\n",
      "608\n"
     ]
    }
   ],
   "source": [
    "import sys\n",
    "input = sys.stdin.readline\n",
    "del input\n",
    "\n",
    "M, N = map(int, input().split())\n",
    "A = [0]*(N+1)\n",
    "\n",
    "for i in range(1, N+1):\n",
    "    A[i] = i\n",
    "\n",
    "for i in range(2, int(N**(1/2))+1):\n",
    "    if A[i] == 0 :\n",
    "        continue\n",
    "    for j in range(i*i, N+1, i*i):\n",
    "        A[j] = 0\n",
    "\n",
    "count = 0 \n",
    "\n",
    "for i in range(M, N+1):\n",
    "    if A[i]!=0 : \n",
    "        count += 1\n",
    "        \n",
    "print(count)"
   ]
  },
  {
   "cell_type": "code",
   "execution_count": 30,
   "id": "50d1dbc3",
   "metadata": {},
   "outputs": [
    {
     "name": "stdout",
     "output_type": "stream",
     "text": [
      "1 1000\n",
      "608\n"
     ]
    }
   ],
   "source": [
    "import sys\n",
    "input = sys.stdin.readline\n",
    "del input\n",
    "\n",
    "M, N = map(int, input().split())\n",
    "Check = [False] * (N-M+1)\n",
    "\n",
    "for i in range(2, int(N**0.5)+1):\n",
    "    pow = i*i\n",
    "    start_idx = M//pow\n",
    "    if M%pow != 0 : start_idx += 1\n",
    "    for j in range(start_idx, N//pow+1):\n",
    "        Check[int(j*pow)-M] = True\n",
    "        \n",
    "count = 0\n",
    "\n",
    "for i in range(0, N-M+1):\n",
    "    if not Check[i]:\n",
    "        count += 1\n",
    "        \n",
    "print(count)"
   ]
  },
  {
   "cell_type": "markdown",
   "id": "c834c7ae",
   "metadata": {},
   "source": [
    "## Q41"
   ]
  },
  {
   "cell_type": "code",
   "execution_count": 31,
   "id": "b35d1394",
   "metadata": {},
   "outputs": [
    {
     "name": "stdout",
     "output_type": "stream",
     "text": [
      "99\n",
      "60\n"
     ]
    }
   ],
   "source": [
    "N = int(input())\n",
    "result = N\n",
    "\n",
    "for p in range(2, int(N**0.5)+1):\n",
    "    if N%p == 0 :\n",
    "        result -= result/p\n",
    "        while N%p ==0:\n",
    "            N /= p\n",
    "\n",
    "if N>1:\n",
    "    result -= result / N\n",
    "    \n",
    "print(int(result))"
   ]
  }
 ],
 "metadata": {
  "kernelspec": {
   "display_name": "Python 3 (ipykernel)",
   "language": "python",
   "name": "python3"
  },
  "language_info": {
   "codemirror_mode": {
    "name": "ipython",
    "version": 3
   },
   "file_extension": ".py",
   "mimetype": "text/x-python",
   "name": "python",
   "nbconvert_exporter": "python",
   "pygments_lexer": "ipython3",
   "version": "3.10.9"
  }
 },
 "nbformat": 4,
 "nbformat_minor": 5
}
