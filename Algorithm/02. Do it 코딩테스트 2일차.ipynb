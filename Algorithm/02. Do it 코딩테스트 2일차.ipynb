{
 "cells": [
  {
   "cell_type": "markdown",
   "id": "458cf41f",
   "metadata": {},
   "source": [
    "### Q6"
   ]
  },
  {
   "cell_type": "code",
   "execution_count": 4,
   "id": "2b6fd66e",
   "metadata": {},
   "outputs": [
    {
     "name": "stdout",
     "output_type": "stream",
     "text": [
      "23958\n",
      "12\n"
     ]
    }
   ],
   "source": [
    "N = int(input())\n",
    "\n",
    "count = 1\n",
    "start_index=1\n",
    "end_index=1\n",
    "sum=1\n",
    "\n",
    "while end_index !=N:\n",
    "    if sum == N:\n",
    "        count += 1\n",
    "        end_index += 1\n",
    "        sum += end_index\n",
    "    elif sum > N:\n",
    "        sum -= start_index\n",
    "        start_index += 1\n",
    "    else:\n",
    "        end_index += 1\n",
    "        sum += end_index\n",
    "        \n",
    "print(count)"
   ]
  },
  {
   "cell_type": "markdown",
   "id": "5d8a71fa",
   "metadata": {},
   "source": [
    "### Q7"
   ]
  },
  {
   "cell_type": "code",
   "execution_count": 33,
   "id": "27c1b29a",
   "metadata": {},
   "outputs": [
    {
     "name": "stdout",
     "output_type": "stream",
     "text": [
      "6\n",
      "9\n",
      "2 7 4 1 5 3\n",
      "2\n"
     ]
    }
   ],
   "source": [
    "# 시간초과로 실패\n",
    "\n",
    "import sys\n",
    "\n",
    "input = sys.stdin.readline\n",
    "del input\n",
    "N = int(input())\n",
    "M = int(input())\n",
    "A = list(map(int, input().split()))\n",
    "\n",
    "A.sort()\n",
    "\n",
    "count = 0\n",
    "\n",
    "for idx, i in enumerate(A) :\n",
    "    for j in A[idx:] :\n",
    "        if i + j == M :\n",
    "            count += 1\n",
    "\n",
    "print(count)"
   ]
  },
  {
   "cell_type": "code",
   "execution_count": 34,
   "id": "d3b43df7",
   "metadata": {},
   "outputs": [
    {
     "name": "stdout",
     "output_type": "stream",
     "text": [
      "6\n",
      "9\n",
      "2 7 4 1 5 3\n",
      "2\n"
     ]
    }
   ],
   "source": [
    "# 정답\n",
    "\n",
    "import sys\n",
    "\n",
    "input = sys.stdin.readline\n",
    "del input\n",
    "N = int(input())\n",
    "M = int(input())\n",
    "A = list(map(int, input().split()))\n",
    "\n",
    "A.sort()\n",
    "\n",
    "count = 0\n",
    "i = 0\n",
    "j = N-1\n",
    "\n",
    "while i<j:\n",
    "    if A[i] + A[j] < M:\n",
    "        i += 1\n",
    "    elif A[i] + A[j] > M:\n",
    "        j -= 1\n",
    "    else:\n",
    "        count += 1\n",
    "        i += 1\n",
    "        j -= 1\n",
    "\n",
    "print(count)"
   ]
  },
  {
   "cell_type": "markdown",
   "id": "eb712e38",
   "metadata": {},
   "source": [
    "### Q8"
   ]
  },
  {
   "cell_type": "code",
   "execution_count": 45,
   "id": "74b8d2a2",
   "metadata": {},
   "outputs": [
    {
     "name": "stdout",
     "output_type": "stream",
     "text": [
      "10\n",
      "1 2 3 4 5 6 7 8 9 10\n",
      "8\n"
     ]
    }
   ],
   "source": [
    "import sys\n",
    "\n",
    "input = sys.stdin.readline\n",
    "del input\n",
    "N = int(input())\n",
    "A = list(map(int, input().split()))\n",
    "\n",
    "A.sort()\n",
    "\n",
    "count = 0\n",
    "\n",
    "for M in A :\n",
    "    idx = A.index(M)\n",
    "    temp = A[:idx] + A[idx+1:] \n",
    "    i = 0\n",
    "    j = N-2\n",
    "    while i<j:\n",
    "        if temp[i] + temp[j] < M:\n",
    "            i += 1\n",
    "        elif temp[i] + temp[j] > M:\n",
    "            j -= 1\n",
    "        else:\n",
    "            count += 1\n",
    "            break\n",
    "            \n",
    "print(count)"
   ]
  },
  {
   "cell_type": "markdown",
   "id": "149d5f60",
   "metadata": {},
   "source": [
    "### Q9"
   ]
  },
  {
   "cell_type": "code",
   "execution_count": 52,
   "id": "6e1c8626",
   "metadata": {},
   "outputs": [
    {
     "name": "stdout",
     "output_type": "stream",
     "text": [
      "4 2\n",
      "GATA\n",
      "1 0 0 1\n",
      "2\n"
     ]
    }
   ],
   "source": [
    "import sys\n",
    "\n",
    "input = sys.stdin.readline\n",
    "del input\n",
    "S, P = list(map(int, input().split()))\n",
    "DNA = list(input())\n",
    "a_num, c_num, g_num, t_num = list(map(int, input().split()))\n",
    "\n",
    "start_idx = 0\n",
    "end_idx = P-1\n",
    "count = 0\n",
    "\n",
    "while end_idx != S : \n",
    "    part_DNA = DNA[start_idx:end_idx+1]\n",
    "    \n",
    "    if (part_DNA.count('A') >= a_num and part_DNA.count('C') >= c_num and \n",
    "       part_DNA.count('G') >= g_num and part_DNA.count('T') >= t_num) : \n",
    "        count += 1\n",
    "    \n",
    "    start_idx += 1\n",
    "    end_idx += 1\n",
    "    \n",
    "print(count)"
   ]
  },
  {
   "cell_type": "markdown",
   "id": "f895f918",
   "metadata": {},
   "source": [
    "### Q10"
   ]
  },
  {
   "cell_type": "code",
   "execution_count": 53,
   "id": "73f5af99",
   "metadata": {},
   "outputs": [
    {
     "name": "stdout",
     "output_type": "stream",
     "text": [
      "12 3\n",
      "1 5 2 3 6 2 3 7 3 5 2 6\n",
      "1 1 1 2 2 2 2 2 3 3 2 2 "
     ]
    }
   ],
   "source": [
    "from collections import deque\n",
    "N, L = map(int, input().split())\n",
    "mydeque = deque()\n",
    "now = list(map(int, input().split()))\n",
    "for i in range(N):\n",
    "    while mydeque and mydeque[-1][0] > now[i]:\n",
    "        mydeque.pop()\n",
    "    mydeque.append((now[i],i))\n",
    "    if mydeque[0][1] <= i - L: # 범위에서 벗어난 값은 덱에서 제거\n",
    "        mydeque.popleft()\n",
    "    print(mydeque[0][0], end=' ')"
   ]
  }
 ],
 "metadata": {
  "kernelspec": {
   "display_name": "Python 3 (ipykernel)",
   "language": "python",
   "name": "python3"
  },
  "language_info": {
   "codemirror_mode": {
    "name": "ipython",
    "version": 3
   },
   "file_extension": ".py",
   "mimetype": "text/x-python",
   "name": "python",
   "nbconvert_exporter": "python",
   "pygments_lexer": "ipython3",
   "version": "3.10.9"
  }
 },
 "nbformat": 4,
 "nbformat_minor": 5
}
