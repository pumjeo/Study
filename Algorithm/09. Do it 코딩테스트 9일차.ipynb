{
 "cells": [
  {
   "cell_type": "markdown",
   "id": "adac2d88",
   "metadata": {},
   "source": [
    "## Q29"
   ]
  },
  {
   "cell_type": "code",
   "execution_count": 17,
   "id": "75253a25",
   "metadata": {},
   "outputs": [
    {
     "name": "stdout",
     "output_type": "stream",
     "text": [
      "5\n",
      "4 1 2 5 3\n",
      "5\n",
      "1 3 7 9 5\n",
      "1\n",
      "1\n",
      "0\n",
      "0\n",
      "1\n"
     ]
    }
   ],
   "source": [
    "import sys\n",
    "sys.setrecursionlimit(10000)\n",
    "input = sys.stdin.readline\n",
    "del input\n",
    "\n",
    "N = int(input())\n",
    "num_answer = list(map(int, input().split()))\n",
    "M = int(input())\n",
    "num_cand = list(map(int, input().split()))\n",
    "\n",
    "num_answer.sort()\n",
    "answer = []\n",
    "\n",
    "def find_binary(ans, num_list, start, end):\n",
    "    if start > end : \n",
    "        return False\n",
    "\n",
    "    midi = (start+end)//2\n",
    "    if num_list[midi] == ans : return True\n",
    "    if num_list[midi] < ans : return find_binary(ans, num_list, midi+1, end)\n",
    "    if num_list[midi] > ans : return find_binary(ans, num_list, start, midi-1)\n",
    "\n",
    "for i in num_cand:\n",
    "    find = find_binary(i, num_answer, 0, N-1)\n",
    "    if find : print(1)\n",
    "    else : print(0)"
   ]
  },
  {
   "cell_type": "markdown",
   "id": "8fe43302",
   "metadata": {},
   "source": [
    "## Q30"
   ]
  },
  {
   "cell_type": "code",
   "execution_count": 8,
   "id": "88405108",
   "metadata": {},
   "outputs": [
    {
     "name": "stdout",
     "output_type": "stream",
     "text": [
      "9 3\n",
      "1 2 3 4 5 6 7 8 9\n",
      "start is :  9\n",
      "end is :  45\n",
      "start is :  9\n",
      "end is :  26\n",
      "start is :  9\n",
      "end is :  16\n",
      "start is :  13\n",
      "end is :  16\n",
      "start is :  15\n",
      "end is :  16\n",
      "start is :  16\n",
      "end is :  16\n",
      "start is :  17\n",
      "end is :  16\n"
     ]
    },
    {
     "data": {
      "text/plain": [
       "17"
      ]
     },
     "execution_count": 8,
     "metadata": {},
     "output_type": "execute_result"
    }
   ],
   "source": [
    "import sys\n",
    "sys.setrecursionlimit(10000)\n",
    "input = sys.stdin.readline\n",
    "del input\n",
    "\n",
    "N, M = map(int, input().split())\n",
    "length = list(map(int, input().split()))\n",
    "\n",
    "start = max(length)\n",
    "end = sum(length)\n",
    "\n",
    "def recur(length, start, end):\n",
    "    print(\"start is : \", start)\n",
    "    print(\"end is : \", end)\n",
    "    \n",
    "    if start > end : \n",
    "        return start\n",
    "    \n",
    "    mid = (start+end)//2\n",
    "    Sum = 0\n",
    "    count = 0\n",
    "    for i in range(N):\n",
    "        if Sum + length[i] > mid:\n",
    "            count += 1\n",
    "            Sum = 0\n",
    "        Sum += length[i]\n",
    "    if Sum != 0 : count += 1\n",
    "    \n",
    "    if count > M: return recur(length, mid+1, end)\n",
    "    else: return recur(length, start, mid-1)\n",
    "        \n",
    "recur(length, start, end)"
   ]
  },
  {
   "cell_type": "markdown",
   "id": "d1acf060",
   "metadata": {},
   "source": [
    "## Q31"
   ]
  },
  {
   "cell_type": "code",
   "execution_count": 17,
   "id": "bd240616",
   "metadata": {},
   "outputs": [
    {
     "name": "stdout",
     "output_type": "stream",
     "text": [
      "5\n",
      "15\n"
     ]
    },
    {
     "data": {
      "text/plain": [
       "9"
      ]
     },
     "execution_count": 17,
     "metadata": {},
     "output_type": "execute_result"
    }
   ],
   "source": [
    "N = int(input())\n",
    "K = int(input())\n",
    "\n",
    "start = 1\n",
    "end = K\n",
    "\n",
    "def binary_find(start, end, ans):\n",
    "    \n",
    "    if start > end : return ans\n",
    "    \n",
    "    mid = (start+end)//2\n",
    "    cnt = 0\n",
    "    for i in range(1,N+1):\n",
    "        cnt += min(mid//i, N)\n",
    "    if cnt < K : return binary_find(mid+1, end, ans)\n",
    "    else : \n",
    "        ans = mid\n",
    "        return binary_find(start, mid-1, ans)\n",
    "    \n",
    "binary_find(start, end, 0)"
   ]
  }
 ],
 "metadata": {
  "kernelspec": {
   "display_name": "Python 3 (ipykernel)",
   "language": "python",
   "name": "python3"
  },
  "language_info": {
   "codemirror_mode": {
    "name": "ipython",
    "version": 3
   },
   "file_extension": ".py",
   "mimetype": "text/x-python",
   "name": "python",
   "nbconvert_exporter": "python",
   "pygments_lexer": "ipython3",
   "version": "3.10.9"
  }
 },
 "nbformat": 4,
 "nbformat_minor": 5
}
