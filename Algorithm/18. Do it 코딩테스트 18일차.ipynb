{
 "cells": [
  {
   "cell_type": "markdown",
   "id": "adac2d88",
   "metadata": {},
   "source": [
    "## Q59"
   ]
  },
  {
   "cell_type": "code",
   "execution_count": 1,
   "id": "33baa5b2",
   "metadata": {},
   "outputs": [
    {
     "name": "stdout",
     "output_type": "stream",
     "text": [
      "3 4\n",
      "1 2 4\n",
      "1 3 3\n",
      "2 3 -4\n",
      "3 1 -2\n",
      "-1\n"
     ]
    }
   ],
   "source": [
    "import sys\n",
    "input = sys.stdin.readline\n",
    "del input\n",
    "\n",
    "N, M = map(int, input().split())\n",
    "edges = []\n",
    "distance = [sys.maxsize] * (N+1)\n",
    "\n",
    "for i in range(M):\n",
    "    s, e, w = map(int, input().split())\n",
    "    edges.append((s, e, w))\n",
    "    \n",
    "distance[1] = 0\n",
    "\n",
    "for _ in range(N-1):\n",
    "    for s, e, w in edges:\n",
    "        if distance[s] != sys.maxsize and distance[e] > distance[s] + w:\n",
    "            distance[e] = distance[s] + w\n",
    "            \n",
    "mCycle = False\n",
    "\n",
    "for s, e, w in edges:\n",
    "    if distance[s] != sys.maxsize and distance[e] > distance[s] + w:\n",
    "        mCycle = True\n",
    "        \n",
    "if not mCycle:\n",
    "    for i in range(2, N+1):\n",
    "        if distance[i] != sys.maxsize:\n",
    "            print(distance[i])\n",
    "        else : print(-1)\n",
    "else : print(-1)"
   ]
  },
  {
   "cell_type": "markdown",
   "id": "8fe43302",
   "metadata": {},
   "source": [
    "## Q60"
   ]
  },
  {
   "cell_type": "code",
   "execution_count": 10,
   "id": "88405108",
   "metadata": {},
   "outputs": [
    {
     "name": "stdout",
     "output_type": "stream",
     "text": [
      "5 0 4 7\n",
      "0 1 13\n",
      "1 2 17\n",
      "2 4 20\n",
      "0 3 22\n",
      "1 3 4747\n",
      "2 0 10\n",
      "3 4 10\n",
      "8 10 20 1 100000\n",
      "Gee\n"
     ]
    }
   ],
   "source": [
    "import sys\n",
    "input = sys.stdin.readline\n",
    "del input\n",
    "\n",
    "N, S, E, M = map(int, input().split())\n",
    "edges = []\n",
    "money = [-sys.maxsize] * N\n",
    "\n",
    "for i in range(M):\n",
    "    s, e, w = map(int, input().split())\n",
    "    edges.append((s, e, w))\n",
    "\n",
    "city_money = list(map(int, input().split()))     \n",
    "\n",
    "money[S] = city_money[S]\n",
    "\n",
    "for _ in range(N+100):\n",
    "    for s, e, w in edges:\n",
    "        if money[s] == -sys.maxsize : \n",
    "            continue\n",
    "        elif money[s] == sys.maxsize:\n",
    "            money[e] = sys.maxsize\n",
    "        elif money[e] < money[s] + city_money[e] - w:\n",
    "            money[e] = money[s] + city_money[e] - w\n",
    "            if i >= N-1:\n",
    "                money[e] = sys.maxsize\n",
    "        \n",
    "        \n",
    "if money[E] == -sys.maxsize : print(\"gg\")\n",
    "elif money[E] == sys.maxsize: print(\"Gee\")\n",
    "else : print(money[E])"
   ]
  },
  {
   "cell_type": "markdown",
   "id": "d1acf060",
   "metadata": {},
   "source": [
    "## Q61"
   ]
  },
  {
   "cell_type": "code",
   "execution_count": 13,
   "id": "077df504",
   "metadata": {},
   "outputs": [
    {
     "name": "stdout",
     "output_type": "stream",
     "text": [
      "5\n",
      "14\n",
      "1 2 2\n",
      "1 3 3\n",
      "1 4 1\n",
      "1 5 10\n",
      "2 4 2\n",
      "3 4 1\n",
      "3 5 1\n",
      "4 5 3\n",
      "3 5 10\n",
      "3 1 8\n",
      "1 4 2\n",
      "5 1 7\n",
      "3 4 2\n",
      "5 2 4\n",
      "0 2 3 2 5 \n",
      "12 0 15 2 5 \n",
      "8 9 0 2 5 \n",
      "10 7 13 0 3 \n",
      "7 4 10 6 0 \n"
     ]
    }
   ],
   "source": [
    "import sys\n",
    "input = sys.stdin.readline\n",
    "del input\n",
    "\n",
    "N = int(input())\n",
    "M = int(input())\n",
    "AList = [[sys.maxsize for i in range(N+1)] for j in range(N+1)]\n",
    "\n",
    "for i in range(1, N+1):\n",
    "    AList[i][i] = 0\n",
    "\n",
    "for _ in range(M):\n",
    "    s, e, w = map(int, input().split())\n",
    "    if AList[s][e] > w:\n",
    "        AList[s][e] = w\n",
    "        \n",
    "for K in range(1, N+1):\n",
    "    for S in range(1, N+1):\n",
    "        for E in range(1, N+1):\n",
    "            AList[S][E] = min(AList[S][E], AList[S][K]+AList[K][E])\n",
    "            \n",
    "for i in range(1, N+1):\n",
    "    for j in range(1, N+1):\n",
    "        if AList[i][j] == sys.maxsize : \n",
    "            print(0, end=' ')\n",
    "        else : print(AList[i][j], end=' ')\n",
    "    print()"
   ]
  },
  {
   "cell_type": "markdown",
   "id": "fca94f8b",
   "metadata": {},
   "source": [
    "## Q62"
   ]
  },
  {
   "cell_type": "code",
   "execution_count": 18,
   "id": "a61dc367",
   "metadata": {},
   "outputs": [
    {
     "name": "stdout",
     "output_type": "stream",
     "text": [
      "7\n",
      "0 0 0 1 0 0 0\n",
      "0 0 0 0 0 0 1\n",
      "0 0 0 0 0 0 0\n",
      "0 0 0 0 1 1 0\n",
      "1 0 0 0 0 0 0\n",
      "0 0 0 0 0 0 1\n",
      "0 0 1 0 0 0 0\n",
      "[[1, 0, 1, 1, 1, 1, 1], [0, 0, 1, 0, 0, 0, 1], [0, 0, 0, 0, 0, 0, 0], [1, 0, 1, 1, 1, 1, 1], [1, 0, 1, 1, 1, 1, 1], [0, 0, 1, 0, 0, 0, 1], [0, 0, 1, 0, 0, 0, 0]]\n",
      "1 0 1 1 1 1 1 \n",
      "0 0 1 0 0 0 1 \n",
      "0 0 0 0 0 0 0 \n",
      "1 0 1 1 1 1 1 \n",
      "1 0 1 1 1 1 1 \n",
      "0 0 1 0 0 0 1 \n",
      "0 0 1 0 0 0 0 \n"
     ]
    }
   ],
   "source": [
    "import sys\n",
    "input = sys.stdin.readline\n",
    "del input\n",
    "\n",
    "N = int(input())\n",
    "AList = [[sys.maxsize for i in range(N)] for j in range(N)]\n",
    "\n",
    "for i in range(N):\n",
    "    AList[i] = list(map(int, input().split()))\n",
    "        \n",
    "for K in range(N):\n",
    "    for S in range(N):\n",
    "        for E in range(N):\n",
    "            if AList[S][K] and AList[K][E]:\n",
    "                AList[S][E] = 1\n",
    "\n",
    "print(AList)\n",
    "                \n",
    "for i in range(N):\n",
    "    for j in range(N):\n",
    "        if AList[i][j] == sys.maxsize : \n",
    "            print(0, end=' ')\n",
    "        else : print(AList[i][j], end=' ')\n",
    "    print()"
   ]
  },
  {
   "cell_type": "markdown",
   "id": "3f535c02",
   "metadata": {},
   "source": [
    "## Q63"
   ]
  },
  {
   "cell_type": "code",
   "execution_count": 12,
   "id": "7bb78be1",
   "metadata": {},
   "outputs": [
    {
     "name": "stdout",
     "output_type": "stream",
     "text": [
      "5 5\n",
      "1 3\n",
      "1 4\n",
      "4 5\n",
      "4 3\n",
      "3 2\n",
      "3\n"
     ]
    }
   ],
   "source": [
    "import sys\n",
    "input = sys.stdin.readline\n",
    "del input\n",
    "\n",
    "N, M = map(int, input().split())\n",
    "AList = [[sys.maxsize for i in range(N+1)] for j in range(N+1)]\n",
    "\n",
    "for i in range(1, N+1):\n",
    "    AList[i][i] = 0\n",
    "\n",
    "for i in range(M):\n",
    "    s, e = map(int, input().split())\n",
    "    AList[s][e] = 1\n",
    "    AList[e][s] = 1\n",
    "    \n",
    "for K in range(1, N+1):\n",
    "    for S in range(1, N+1):\n",
    "        for E in range(1, N+1):\n",
    "            AList[S][E] = min(AList[S][E], AList[S][K]+AList[K][E])\n",
    "\n",
    "min_sum = sys.maxsize\n",
    "idx = -1\n",
    "\n",
    "for i in range(1,N+1):\n",
    "    if min_sum > sum(AList[i][1:]):\n",
    "        min_sum = sum(AList[i][1:])\n",
    "        idx = i\n",
    "        \n",
    "print(idx)"
   ]
  },
  {
   "cell_type": "code",
   "execution_count": null,
   "id": "977c5843",
   "metadata": {},
   "outputs": [],
   "source": []
  },
  {
   "cell_type": "code",
   "execution_count": null,
   "id": "51b885b8",
   "metadata": {},
   "outputs": [],
   "source": []
  },
  {
   "cell_type": "code",
   "execution_count": 15,
   "id": "d303faaf",
   "metadata": {},
   "outputs": [
    {
     "name": "stdout",
     "output_type": "stream",
     "text": [
      "Good\n"
     ]
    }
   ],
   "source": [
    "a = sys.maxsize\n",
    "\n",
    "if a : print(\"Good\")"
   ]
  },
  {
   "cell_type": "code",
   "execution_count": null,
   "id": "12bf90d1",
   "metadata": {},
   "outputs": [],
   "source": []
  }
 ],
 "metadata": {
  "kernelspec": {
   "display_name": "Python 3 (ipykernel)",
   "language": "python",
   "name": "python3"
  },
  "language_info": {
   "codemirror_mode": {
    "name": "ipython",
    "version": 3
   },
   "file_extension": ".py",
   "mimetype": "text/x-python",
   "name": "python",
   "nbconvert_exporter": "python",
   "pygments_lexer": "ipython3",
   "version": "3.10.9"
  }
 },
 "nbformat": 4,
 "nbformat_minor": 5
}
