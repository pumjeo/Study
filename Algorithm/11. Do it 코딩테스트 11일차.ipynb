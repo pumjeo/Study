{
 "cells": [
  {
   "cell_type": "markdown",
   "id": "adac2d88",
   "metadata": {},
   "source": [
    "## Q35"
   ]
  },
  {
   "cell_type": "code",
   "execution_count": 3,
   "id": "75253a25",
   "metadata": {},
   "outputs": [
    {
     "name": "stdout",
     "output_type": "stream",
     "text": [
      "11\n",
      "1 4\n",
      "3 5\n",
      "0 6\n",
      "5 7\n",
      "3 8\n",
      "5 9\n",
      "6 10\n",
      "8 11\n",
      "8 12\n",
      "2 13\n",
      "12 14\n"
     ]
    }
   ],
   "source": [
    "import sys\n",
    "input = sys.stdin.readline\n",
    "del input\n",
    "\n",
    "N = int(input())\n",
    "A = [0] * N\n",
    "\n",
    "for i in range(N):\n",
    "    A[i] = list(map(int, input().split()))\n",
    "\n",
    "A.sort(key = lambda x : (x[1], x[0]))\n",
    "\n",
    "count = 0\n",
    "end = -1\n",
    "\n",
    "for i in range(N):\n",
    "    if A[i][0] >= end:\n",
    "        count +=1\n",
    "        end = A[i][1]\n",
    "        \n",
    "print(count)"
   ]
  },
  {
   "cell_type": "markdown",
   "id": "8fe43302",
   "metadata": {},
   "source": [
    "## Q36"
   ]
  },
  {
   "cell_type": "code",
   "execution_count": 22,
   "id": "88405108",
   "metadata": {},
   "outputs": [
    {
     "name": "stdout",
     "output_type": "stream",
     "text": [
      "100-40+50+74-30+29-45+43+11\n",
      "iteration is :  0\n",
      "iteration is :  1\n",
      "iteration is :  2\n",
      "iteration is :  3\n",
      "The First number is :  100\n",
      "iteration is :  4\n",
      "iteration is :  5\n",
      "iteration is :  6\n"
     ]
    },
    {
     "ename": "ValueError",
     "evalue": "invalid literal for int() with base 10: '100-40'",
     "output_type": "error",
     "traceback": [
      "\u001b[1;31m---------------------------------------------------------------------------\u001b[0m",
      "\u001b[1;31mValueError\u001b[0m                                Traceback (most recent call last)",
      "Cell \u001b[1;32mIn[22], line 17\u001b[0m\n\u001b[0;32m     14\u001b[0m \u001b[38;5;28mprint\u001b[39m(\u001b[38;5;124m\"\u001b[39m\u001b[38;5;124miteration is : \u001b[39m\u001b[38;5;124m\"\u001b[39m, i)\n\u001b[0;32m     16\u001b[0m \u001b[38;5;28;01mif\u001b[39;00m math[i] \u001b[38;5;241m==\u001b[39m \u001b[38;5;124m'\u001b[39m\u001b[38;5;124m+\u001b[39m\u001b[38;5;124m'\u001b[39m :\n\u001b[1;32m---> 17\u001b[0m     num_list\u001b[38;5;241m.\u001b[39mappend(\u001b[38;5;28;43mint\u001b[39;49m\u001b[43m(\u001b[49m\u001b[43mmath\u001b[49m\u001b[43m[\u001b[49m\u001b[43mnum_idx\u001b[49m\u001b[43m:\u001b[49m\u001b[43mi\u001b[49m\u001b[43m]\u001b[49m\u001b[43m)\u001b[49m)\n\u001b[0;32m     18\u001b[0m     \u001b[38;5;28mprint\u001b[39m(\u001b[38;5;124m\"\u001b[39m\u001b[38;5;124mnum_list : \u001b[39m\u001b[38;5;124m\"\u001b[39m, num_list)\n\u001b[0;32m     19\u001b[0m     num_idx \u001b[38;5;241m=\u001b[39m i\u001b[38;5;241m+\u001b[39m\u001b[38;5;241m1\u001b[39m\n",
      "\u001b[1;31mValueError\u001b[0m: invalid literal for int() with base 10: '100-40'"
     ]
    }
   ],
   "source": [
    "import sys\n",
    "input = sys.stdin.readline\n",
    "del input\n",
    "\n",
    "math = input()\n",
    "\n",
    "num_idx = min(math.index('+'), math.index('-'))+1\n",
    "answer = int(math[:num_index-1])\n",
    "num_list = []\n",
    "num_idx = 0\n",
    "\n",
    "\n",
    "for i in range(len(math)):\n",
    "    print(\"iteration is : \", i)\n",
    "\n",
    "    if math[i] == '+' :\n",
    "        num_list.append(int(math[num_idx:i]))\n",
    "        print(\"num_list : \", num_list)\n",
    "        num_idx = i+1\n",
    "        \n",
    "    if (math[i] == '-') :\n",
    "        num_list.append(int(math[num_idx:i]))\n",
    "        print(\"num_list : \", num_list)\n",
    "        num_idx = i+1\n",
    "        answer -= sum(num_list)\n",
    "        print(\"answer is now : \", answer)\n",
    "        num_list = []\n",
    "        \n",
    "    if i == len(math)-1 :\n",
    "        print(\"Final!\")\n",
    "        if math[num_idx-1] == '+':\n",
    "            answer += sum(num_list.append(int(math[num_idx:])))\n",
    "        else :\n",
    "            answer -= int(math[num_idx:])\n",
    "            \n",
    "print(answer)"
   ]
  },
  {
   "cell_type": "code",
   "execution_count": 25,
   "id": "6f10f259",
   "metadata": {},
   "outputs": [
    {
     "data": {
      "text/plain": [
       "-222"
      ]
     },
     "execution_count": 25,
     "metadata": {},
     "output_type": "execute_result"
    }
   ],
   "source": [
    "answer = 0\n",
    "A = list(map(str, input().split(\"-\")))\n",
    "\n",
    "def plus_sum(math):\n",
    "    num_list = math.split(\"+\")\n",
    "    sum = 0\n",
    "    for i in num_list:\n",
    "        sum += int(i)\n",
    "    return sum\n",
    "\n",
    "for i in range(len(A)):\n",
    "    temp = plus_sum(A[i])\n",
    "    if i == 0 : answer += temp\n",
    "    else : answer -= temp\n",
    "        \n",
    "print(answer)"
   ]
  }
 ],
 "metadata": {
  "kernelspec": {
   "display_name": "Python 3 (ipykernel)",
   "language": "python",
   "name": "python3"
  },
  "language_info": {
   "codemirror_mode": {
    "name": "ipython",
    "version": 3
   },
   "file_extension": ".py",
   "mimetype": "text/x-python",
   "name": "python",
   "nbconvert_exporter": "python",
   "pygments_lexer": "ipython3",
   "version": "3.10.9"
  }
 },
 "nbformat": 4,
 "nbformat_minor": 5
}
