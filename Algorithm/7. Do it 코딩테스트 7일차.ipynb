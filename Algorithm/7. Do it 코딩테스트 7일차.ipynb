{
 "cells": [
  {
   "cell_type": "markdown",
   "id": "adac2d88",
   "metadata": {},
   "source": [
    "## Q23"
   ]
  },
  {
   "cell_type": "code",
   "execution_count": null,
   "id": "60b854bd",
   "metadata": {},
   "outputs": [],
   "source": [
    "import sys\n",
    "sys.setrecursionlimit(10000)\n",
    "input = sys.stdin.readline\n",
    "del input\n",
    "n, m = map(int, input().split())\n",
    "\n",
    "A = [[] for _ in range(n+1)]\n",
    "visited = [False] * (n+1)\n",
    "\n",
    "for i in range(m):\n",
    "    s, e = map(int, input().split())\n",
    "    A[s].append(e)\n",
    "    A[e].append(s)\n",
    "\n",
    "def DFS(v):\n",
    "    visited[v] = True\n",
    "    for i in A[v]:\n",
    "        if not visited[i]:\n",
    "            DFS(i)\n",
    "\n",
    "count = 0\n",
    "\n",
    "for i in range(1,n+1):\n",
    "    if not visited[i]:\n",
    "        count +=1 \n",
    "        DFS(i)\n",
    "        \n",
    "print(count)"
   ]
  },
  {
   "cell_type": "markdown",
   "id": "8fe43302",
   "metadata": {},
   "source": [
    "## Q24"
   ]
  },
  {
   "cell_type": "code",
   "execution_count": 6,
   "id": "7bc1a236",
   "metadata": {
    "scrolled": true
   },
   "outputs": [
    {
     "name": "stdout",
     "output_type": "stream",
     "text": [
      "2\n",
      "23\n",
      "29\n",
      "31\n",
      "37\n",
      "53\n",
      "59\n",
      "71\n",
      "73\n",
      "79\n"
     ]
    }
   ],
   "source": [
    "import sys\n",
    "sys.setrecursionlimit(10000)\n",
    "input = sys.stdin.readline\n",
    "del input\n",
    "N = int(input())\n",
    "\n",
    "def IsPrime(a):\n",
    "    if a == 1 : return False\n",
    "    if a == 2 : return True\n",
    "    for i in range(2, a//2+1):\n",
    "        if a%i==0 : return False\n",
    "    return True\n",
    "\n",
    "def DFS(num):\n",
    "    \n",
    "    if len(str(num)) == N: print(num)\n",
    "    \n",
    "    for i in [1,3,5,7,9]:\n",
    "        if (len(str(num)) < N) and (IsPrime(int(str(num)+str(i))) == True): \n",
    "            DFS(int(str(num)+str(i)))\n",
    "            \n",
    "DFS(2)\n",
    "DFS(3)\n",
    "DFS(5)\n",
    "DFS(7)"
   ]
  },
  {
   "cell_type": "markdown",
   "id": "d1acf060",
   "metadata": {},
   "source": [
    "## Q25"
   ]
  },
  {
   "cell_type": "code",
   "execution_count": 15,
   "id": "800f38d0",
   "metadata": {},
   "outputs": [
    {
     "name": "stdout",
     "output_type": "stream",
     "text": [
      "6 5\n",
      "0 1\n",
      "0 2\n",
      "0 3\n",
      "0 4\n",
      "0 5\n",
      "0\n"
     ]
    }
   ],
   "source": [
    "import sys\n",
    "sys.setrecursionlimit(10000)\n",
    "input = sys.stdin.readline\n",
    "del input\n",
    "n, m = map(int, input().split())\n",
    "\n",
    "A = [[] for _ in range(n+1)]\n",
    "visited = [False] * (n+1)\n",
    "\n",
    "for _ in range(m):\n",
    "    s, e = map(int, input().split())\n",
    "    A[s].append(e)\n",
    "    A[e].append(s)\n",
    "    \n",
    "arrive = False\n",
    "\n",
    "def DFS(v, depth):\n",
    "    global arrive\n",
    "    if depth == 5 :\n",
    "        arrive = True\n",
    "        return\n",
    "    visited[v] = True\n",
    "    \n",
    "    for i in A[v]:\n",
    "        if not visited[i]:        \n",
    "            DFS(i, depth+1)\n",
    "    visited[v] = False\n",
    "        \n",
    "for i in range(n):\n",
    "    DFS(i,1)\n",
    "    if arrive: \n",
    "        break\n",
    "if arrive: \n",
    "    print(1)\n",
    "else : \n",
    "    print(0)"
   ]
  }
 ],
 "metadata": {
  "kernelspec": {
   "display_name": "Python 3 (ipykernel)",
   "language": "python",
   "name": "python3"
  },
  "language_info": {
   "codemirror_mode": {
    "name": "ipython",
    "version": 3
   },
   "file_extension": ".py",
   "mimetype": "text/x-python",
   "name": "python",
   "nbconvert_exporter": "python",
   "pygments_lexer": "ipython3",
   "version": "3.10.9"
  }
 },
 "nbformat": 4,
 "nbformat_minor": 5
}
