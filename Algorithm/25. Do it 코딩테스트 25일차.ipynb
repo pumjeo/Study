{
 "cells": [
  {
   "cell_type": "markdown",
   "id": "adac2d88",
   "metadata": {},
   "source": [
    "## Q91"
   ]
  },
  {
   "cell_type": "code",
   "execution_count": 2,
   "id": "33baa5b2",
   "metadata": {},
   "outputs": [
    {
     "name": "stdout",
     "output_type": "stream",
     "text": [
      "4 4\n",
      "0100\n",
      "0111\n",
      "1110\n",
      "0010\n",
      "4\n"
     ]
    }
   ],
   "source": [
    "import sys\n",
    "input = sys.stdin.readline\n",
    "del input\n",
    "\n",
    "N, M = map(int, input().split())\n",
    "DP = [[0 for _ in range(M+1)] for _ in range(N+1)]\n",
    "max = 0\n",
    "\n",
    "for i in range(0, N):\n",
    "    numbers = list(input())\n",
    "    for j in range(0, M):\n",
    "        DP[i][j] = int(numbers[j])\n",
    "        if DP[i][j] == 1 and j>0 and i>0:\n",
    "            DP[i][j] = min(DP[i-1][j-1], DP[i-1][j], DP[i][j-1]) + 1\n",
    "        if max < DP[i][j]:\n",
    "            max = DP[i][j]\n",
    "            \n",
    "print(max**2)"
   ]
  },
  {
   "cell_type": "markdown",
   "id": "8a6e8eed",
   "metadata": {},
   "source": [
    "## Q92"
   ]
  },
  {
   "cell_type": "code",
   "execution_count": 6,
   "id": "23a785e9",
   "metadata": {
    "scrolled": true
   },
   "outputs": [
    {
     "name": "stdout",
     "output_type": "stream",
     "text": [
      "3 2 2\n",
      "2\n"
     ]
    }
   ],
   "source": [
    "import sys\n",
    "input = sys.stdin.readline\n",
    "del input\n",
    "\n",
    "N, L, R = map(int, input().split())\n",
    "MOD = 1000000007\n",
    "DP = [[[0 for _ in range(R+1)] for _ in range(L+1)] for _ in range(N+1)]\n",
    "DP[1][1][1] = 1\n",
    "\n",
    "for i in range(2, N+1):\n",
    "    for j in range(1, L+1):\n",
    "        for k in range(1, R+1):\n",
    "            DP[i][j][k] = (DP[i-1][j][k] * (i-2) + DP[i-1][j][k-1] + DP[i-1][j-1][k]) % MOD\n",
    "            \n",
    "print(DP[N][L][R])"
   ]
  },
  {
   "cell_type": "markdown",
   "id": "838622f1",
   "metadata": {},
   "source": [
    "## Q93"
   ]
  },
  {
   "cell_type": "code",
   "execution_count": 7,
   "id": "d35e3394",
   "metadata": {},
   "outputs": [
    {
     "name": "stdout",
     "output_type": "stream",
     "text": [
      "1 2 2 4 0\n",
      "8\n"
     ]
    }
   ],
   "source": [
    "import sys\n",
    "input = sys.stdin.readline\n",
    "del input\n",
    "\n",
    "DP = [[[sys.maxsize for k in range(5)] for j in range(5)] for i in range(100001)]\n",
    "mp = [[0,2,2,2,2],\n",
    "      [2,1,3,4,3],\n",
    "      [2,3,1,3,4],\n",
    "      [2,4,3,1,3],\n",
    "      [2,3,4,3,1]]\n",
    "s = 1\n",
    "DP[0][0][0] = 0\n",
    "\n",
    "inputList = list(map(int, input().split()))\n",
    "index = 0\n",
    "\n",
    "while inputList[index] != 0 :\n",
    "    n = inputList[index]\n",
    "    for i in range(5):\n",
    "        if n == i : continue # 두 발이 같은 자리에 있을 수 없음\n",
    "        for j in range(5): # 오른발을 옮겨 현재 모습이 됐을 때 최소 힘 저장\n",
    "            DP[s][i][n] = min(DP[s-1][i][j]+mp[j][n], DP[s][i][n])\n",
    "            \n",
    "    for j in range(5):\n",
    "        if n == j : continue # 두 발이 같은 자리에 있을 수 없음\n",
    "        for i in range(5): # 왼발을 옮겨 현재 모습이 됐을 때 최소 힘 저장\n",
    "            DP[s][n][j] = min(DP[s-1][i][j]+mp[i][n], DP[s][n][j])\n",
    "    s += 1\n",
    "    index += 1\n",
    "\n",
    "s -= 1 # 마지막 이동 횟수로 index 조정\n",
    "result = sys.maxsize\n",
    "\n",
    "for i in range(5):\n",
    "    for j in range(5):\n",
    "        result = min(result, DP[s][i][j]) # 모두 수행한 후 최솟값 찾기\n",
    "            \n",
    "print(result)"
   ]
  },
  {
   "cell_type": "code",
   "execution_count": 12,
   "id": "75e722a3",
   "metadata": {},
   "outputs": [
    {
     "name": "stdout",
     "output_type": "stream",
     "text": [
      "1 2 2 4 0\n",
      "8\n"
     ]
    }
   ],
   "source": [
    "# 더 간단하게 구현\n",
    "\n",
    "import sys\n",
    "input = sys.stdin.readline\n",
    "del input\n",
    "\n",
    "inputList = list(map(int, input().split()))\n",
    "\n",
    "DP = [[[sys.maxsize for k in range(5)] for j in range(5)] for i in range(len(inputList))]\n",
    "mp = [[0,2,2,2,2],\n",
    "      [2,1,3,4,3],\n",
    "      [2,3,1,3,4],\n",
    "      [2,4,3,1,3],\n",
    "      [2,3,4,3,1]]\n",
    "DP[0][0][0] = 0\n",
    "\n",
    "\n",
    "for i in range(len(DP)-1):\n",
    "    n = inputList[i]\n",
    "    for left in range(5):\n",
    "        for right in range(5):\n",
    "            if left != n :\n",
    "                DP[i+1][left][n] = min(DP[i+1][left][n], DP[i][left][right]+mp[right][n])\n",
    "            if right != n :\n",
    "                DP[i+1][n][right] = min(DP[i+1][n][right], DP[i][left][right]+mp[left][n])\n",
    "                \n",
    "result = sys.maxsize\n",
    "\n",
    "for i in range(5):\n",
    "    for j in range(5):\n",
    "        result = min(result, DP[len(inputList)-1][i][j]) # 모두 수행한 후 최솟값 찾기\n",
    "            \n",
    "print(result)"
   ]
  }
 ],
 "metadata": {
  "kernelspec": {
   "display_name": "Python 3 (ipykernel)",
   "language": "python",
   "name": "python3"
  },
  "language_info": {
   "codemirror_mode": {
    "name": "ipython",
    "version": 3
   },
   "file_extension": ".py",
   "mimetype": "text/x-python",
   "name": "python",
   "nbconvert_exporter": "python",
   "pygments_lexer": "ipython3",
   "version": "3.10.9"
  }
 },
 "nbformat": 4,
 "nbformat_minor": 5
}
