{
 "cells": [
  {
   "cell_type": "markdown",
   "id": "adac2d88",
   "metadata": {},
   "source": [
    "## Q88"
   ]
  },
  {
   "cell_type": "code",
   "execution_count": 7,
   "id": "33baa5b2",
   "metadata": {},
   "outputs": [
    {
     "name": "stdout",
     "output_type": "stream",
     "text": [
      "100\n",
      "89207240240093898472018404112\n"
     ]
    }
   ],
   "source": [
    "N = int(input())\n",
    "\n",
    "DP = [[0]*10 for _ in range(N+1)]\n",
    "\n",
    "DP[1][0] = 0\n",
    "for i in range(1, 10):\n",
    "    DP[1][i] = 1\n",
    "    \n",
    "for i in range(2, N+1):\n",
    "    for j in range(10):\n",
    "        if j == 0 : DP[i][j] = DP[i-1][j+1]\n",
    "        elif j == 9 : DP[i][j] = DP[i-1][j-1]\n",
    "        else : DP[i][j] = DP[i-1][j+1] + DP[i-1][j-1]\n",
    "\n",
    "print(sum(DP[N]))"
   ]
  },
  {
   "cell_type": "markdown",
   "id": "8a6e8eed",
   "metadata": {},
   "source": [
    "## Q89"
   ]
  },
  {
   "cell_type": "code",
   "execution_count": 10,
   "id": "23a785e9",
   "metadata": {
    "scrolled": true
   },
   "outputs": [
    {
     "name": "stdout",
     "output_type": "stream",
     "text": [
      "10\n",
      "10 -4 3 1 5 6 -35 12 21 -1\n",
      "[10, -4, 3, 1, 5, 6, -35, 12, 21, -1]\n",
      "[10, 6, 9, 10, 15, 21, -14, 12, 33, 32]\n",
      "[21, 11, 15, 12, 11, 6, -2, 33, 21, -1]\n",
      "54\n"
     ]
    }
   ],
   "source": [
    "import sys\n",
    "input = sys.stdin.readline\n",
    "del input\n",
    "\n",
    "N = int(input())\n",
    "A = list(map(int, input().split()))\n",
    "\n",
    "L = [0] * N\n",
    "L[0] = A[0]\n",
    "result = L[0]\n",
    "\n",
    "for i in range(1, N):\n",
    "    L[i] = max(A[i], L[i-1]+A[i])\n",
    "    result = max(result, L[i])\n",
    "    \n",
    "R = [0] * N\n",
    "R[N-1] = A[N-1]\n",
    "\n",
    "for i in range(N-2, -1, -1):\n",
    "    R[i] = max(A[i], R[i+1]+A[i])\n",
    "    \n",
    "for i in range(1, N-1):\n",
    "    temp = L[i-1] + R[i+1]\n",
    "    result = max(result, temp)\n",
    "\n",
    "print(result)"
   ]
  },
  {
   "cell_type": "markdown",
   "id": "838622f1",
   "metadata": {},
   "source": [
    "## Q90"
   ]
  },
  {
   "cell_type": "code",
   "execution_count": 27,
   "id": "d35e3394",
   "metadata": {},
   "outputs": [
    {
     "name": "stdout",
     "output_type": "stream",
     "text": [
      "ACAYKP\n",
      "CAPCAK\n",
      "4\n",
      "ACAK"
     ]
    }
   ],
   "source": [
    "import sys\n",
    "input = sys.stdin.readline\n",
    "del input\n",
    "\n",
    "A = list(input())\n",
    "B = list(input())\n",
    "\n",
    "DP = [[0 for _ in range(len(B)+1)] for _ in range(len(A)+1)]\n",
    "Path = []\n",
    "\n",
    "for i in range(1, len(A)+1):\n",
    "    for j in range(1, len(B)+1):\n",
    "        if A[i-1] == B[j-1]:\n",
    "            DP[i][j] = DP[i-1][j-1]+1\n",
    "        else:\n",
    "            DP[i][j] = max(DP[i-1][j], DP[i][j-1])\n",
    "\n",
    "print(DP[len(A)][len(B)])\n",
    "\n",
    "r = len(A)\n",
    "c = len(B)\n",
    "\n",
    "while r!=0 and c!=0:\n",
    "    if A[r-1] == B[c-1]:\n",
    "        Path.append(A[r-1])\n",
    "        r -= 1\n",
    "        c -= 1\n",
    "    else:\n",
    "        if DP[r-1][c] > DP[r][c-1] :\n",
    "            r, c = r-1, c\n",
    "        else : r, c = r, c-1\n",
    "            \n",
    "Path = Path[::-1]\n",
    "for i in range(len(Path)):\n",
    "    print(Path[i], end='')"
   ]
  }
 ],
 "metadata": {
  "kernelspec": {
   "display_name": "Python 3 (ipykernel)",
   "language": "python",
   "name": "python3"
  },
  "language_info": {
   "codemirror_mode": {
    "name": "ipython",
    "version": 3
   },
   "file_extension": ".py",
   "mimetype": "text/x-python",
   "name": "python",
   "nbconvert_exporter": "python",
   "pygments_lexer": "ipython3",
   "version": "3.10.9"
  }
 },
 "nbformat": 4,
 "nbformat_minor": 5
}
