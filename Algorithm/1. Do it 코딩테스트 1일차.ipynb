{
 "cells": [
  {
   "cell_type": "markdown",
   "id": "8042be36",
   "metadata": {},
   "source": [
    "### Q3"
   ]
  },
  {
   "cell_type": "code",
   "execution_count": 9,
   "id": "877e3419",
   "metadata": {},
   "outputs": [
    {
     "name": "stdout",
     "output_type": "stream",
     "text": [
      "5 3\n",
      "5 4 3 2 1\n",
      "1 3\n",
      "2 4\n",
      "5 5\n",
      "12\n",
      "9\n",
      "1\n"
     ]
    }
   ],
   "source": [
    "start = list(map(int,input().split()))\n",
    "n = start[0]\n",
    "q_num = start[1]\n",
    "\n",
    "numbers = list(map(int,input().split()))\n",
    "\n",
    "sums = list()\n",
    "sums.append(0)\n",
    "\n",
    "for idx, value in enumerate(numbers):\n",
    "    sums.append(value + sums[idx])\n",
    "    \n",
    "sums = sums[1:]\n",
    "\n",
    "qes = list()\n",
    "\n",
    "for i in range(q_num):\n",
    "    qes.append(list(map(int,input().split())))\n",
    "    \n",
    "for i in range(q_num):\n",
    "    start = qes[i][0]\n",
    "    end = qes[i][1]\n",
    "    \n",
    "    if start <= 1:\n",
    "        print(sums[end-1])\n",
    "    else:\n",
    "        print(sums[end-1]-sums[start-2])"
   ]
  },
  {
   "cell_type": "markdown",
   "id": "70b2a77f",
   "metadata": {},
   "source": [
    "### Q4"
   ]
  },
  {
   "cell_type": "code",
   "execution_count": 16,
   "id": "3d1ae754",
   "metadata": {},
   "outputs": [
    {
     "name": "stdout",
     "output_type": "stream",
     "text": [
      "4 3\n",
      "1 2 3 4\n",
      "2 3 4 5\n",
      "3 4 5 6\n",
      "4 5 6 7\n",
      "2 2 3 4\n",
      "27\n",
      "3 4 3 4\n",
      "6\n",
      "1 1 4 4\n",
      "64\n"
     ]
    }
   ],
   "source": [
    "import sys\n",
    "\n",
    "input = sys.stdin.readline\n",
    "del input\n",
    "\n",
    "n, quizNo = map(int, input().split())\n",
    "matrix = [[0]*(n+1)]\n",
    "sum_matrix = [[0]*(n+1) for _ in range(n+1)]\n",
    "\n",
    "for i in range(n):\n",
    "    matrix.append([0]+list(map(int, input().split())))\n",
    "\n",
    "for i in range(1, n+1):\n",
    "    for j in range(1, n+1):\n",
    "        sum_matrix[i][j] = sum_matrix[i][j-1] + sum_matrix[i-1][j] - sum_matrix[i-1][j-1] + matrix[i][j]\n",
    "\n",
    "for i in range(quizNo):\n",
    "    x1, y1, x2, y2 = map(int, input().split())\n",
    "    sum = sum_matrix[x2][y2] - sum_matrix[x1-1][y2] - sum_matrix[x2][y1-1] + sum_matrix[x1-1][y1-1]\n",
    "    print(sum)"
   ]
  },
  {
   "cell_type": "markdown",
   "id": "0a03f1db",
   "metadata": {},
   "source": [
    "### Q5"
   ]
  },
  {
   "cell_type": "code",
   "execution_count": 38,
   "id": "48578fff",
   "metadata": {},
   "outputs": [
    {
     "name": "stdout",
     "output_type": "stream",
     "text": [
      "5 3\n",
      "1 2 3 1 2\n",
      "7\n"
     ]
    }
   ],
   "source": [
    "import sys\n",
    "\n",
    "input = sys.stdin.readline\n",
    "#del input\n",
    "\n",
    "n, m = map(int, input().split())\n",
    "\n",
    "numbers = list(map(int, input().split()))\n",
    "sum = []\n",
    "temp = 0\n",
    "answer = 0\n",
    "\n",
    "for i in range(n):\n",
    "    temp = temp + numbers[i]\n",
    "    sum.append(temp%m)\n",
    "\n",
    "freq = [0]*m\n",
    "\n",
    "for i in sum:\n",
    "    if i == 0:\n",
    "        freq[i] += 1\n",
    "        answer += 1\n",
    "    else:\n",
    "        freq[i] += 1\n",
    "        \n",
    "for i in freq:\n",
    "    answer += i*(i-1)//2\n",
    "    \n",
    "print(answer)"
   ]
  }
 ],
 "metadata": {
  "kernelspec": {
   "display_name": "Python 3 (ipykernel)",
   "language": "python",
   "name": "python3"
  },
  "language_info": {
   "codemirror_mode": {
    "name": "ipython",
    "version": 3
   },
   "file_extension": ".py",
   "mimetype": "text/x-python",
   "name": "python",
   "nbconvert_exporter": "python",
   "pygments_lexer": "ipython3",
   "version": "3.10.9"
  }
 },
 "nbformat": 4,
 "nbformat_minor": 5
}
