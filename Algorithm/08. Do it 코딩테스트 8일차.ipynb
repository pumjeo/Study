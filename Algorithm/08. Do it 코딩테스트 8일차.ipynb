{
 "cells": [
  {
   "cell_type": "markdown",
   "id": "adac2d88",
   "metadata": {},
   "source": [
    "## Q26"
   ]
  },
  {
   "cell_type": "code",
   "execution_count": 1,
   "id": "60b854bd",
   "metadata": {},
   "outputs": [
    {
     "name": "stdout",
     "output_type": "stream",
     "text": [
      "4 5 1\n",
      "1 2\n",
      "1 3\n",
      "1 4\n",
      "2 4\n",
      "3 4\n",
      "1 2 4 3 \n",
      "1 2 3 4 "
     ]
    }
   ],
   "source": [
    "from collections import deque\n",
    "import sys\n",
    "sys.setrecursionlimit(10000)\n",
    "input = sys.stdin.readline\n",
    "del input\n",
    "\n",
    "N, M, start = map(int, input().split())\n",
    "\n",
    "A = [[] for _ in range(N+1)]\n",
    "visited = [False] * (N+1)\n",
    "\n",
    "for i in range(M):\n",
    "    s, e = map(int, input().split())\n",
    "    A[s].append(e)\n",
    "    A[e].append(s)\n",
    "\n",
    "for i in range(1, N+1):\n",
    "    A[i].sort()\n",
    "    \n",
    "def DFS(v):\n",
    "    print(v, end = ' ')\n",
    "    visited[v] = True\n",
    "    for i in A[v]:\n",
    "        if not visited[i]:\n",
    "            DFS(i)\n",
    "\n",
    "DFS(start)\n",
    "\n",
    "visited = [False] * (N+1)\n",
    "\n",
    "def BFS(v):\n",
    "    q = deque()\n",
    "    q.append(v)\n",
    "    visited[v] = True\n",
    "    while q:\n",
    "        now = q.popleft()\n",
    "        print(now, end=' ')\n",
    "        for i in A[now]:\n",
    "            if not visited[i]:\n",
    "                visited[i] = True\n",
    "                q.append(i)\n",
    "\n",
    "print()\n",
    "BFS(start)"
   ]
  },
  {
   "cell_type": "markdown",
   "id": "8fe43302",
   "metadata": {},
   "source": [
    "## Q27"
   ]
  },
  {
   "cell_type": "code",
   "execution_count": 10,
   "id": "7bc1a236",
   "metadata": {
    "scrolled": true
   },
   "outputs": [
    {
     "name": "stdout",
     "output_type": "stream",
     "text": [
      "4 6\n",
      "101111\n",
      "101010\n",
      "101011\n",
      "111011\n",
      "15\n"
     ]
    }
   ],
   "source": [
    "from collections import deque\n",
    "import sys\n",
    "input = sys.stdin.readline\n",
    "del input\n",
    "N, M = map(int, input().split())\n",
    "A = [[0]*M for _ in range(N)]\n",
    "visited = [[False] * M for _ in range(N)]\n",
    "\n",
    "dx = [0, 1, 0, -1]\n",
    "dy = [1, 0, -1, 0]\n",
    "\n",
    "for i in range(N):\n",
    "    numbers = list(input())\n",
    "    for j in range(M):\n",
    "        A[i][j] = int(numbers[j])\n",
    "        \n",
    "def BFS(i,j):\n",
    "    q = deque()\n",
    "    q.append((i,j))\n",
    "    visited[i][j] = True\n",
    "    \n",
    "    while q:\n",
    "        now = q.popleft()\n",
    "        for k in range(4):\n",
    "            new_x, new_y = now[0]+dx[k], now[1]+dy[k]\n",
    "            if (new_x >= 0) and (new_y >= 0) and (new_x < N) and (new_y < M):\n",
    "                if (A[new_x][new_y] != 0) and (not visited[new_x][new_y]):\n",
    "                    visited[new_x][new_y] = True\n",
    "                    A[new_x][new_y] = A[now[0]][now[1]] + 1\n",
    "                    q.append((new_x, new_y))\n",
    "                    \n",
    "BFS(0,0)\n",
    "print(A[N-1][M-1])"
   ]
  },
  {
   "cell_type": "markdown",
   "id": "d1acf060",
   "metadata": {},
   "source": [
    "## Q28"
   ]
  },
  {
   "cell_type": "code",
   "execution_count": 16,
   "id": "800f38d0",
   "metadata": {},
   "outputs": [
    {
     "name": "stdout",
     "output_type": "stream",
     "text": [
      "5\n",
      "1 3 2 -1\n",
      "2 4 4 -1\n",
      "3 1 2 4 3 -1\n",
      "4 2 4 3 3 5 6 -1\n",
      "5 4 6 -1\n",
      "11\n"
     ]
    }
   ],
   "source": [
    "from collections import deque\n",
    "import sys\n",
    "input = sys.stdin.readline\n",
    "del input\n",
    "N = int(input())\n",
    "\n",
    "A = [[] for _ in range(N+1)]\n",
    "\n",
    "for _ in range(N):\n",
    "    data = list(map(int, input().split()))\n",
    "    s = data[0]\n",
    "    index = 1\n",
    "    while True:\n",
    "        e = data[index]\n",
    "        if e == -1 : break\n",
    "        w = data[index+1]\n",
    "        A[s].append((e,w))\n",
    "        index += 2\n",
    "\n",
    "distance = [0] * (N+1)\n",
    "visited = [False] * (N+1)\n",
    "\n",
    "def BFS(v):\n",
    "    q = deque()\n",
    "    q.append(v)\n",
    "    visited[v] = True\n",
    "    while q:\n",
    "        now = q.popleft()\n",
    "        for i in A[now]:\n",
    "            if not visited[i[0]]:\n",
    "                visited[i[0]] = True\n",
    "                q.append(i[0])\n",
    "                distance[i[0]] = distance[now] + i[1]\n",
    "                \n",
    "BFS(1)\n",
    "Max = 1\n",
    "\n",
    "for i in range(2,N+1):\n",
    "    if distance[Max] < distance[i]: Max = i\n",
    "        \n",
    "distance = [0] * (N+1)\n",
    "visited = [False] * (N+1)\n",
    "BFS(Max)\n",
    "distance.sort()\n",
    "print(distance[N])"
   ]
  }
 ],
 "metadata": {
  "kernelspec": {
   "display_name": "Python 3 (ipykernel)",
   "language": "python",
   "name": "python3"
  },
  "language_info": {
   "codemirror_mode": {
    "name": "ipython",
    "version": 3
   },
   "file_extension": ".py",
   "mimetype": "text/x-python",
   "name": "python",
   "nbconvert_exporter": "python",
   "pygments_lexer": "ipython3",
   "version": "3.10.9"
  }
 },
 "nbformat": 4,
 "nbformat_minor": 5
}
