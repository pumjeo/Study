{
 "cells": [
  {
   "cell_type": "markdown",
   "id": "458cf41f",
   "metadata": {},
   "source": [
    "### Q20"
   ]
  },
  {
   "cell_type": "code",
   "execution_count": 13,
   "id": "ac19804f",
   "metadata": {},
   "outputs": [
    {
     "name": "stdout",
     "output_type": "stream",
     "text": [
      "6\n",
      "1\n",
      "29\n",
      "8\n",
      "7\n",
      "26\n",
      "2\n",
      "1\n",
      "\n",
      "2\n",
      "\n",
      "7\n",
      "\n",
      "8\n",
      "\n",
      "26\n",
      "\n",
      "29\n",
      "\n"
     ]
    }
   ],
   "source": [
    "import sys\n",
    "input = sys.stdin.readline\n",
    "print = sys.stdout.write\n",
    "\n",
    "del input\n",
    "del print\n",
    "\n",
    "def merge_sort(s, e):\n",
    "    if e - s < 1: return\n",
    "    m = int(s + (e - s) / 2)\n",
    "    merge_sort(s, m)\n",
    "    merge_sort(m + 1, e)\n",
    "    for i in range(s, e + 1):\n",
    "        tmp[i] = A[i]\n",
    "    k = s\n",
    "    index1 = s\n",
    "    index2 = m + 1\n",
    "    while index1 <= m and index2 <= e:\n",
    "        if tmp[index1] > tmp[index2]:\n",
    "            A[k] = tmp[index2]\n",
    "            k += 1\n",
    "            index2 += 1\n",
    "        else:\n",
    "            A[k] = tmp[index1]\n",
    "            k += 1\n",
    "            index1 += 1\n",
    "    while index1 <= m:\n",
    "        A[k] = tmp[index1]\n",
    "        k += 1\n",
    "        index1 += 1\n",
    "    while index2 <= e:\n",
    "        A[k] = tmp[index2]\n",
    "        k += 1\n",
    "        index2 += 1\n",
    "\n",
    "N = int(input())\n",
    "A = [0] * int(N+1)\n",
    "tmp = [0] * int(N+1)\n",
    "for i in range(1, N + 1):\n",
    "    A[i] = int(input())\n",
    "merge_sort(1, N)\n",
    "for i in range(1, N + 1):\n",
    "    print(str(A[i]) + '\\n')"
   ]
  },
  {
   "cell_type": "markdown",
   "id": "5d8a71fa",
   "metadata": {},
   "source": [
    "### Q21"
   ]
  },
  {
   "cell_type": "code",
   "execution_count": 19,
   "id": "27c1b29a",
   "metadata": {},
   "outputs": [
    {
     "name": "stdout",
     "output_type": "stream",
     "text": [
      "8\n",
      "3 2 8 1 7 4 5 6\n",
      "11\n"
     ]
    }
   ],
   "source": [
    "import sys\n",
    "input = sys.stdin.readline\n",
    "print = sys.stdout.write\n",
    "\n",
    "del input\n",
    "del print\n",
    "\n",
    "swap = 0\n",
    "\n",
    "def merge_sort(s, e):\n",
    "    global swap\n",
    "    \n",
    "    if e - s < 1: return\n",
    "    m = int(s + (e - s) / 2)\n",
    "    merge_sort(s, m)\n",
    "    merge_sort(m + 1, e)\n",
    "    for i in range(s, e + 1):\n",
    "        tmp[i] = A[i]\n",
    "    k = s\n",
    "    index1 = s\n",
    "    index2 = m + 1\n",
    "    while index1 <= m and index2 <= e:\n",
    "        if tmp[index1] > tmp[index2]:\n",
    "            A[k] = tmp[index2]\n",
    "            k += 1\n",
    "            index2 += 1\n",
    "            swap += (index2-k)\n",
    "        else:\n",
    "            A[k] = tmp[index1]\n",
    "            k += 1\n",
    "            index1 += 1\n",
    "    while index1 <= m:\n",
    "        A[k] = tmp[index1]\n",
    "        k += 1\n",
    "        index1 += 1\n",
    "    while index2 <= e:\n",
    "        A[k] = tmp[index2]\n",
    "        k += 1\n",
    "        index2 += 1\n",
    "\n",
    "N = int(input())\n",
    "A = [0] + list(map(int, input().split()))\n",
    "tmp = [0] * int(N+1)\n",
    "\n",
    "merge_sort(1, N)\n",
    "    \n",
    "print(str(swap))"
   ]
  },
  {
   "cell_type": "markdown",
   "id": "eb712e38",
   "metadata": {},
   "source": [
    "### Q22"
   ]
  },
  {
   "cell_type": "code",
   "execution_count": 40,
   "id": "db858e88",
   "metadata": {},
   "outputs": [
    {
     "name": "stdout",
     "output_type": "stream",
     "text": [
      "7\n",
      "10\n",
      "8\n",
      "5\n",
      "7\n",
      "10\n",
      "3\n",
      "2\n",
      "2\n",
      "\n",
      "3\n",
      "\n",
      "5\n",
      "\n",
      "7\n",
      "\n",
      "8\n",
      "\n",
      "10\n",
      "\n",
      "10\n",
      "\n"
     ]
    }
   ],
   "source": [
    "import sys\n",
    "input = sys.stdin.readline\n",
    "print = sys.stdout.write\n",
    "\n",
    "del input\n",
    "del print\n",
    "\n",
    "N = int(input())\n",
    "A = [0]+[int(input()) for i in range(N)]\n",
    "\n",
    "count = [0] * (10001)\n",
    "\n",
    "for i in range(1, N+1):\n",
    "    count[A[i]] += 1\n",
    "\n",
    "for i in range(1,10001):\n",
    "    for j in range(count[i]):\n",
    "        print(str(i)+'\\n')"
   ]
  }
 ],
 "metadata": {
  "kernelspec": {
   "display_name": "Python 3 (ipykernel)",
   "language": "python",
   "name": "python3"
  },
  "language_info": {
   "codemirror_mode": {
    "name": "ipython",
    "version": 3
   },
   "file_extension": ".py",
   "mimetype": "text/x-python",
   "name": "python",
   "nbconvert_exporter": "python",
   "pygments_lexer": "ipython3",
   "version": "3.10.9"
  }
 },
 "nbformat": 4,
 "nbformat_minor": 5
}
