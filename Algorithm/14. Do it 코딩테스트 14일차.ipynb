{
 "cells": [
  {
   "cell_type": "markdown",
   "id": "adac2d88",
   "metadata": {},
   "source": [
    "## Q46"
   ]
  },
  {
   "cell_type": "code",
   "execution_count": 19,
   "id": "75253a25",
   "metadata": {},
   "outputs": [
    {
     "name": "stdout",
     "output_type": "stream",
     "text": [
      "4 4 2 1\n",
      "1 2\n",
      "1 3\n",
      "2 3\n",
      "2 4\n",
      "4\n"
     ]
    }
   ],
   "source": [
    "from collections import deque\n",
    "import sys\n",
    "input = sys.stdin.readline\n",
    "del input\n",
    "\n",
    "N, M, K, X = map(int, input().split())\n",
    "A = [[] for _ in range(N+1)]\n",
    "visited = [False] * (N+1)\n",
    "D = [0] * (N+1)\n",
    "\n",
    "for _ in range(M):\n",
    "    a, b = map(int, input().split())\n",
    "    A[a].append(b)\n",
    "\n",
    "def BFS(v):\n",
    "    q = deque()\n",
    "    q.append(v)\n",
    "    visited[v] = True\n",
    "    \n",
    "    while q:\n",
    "        new = q.popleft()\n",
    "        for i in A[new]:\n",
    "            if not visited[i]:\n",
    "                D[i] = D[new]+1\n",
    "                visited[i] = True\n",
    "                q.append(i)\n",
    "\n",
    "BFS(X)\n",
    "\n",
    "indicator = False\n",
    "\n",
    "for i in range(1, N+1):\n",
    "    if D[i] == K : \n",
    "        indicator = True\n",
    "        print(i)\n",
    "\n",
    "if not indicator : print(-1)"
   ]
  },
  {
   "cell_type": "markdown",
   "id": "8fe43302",
   "metadata": {},
   "source": [
    "## Q47"
   ]
  },
  {
   "cell_type": "code",
   "execution_count": 39,
   "id": "88405108",
   "metadata": {},
   "outputs": [
    {
     "name": "stdout",
     "output_type": "stream",
     "text": [
      "5 4\n",
      "3 1\n",
      "3 2\n",
      "4 3\n",
      "5 3\n",
      "1 2 "
     ]
    }
   ],
   "source": [
    "from collections import deque\n",
    "import sys\n",
    "input = sys.stdin.readline\n",
    "del input\n",
    "\n",
    "N, M = map(int, input().split())\n",
    "A = [[] for _ in range(N+1)]\n",
    "D = [0] * (N+1)\n",
    "\n",
    "for _ in range(M):\n",
    "    s, e = map(int, input().split())\n",
    "    A[s].append(e)\n",
    "    \n",
    "def BFS(v):\n",
    "    q = deque()\n",
    "    q.append(v)\n",
    "    visited[v] = True\n",
    "    while q:\n",
    "        new = q.popleft()\n",
    "        for i in A[new]:\n",
    "            if not visited[i] :\n",
    "                visited[i] = True\n",
    "                D[i] += 1\n",
    "                q.append(i)\n",
    "                \n",
    "for i in range(1, N+1):\n",
    "    visited = [False] * (N+1)\n",
    "    BFS(i)\n",
    "\n",
    "max = 0\n",
    "for i in range(1, N+1):\n",
    "    if max<D[i] : max = D[i]\n",
    "\n",
    "for i in range(1, N+1):\n",
    "    if max == D[i] : print(i, end=' ')"
   ]
  },
  {
   "cell_type": "markdown",
   "id": "d1acf060",
   "metadata": {},
   "source": [
    "## Q48"
   ]
  },
  {
   "cell_type": "code",
   "execution_count": 44,
   "id": "aff12a4f",
   "metadata": {},
   "outputs": [
    {
     "name": "stdout",
     "output_type": "stream",
     "text": [
      "2\n",
      "3 2\n",
      "1 3\n",
      "2 3\n",
      "YES\n",
      "4 4\n",
      "1 2\n",
      "2 3\n",
      "3 4\n",
      "4 2\n",
      "NO\n"
     ]
    }
   ],
   "source": [
    "import sys\n",
    "sys.setrecursionlimit(10000)\n",
    "input = sys.stdin.readline\n",
    "del input\n",
    "\n",
    "N = int(input())\n",
    "\n",
    "def DFS(v):\n",
    "    global IsEven\n",
    "    visited[v] = True\n",
    "    for i in A[v]:\n",
    "        if not visited[i]:\n",
    "            check[i] = (check[v]+1)%2\n",
    "            DFS(i)\n",
    "        elif check[v] == check[i]:\n",
    "            IsEven = False\n",
    "            \n",
    "for _ in range(N):\n",
    "    V, E = map(int, input().split())\n",
    "    A = [[] for _ in range(V+1)]\n",
    "    visited = [False] * (V+1)\n",
    "    check = [0] * (V+1)\n",
    "    IsEven = True\n",
    "    \n",
    "    for i in range(E):\n",
    "        s, e = map(int, input().split())\n",
    "        A[s].append(e)\n",
    "        A[e].append(s)\n",
    "        \n",
    "    for i in range(1, V+1):\n",
    "        if IsEven:\n",
    "            DFS(i)\n",
    "        else : break\n",
    "            \n",
    "    if IsEven : print(\"YES\")\n",
    "    else : print(\"NO\")"
   ]
  },
  {
   "cell_type": "markdown",
   "id": "f5cbdc63",
   "metadata": {},
   "source": [
    "## Q49"
   ]
  },
  {
   "cell_type": "code",
   "execution_count": 46,
   "id": "935f41d2",
   "metadata": {},
   "outputs": [
    {
     "name": "stdout",
     "output_type": "stream",
     "text": [
      "8 9 10\n",
      "1 2 8 9 10 "
     ]
    }
   ],
   "source": [
    "from collections import deque\n",
    "\n",
    "Sender = [0,0,1,1,2,2]\n",
    "Receiver = [1,2,0,2,0,1]\n",
    "now = list(map(int, input().split()))\n",
    "visited = [[False for j in range(201)] for i in range(201)]\n",
    "answer = [False] * 201\n",
    "\n",
    "def BFS():\n",
    "    queue = deque()\n",
    "    queue.append((0,0))\n",
    "    visited[0][0] = True\n",
    "    answer[now[2]] = True\n",
    "    while queue:\n",
    "        now_node = queue.popleft()\n",
    "        A = now_node[0]\n",
    "        B = now_node[1]\n",
    "        C = now[2] - A - B\n",
    "        for k in range(6):\n",
    "            next = [A, B, C]\n",
    "            next[Receiver[k]] += next[Sender[k]]\n",
    "            next[Sender[k]] = 0\n",
    "            if next[Receiver[k]] > now[Receiver[k]]:\n",
    "                next[Sender[k]] = next[Receiver[k]] - now[Receiver[k]]\n",
    "                next[Receiver[k]] = now[Receiver[k]]\n",
    "            if not visited[next[0]][next[1]]:\n",
    "                visited[next[0]][next[1]] = True\n",
    "                queue.append((next[0],next[1]))\n",
    "                if next[0] == 0:\n",
    "                    answer[next[2]] = True\n",
    "\n",
    "BFS()\n",
    "\n",
    "for i in range(len(answer)):\n",
    "    if answer[i]:\n",
    "        print(i, end = ' ')"
   ]
  }
 ],
 "metadata": {
  "kernelspec": {
   "display_name": "Python 3 (ipykernel)",
   "language": "python",
   "name": "python3"
  },
  "language_info": {
   "codemirror_mode": {
    "name": "ipython",
    "version": 3
   },
   "file_extension": ".py",
   "mimetype": "text/x-python",
   "name": "python",
   "nbconvert_exporter": "python",
   "pygments_lexer": "ipython3",
   "version": "3.10.9"
  }
 },
 "nbformat": 4,
 "nbformat_minor": 5
}
