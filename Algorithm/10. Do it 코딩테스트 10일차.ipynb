{
 "cells": [
  {
   "cell_type": "markdown",
   "id": "adac2d88",
   "metadata": {},
   "source": [
    "## Q32"
   ]
  },
  {
   "cell_type": "code",
   "execution_count": 5,
   "id": "75253a25",
   "metadata": {},
   "outputs": [
    {
     "name": "stdout",
     "output_type": "stream",
     "text": [
      "10 4790\n",
      "1\n",
      "5\n",
      "10\n",
      "50\n",
      "100\n",
      "500\n",
      "1000\n",
      "5000\n",
      "10000\n",
      "50000\n",
      "Down!\n",
      "Down!\n",
      "Down!\n",
      "count :  4\n",
      "Down!\n",
      "count :  5\n",
      "Down!\n",
      "count :  7\n",
      "Down!\n",
      "count :  8\n",
      "Down!\n",
      "count :  12\n",
      "Down!\n",
      "Down!\n"
     ]
    }
   ],
   "source": [
    "import sys\n",
    "input = sys.stdin.readline\n",
    "del input\n",
    "\n",
    "N, K = map(int, input().split())\n",
    "A = [0] * N\n",
    "\n",
    "for i in range(N):\n",
    "    A[i] = int(input())\n",
    "    \n",
    "count = 0\n",
    "now_i = len(A)-1\n",
    "\n",
    "while K != 0:\n",
    "    if A[now_i] > K :\n",
    "        now_i -= 1\n",
    "    else :\n",
    "        count += (K//A[now_i])\n",
    "        K -= (K//A[now_i]) * A[now_i]"
   ]
  },
  {
   "cell_type": "markdown",
   "id": "8fe43302",
   "metadata": {},
   "source": [
    "## Q33"
   ]
  },
  {
   "cell_type": "code",
   "execution_count": 8,
   "id": "88405108",
   "metadata": {},
   "outputs": [
    {
     "name": "stdout",
     "output_type": "stream",
     "text": [
      "3\n",
      "10\n",
      "20\n",
      "40\n",
      "100\n"
     ]
    }
   ],
   "source": [
    "import sys\n",
    "import heapq\n",
    "input = sys.stdin.readline\n",
    "del input\n",
    "\n",
    "N = int(input())\n",
    "A = [0] * N\n",
    "\n",
    "for i in range(N):\n",
    "    A[i] = int(input())\n",
    "    \n",
    "heapq.heapify(A)\n",
    "\n",
    "card1 = 0\n",
    "card2 = 0\n",
    "total_sum = 0\n",
    "\n",
    "while len(A)>1:\n",
    "    card1 = heapq.heappop(A)\n",
    "    card2 = heapq.heappop(A)\n",
    "    temp = card1 + card2\n",
    "    total_sum += temp\n",
    "    heapq.heappush(A, temp)\n",
    "    \n",
    "print(total_sum)"
   ]
  },
  {
   "cell_type": "markdown",
   "id": "d1acf060",
   "metadata": {},
   "source": [
    "## Q34"
   ]
  },
  {
   "cell_type": "code",
   "execution_count": 29,
   "id": "bd240616",
   "metadata": {},
   "outputs": [
    {
     "name": "stdout",
     "output_type": "stream",
     "text": [
      "9\n",
      "-1\n",
      "-8\n",
      "2\n",
      "1\n",
      "3\n",
      "6\n",
      "-5\n",
      "0\n",
      "1\n",
      "62\n"
     ]
    }
   ],
   "source": [
    "import sys\n",
    "import heapq as hq\n",
    "input = sys.stdin.readline\n",
    "del input\n",
    "\n",
    "N = int(input())\n",
    "heap_max = []\n",
    "heap_min = []\n",
    "list_zero = []\n",
    "list_one = []\n",
    "\n",
    "for _ in range(N):\n",
    "    num = int(input())\n",
    "    if num==0 : list_zero.append(num)\n",
    "    elif num==1 : list_one.append(num)\n",
    "    elif num > 1 : hq.heappush(heap_max, -num)\n",
    "    else : hq.heappush(heap_min, num)\n",
    "    \n",
    "total_sum=0\n",
    "\n",
    "while len(heap_min)>1:\n",
    "    cand1 = hq.heappop(heap_min)\n",
    "    cand2 = hq.heappop(heap_min)\n",
    "    total_sum += cand1*cand2\n",
    "if (len(heap_min) == 1) and (len(list_zero) == 0) : total_sum += hq.heappop(heap_min)\n",
    "    \n",
    "while len(heap_max)>1:\n",
    "    cand1 = -hq.heappop(heap_max)\n",
    "    cand2 = -hq.heappop(heap_max)\n",
    "    total_sum += cand1*cand2\n",
    "if (len(heap_max) == 1) : total_sum += -hq.heappop(heap_max)\n",
    "\n",
    "for _ in list_one:\n",
    "    total_sum += 1\n",
    "\n",
    "print(total_sum)"
   ]
  }
 ],
 "metadata": {
  "kernelspec": {
   "display_name": "Python 3 (ipykernel)",
   "language": "python",
   "name": "python3"
  },
  "language_info": {
   "codemirror_mode": {
    "name": "ipython",
    "version": 3
   },
   "file_extension": ".py",
   "mimetype": "text/x-python",
   "name": "python",
   "nbconvert_exporter": "python",
   "pygments_lexer": "ipython3",
   "version": "3.10.9"
  }
 },
 "nbformat": 4,
 "nbformat_minor": 5
}
