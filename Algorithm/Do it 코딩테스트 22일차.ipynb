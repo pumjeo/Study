{
 "cells": [
  {
   "cell_type": "markdown",
   "id": "adac2d88",
   "metadata": {},
   "source": [
    "## Q81"
   ]
  },
  {
   "cell_type": "code",
   "execution_count": 2,
   "id": "33baa5b2",
   "metadata": {},
   "outputs": [
    {
     "name": "stdout",
     "output_type": "stream",
     "text": [
      "4\n",
      "2 1 3 2 4\n",
      "3\n"
     ]
    }
   ],
   "source": [
    "import sys\n",
    "input = sys.stdin.readline\n",
    "del input\n",
    "\n",
    "N = int(input())\n",
    "ques = list(map(int, input().split()))\n",
    "\n",
    "F = [0] * 21\n",
    "F[0] = 1\n",
    "for i in range(1, N+1):\n",
    "    F[i] = F[i-1] * i\n",
    "S = [0] * 21\n",
    "visited = [False] * 21\n",
    "\n",
    "if ques[0]==1:\n",
    "    K = ques[1]\n",
    "    for i in range(1, N+1):\n",
    "        cnt = 1\n",
    "        for j in range(1, N+1):\n",
    "            if visited[j]: continue\n",
    "            if K <= cnt*F[N-i]:\n",
    "                K -= (cnt-1)*F[N-i]\n",
    "                S[i] = j\n",
    "                visited[j] = True\n",
    "                break\n",
    "            cnt += 1\n",
    "    for i in range(1, N+1):\n",
    "        print(S[i], end=' ')\n",
    "    \n",
    "else :\n",
    "    K = 1\n",
    "    for i in range(1, N+1):\n",
    "        cnt = 0\n",
    "        for j in range(1, ques[i]):\n",
    "            if not visited[j]:\n",
    "                cnt += 1\n",
    "        K += cnt * F[N-i]\n",
    "        visited[ques[i]] = True\n",
    "    print(K)"
   ]
  },
  {
   "cell_type": "markdown",
   "id": "8a6e8eed",
   "metadata": {},
   "source": [
    "## Q82"
   ]
  },
  {
   "cell_type": "code",
   "execution_count": 13,
   "id": "23a785e9",
   "metadata": {
    "scrolled": true
   },
   "outputs": [
    {
     "name": "stdout",
     "output_type": "stream",
     "text": [
      "2 2 2\n",
      "azaz"
     ]
    }
   ],
   "source": [
    "import sys\n",
    "input = sys.stdin.readline\n",
    "del input\n",
    "\n",
    "N, M, K = map(int, input().split())\n",
    "D = [[0 for _ in range(201)] for _ in range(201)]\n",
    "\n",
    "for i in range(0, 201):\n",
    "    D[i][0] = 1\n",
    "    D[i][1] = i\n",
    "    D[i][i] = 1\n",
    "\n",
    "for i in range(1, 201):\n",
    "    for j in range(1, i+1):\n",
    "        D[i][j] = D[i-1][j-1] + D[i-1][j]\n",
    "\n",
    "if D[N+M][M] < K: print(-1)\n",
    "else:\n",
    "    while not (N==0 and M==0):\n",
    "        if D[N-1+M][M] >= K:\n",
    "            print(\"a\", end='')\n",
    "            N -= 1\n",
    "        else :\n",
    "            print(\"z\", end='')\n",
    "            K -= D[N-1+M][M]\n",
    "            M -= 1"
   ]
  },
  {
   "cell_type": "markdown",
   "id": "838622f1",
   "metadata": {},
   "source": [
    "## Q83"
   ]
  },
  {
   "cell_type": "code",
   "execution_count": 2,
   "id": "d35e3394",
   "metadata": {},
   "outputs": [
    {
     "name": "stdout",
     "output_type": "stream",
     "text": [
      "5\n",
      "44\n"
     ]
    }
   ],
   "source": [
    "N = int(input())\n",
    "MOD = 1000000000\n",
    "D = [0] * 1000001\n",
    "D[1] = 0\n",
    "D[2] = 1\n",
    "\n",
    "for i in range(3, N+1):\n",
    "    D[i] = (i-1) * (D[i-1] + D[i-2]) % MOD\n",
    "    \n",
    "print(D[N])"
   ]
  }
 ],
 "metadata": {
  "kernelspec": {
   "display_name": "Python 3 (ipykernel)",
   "language": "python",
   "name": "python3"
  },
  "language_info": {
   "codemirror_mode": {
    "name": "ipython",
    "version": 3
   },
   "file_extension": ".py",
   "mimetype": "text/x-python",
   "name": "python",
   "nbconvert_exporter": "python",
   "pygments_lexer": "ipython3",
   "version": "3.10.9"
  }
 },
 "nbformat": 4,
 "nbformat_minor": 5
}
